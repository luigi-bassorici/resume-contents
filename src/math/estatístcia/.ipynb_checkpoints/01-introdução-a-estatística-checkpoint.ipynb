{
 "cells": [
  {
   "cell_type": "code",
   "execution_count": 1,
   "id": "965a6564",
   "metadata": {
    "ExecuteTime": {
     "end_time": "2022-09-15T00:47:47.903717Z",
     "start_time": "2022-09-15T00:47:47.274459Z"
    }
   },
   "outputs": [
    {
     "name": "stdout",
     "output_type": "stream",
     "text": [
      "Reset css and font defaults in:\r\n",
      "/home/hydraxler/.jupyter/custom &\r\n",
      "/home/hydraxler/.local/share/jupyter/nbextensions\r\n"
     ]
    }
   ],
   "source": [
    "! jt -r"
   ]
  },
  {
   "cell_type": "markdown",
   "id": "eb21a3bc",
   "metadata": {},
   "source": [
    "# básico do básico"
   ]
  },
  {
   "cell_type": "markdown",
   "id": "6a374e7d",
   "metadata": {
    "heading_collapsed": true
   },
   "source": [
    "### ciclo de dados e pra que serve a estatística\n"
   ]
  },
  {
   "cell_type": "markdown",
   "id": "19696abd",
   "metadata": {
    "hidden": true
   },
   "source": [
    "A estatistica é uma area da matemática que contem uma série de maracutaias para analisar dados, e gerar insights através de calculos e expressões, mas principalmente o pensamento anlítico e estatístico.\n",
    "\n",
    "o ciclo de dados é o caminho que uma informação percorre até o ponto de gerar informações úteis para quem as pesquisa, normalmente:\n",
    "\n",
    "\n",
    "- coleta\n",
    "- tratamento\n",
    "- manipulação e análise\n",
    "- plotagem\n",
    "- apresentação\n",
    "\n",
    "\n",
    "A \"fase\" em que usamos a estatística é na análize e manipulação"
   ]
  },
  {
   "cell_type": "markdown",
   "id": "5f45055f",
   "metadata": {
    "heading_collapsed": true
   },
   "source": [
    "### variância"
   ]
  },
  {
   "cell_type": "markdown",
   "id": "17d447d2",
   "metadata": {
    "hidden": true
   },
   "source": [
    "alta ou baixa ?\n",
    "\n",
    "quando analisamos vários dados, eles podem apresentar comportamentos abruptamente diferentes ou podem ser algo dentro do esperado.\n",
    "\n",
    "vou fazer uma célular de python para extrair a média de dois grupos de dados..."
   ]
  },
  {
   "cell_type": "code",
   "execution_count": 2,
   "id": "636e1922",
   "metadata": {
    "ExecuteTime": {
     "end_time": "2022-09-13T21:22:42.141059Z",
     "start_time": "2022-09-13T21:22:42.135266Z"
    },
    "hidden": true,
    "scrolled": false
   },
   "outputs": [
    {
     "name": "stdout",
     "output_type": "stream",
     "text": [
      "a média de altura é de : 172.33333333333334\n",
      "a média de vezes que eles vã oa essa padaria por ano é de: 805.5833333333334\n"
     ]
    }
   ],
   "source": [
    "# x é a altura arredondada de algumas das pessoas que trabalham na minha impresa em centrimetros\n",
    "x = (176, 180, 160, 191, 154, 170, 182, 180, 170, 160, 159, 186)\n",
    "média = sum(x) / len(x)\n",
    "print(f'a média de altura é de : {média}')\n",
    "\n",
    "# y é a quantidade de vezes que esses meus amigos foram a padaria perto da minha casa nos ultimos 10 anos\n",
    "y = (0, 0, 1, 12, 2000, 3650, 4000, 0, 0, 0, 0, 4) # exemplo ruim\n",
    "média2 = sum(y) / len(y)\n",
    "print(f'a média de vezes que eles vã oa essa padaria por ano é de: {média2}')"
   ]
  },
  {
   "cell_type": "markdown",
   "id": "701badc7",
   "metadata": {
    "hidden": true
   },
   "source": [
    "no primeiro exemplo temos algo dentro do esperado, portanto o resultado não destoa da realidade da maioria\n",
    "\n",
    "já no segundo exemplo vemos que o resultado parece longe tanto dos que aparentemente moram perto de mim dos que moram longe, logo temos uma variação grande nos dados.\n",
    "\n",
    "logo soa estranho eu dizer que na média a rapaziada do trabalho vai a minha padaria pelo menos umas 80 vezes por ano, já que a maioria nem vai"
   ]
  },
  {
   "cell_type": "markdown",
   "id": "1280e3a0",
   "metadata": {
    "heading_collapsed": true
   },
   "source": [
    "### quais são as perguntas estatísticas ?"
   ]
  },
  {
   "cell_type": "markdown",
   "id": "76ca2bb1",
   "metadata": {
    "hidden": true
   },
   "source": [
    "são aquelas que eu preciso fazer uma análise dos dados antes de poder responder\n",
    "\n",
    "as que não são, são fácilmente identificadas, já que não há analise na sua resposta, a pergunta já vem com uma inferencia inbutida"
   ]
  },
  {
   "cell_type": "markdown",
   "id": "3ac6b876",
   "metadata": {},
   "source": [
    "### população e amostra "
   ]
  },
  {
   "cell_type": "markdown",
   "id": "573270e6",
   "metadata": {},
   "source": [
    "quando eu quero analisar dados de grandes de uma quantidade enorme de individuos ao ponto de ser inviável a captaçãode todos esses dados ou até mesmo o processamento deles, eu preciso selecionar uma parte relevante desses individuos para analisar e poder inferir sobre todos os outros."
   ]
  },
  {
   "cell_type": "markdown",
   "id": "5108a3f4",
   "metadata": {},
   "source": [
    "população:\n",
    "\n",
    "    é o geral, todos os indivíduos de x características.\n",
    "        \n",
    "        \n",
    "amostra:\n",
    "\n",
    "    é o grupo de indivíduos pertencente a população que eu irei analisar.        "
   ]
  },
  {
   "cell_type": "markdown",
   "id": "290966dd",
   "metadata": {},
   "source": [
    "ex. de situação:\n",
    "\n",
    "\n",
    "quero extrair uma informação a respeito dos brasileiros homens com idade entre 30 e 35 anos que praticam esportes\n",
    "\n",
    "\n",
    "logo a população será todos os indivíduos que se encaixarem nessas caracteristicas, vamos chutar aqui 2m.\n",
    "\n",
    "\n",
    "como fica inviável eu preciso retirar dessa população um grupo menor de pessoas, que eu possa receber os dados e processa-los, portanto eu vou analisar os dados de 8 mil homens.\n",
    "\n",
    "\n",
    "esses 8 mil serão minha amostra"
   ]
  },
  {
   "cell_type": "markdown",
   "id": "e2733ed2",
   "metadata": {
    "heading_collapsed": true
   },
   "source": [
    "# amostra aleatória simples"
   ]
  },
  {
   "cell_type": "markdown",
   "id": "02257966",
   "metadata": {
    "hidden": true
   },
   "source": [
    "é preciso gerar amostras que sejam aleatórias dentro da sua populção, caso contrário que valor terá minha pesquisa, uma vez que ela só chegou a esse resultado porque eu fiz isso ou deixei de fazer aquilo.\n",
    "\n",
    "para se livrar de viezes é preciso primeiramente gerar uma amostra de forma aleatória, para ter uma fração do todo que represente esse todo.\n",
    "\n",
    "a maneira mais simples de fazer isso seria por exemplo enumerar todos os homens e fazer a velha ideia do papel amaçado no potinho.\n",
    "\n",
    "não né! já que os humanos são horriveis em aleatóriedade e lentos para fazer todo esse processo, podemos pedir para um computador fazer isso por nós.\n",
    "\n",
    "a maneira de fazer isso é através de um programa de computador, ou seja,um conjunto instruções do que e como fazer para a máquina.\n",
    "\n",
    "vamos então fazer um script simples de python capaz de fazer isso"
   ]
  },
  {
   "cell_type": "code",
   "execution_count": null,
   "id": "d9ceb0be",
   "metadata": {
    "ExecuteTime": {
     "start_time": "2022-09-15T00:40:48.366Z"
    },
    "hidden": true,
    "scrolled": false
   },
   "outputs": [],
   "source": [
    "from random import randint\n",
    "\n",
    "# a minha quest é o seguinte:\n",
    "# quero escolher 10% dos meus 550 alunos para responderem a uma pesquisa de forma aleatória\n",
    "# vamos dar para cada aluno um número e pedir para o pc sortear 55 números\n",
    "\n",
    "alunos = []\n",
    "while len(alunos) < 55:\n",
    "    sorteado = randint(1, 551)\n",
    "    if sorteado not in alunos:\n",
    "        alunos.append(sorteado)\n",
    "# 55 launos diferentes escolhidos aleatóriamente\n",
    "\n",
    "print(f'len = {len(alunos)}')\n",
    "print(alunos)\n",
    "# e assim temos um amostra de 55 números aleatóriamente retirados da minha população"
   ]
  },
  {
   "cell_type": "markdown",
   "id": "1727f215",
   "metadata": {
    "heading_collapsed": true
   },
   "source": [
    "# aleatório é imparcial ?"
   ]
  },
  {
   "cell_type": "markdown",
   "id": "fd15f6c5",
   "metadata": {
    "hidden": true
   },
   "source": [
    "não necessáriamente, nesse exmplo de amostras aleatória simples por exemplo, os 55 números podem corresponder a 85% homens , ou 80% dos alunos escolhidos serem calouros veteranos.\n",
    "\n",
    "enfim essa amostra pode ser inviesada, e apresentar análises completamente incondizentes com o resto da escola.\n",
    "\n",
    "mas quando apenas entregamos a população para um gerador aleatório , podemos estar negligenciando variáveis que podem distorcer a nossa pesquisa. \n",
    "\n",
    "por isso as vezes temos que delimitar um espaço para usar a aleatóriedade. veja o próximo tópico\n"
   ]
  },
  {
   "cell_type": "markdown",
   "id": "671ef00a",
   "metadata": {
    "heading_collapsed": true
   },
   "source": [
    "# amostra aleatória complexa"
   ]
  },
  {
   "cell_type": "markdown",
   "id": "23084694",
   "metadata": {
    "hidden": true
   },
   "source": [
    "então usamos um gerador aleatório para desenvolver uma amostra retirada sem vieses humanos"
   ]
  },
  {
   "cell_type": "markdown",
   "id": "1362e206",
   "metadata": {
    "hidden": true
   },
   "source": [
    "mas precisamos guiar de forma conciente esse gerador dentro das caracteristticas da população, para que ele não gere uma amostra tendenciosa dentro da nossa população"
   ]
  },
  {
   "cell_type": "markdown",
   "id": "aab654c2",
   "metadata": {
    "heading_collapsed": true,
    "hidden": true
   },
   "source": [
    "### amostragem estratificada"
   ]
  },
  {
   "cell_type": "markdown",
   "id": "cc3f32c8",
   "metadata": {
    "hidden": true
   },
   "source": [
    "separamos a nossa população através de algumas váriaveis, criando extratos da população que devem ser representados pela amostra.\n",
    "\n",
    "como por exemplo em uma pesquisa escolar a respeito da duração do recreio devemos ter em mente que na população de \"envolvidos no recreio\" teremos alunos de diferentes idade, teremos funcionários, teremos meninos e meninas e até professores que devem possuir sua parte na amostra, portanto devo estratificar essa população \n",
    "e escolher reperesentantes de cada extrato para esses comporem a amostra.\n",
    "\n",
    "claro que essa escolha dentro do estrato deve ser feita de forma aleatória, então ali usaremos um gerador.\n",
    "\n",
    "note que estamos alinhando a capacidade de ser aleatório de um computador com o bom senso do humano para gerar insights que possamos inferir sobre toda a população\n",
    "\n",
    "vamos a mais um exemplo:"
   ]
  },
  {
   "cell_type": "markdown",
   "id": "5b556f6d",
   "metadata": {
    "heading_collapsed": true,
    "hidden": true
   },
   "source": [
    "#### exemplo"
   ]
  },
  {
   "cell_type": "markdown",
   "id": "29b18aea",
   "metadata": {
    "hidden": true
   },
   "source": [
    "vamos supor que queremos fazer uma pesquisa cujo publico alvo sejam jovens de 15 a 20 sobre carreira. não é justo eu comparar 'joão' por exemplo um jovem de uma camada social marginalizada, que aos seus 15 anos já precisa trabalhar e não tem planos de longo prazo sobre carreia, com 'maria' uma jovem de classe média alta com 19 anos quejá está fazendo uma faculdade paga pelo seu pai, e provavelmente terá um emprego garantido pois os seus pais são figuras conhecidas.\n",
    "\n",
    "logo apresentar uma análise que não represente proporcionalmente a quantidade de 'joãozinhos' e 'mariazinhas' na população pode resultar em insights que não serão verdadeiros para a população, por exemplo posso obter dados que na média tendem a estar mais próximos da realidade pessimista de joão exemplo, porque por mero acaso eu coletei mais dados de joãozinhos do que deveria fazer proporcionalmente.\n",
    "\n",
    "vou exemplificar com números:"
   ]
  },
  {
   "cell_type": "markdown",
   "id": "3e0e9c2f",
   "metadata": {
    "hidden": true
   },
   "source": [
    "população: jovens de 15 - 20 anos que moram em santa cruz do sul (40 mil)\n",
    "\n",
    "para cada 100 jovens temos :\n",
    "sexo:\n",
    "57 mulheres \n",
    "43 homens \n",
    "\n",
    "classes:\n",
    "35 pobres,\n",
    "30 de classe média baixa,\n",
    "20 de classe média alta,\n",
    "15 ricos\n",
    "\n",
    "logo em uma amostra com 1000 pessoas deve possuir representantes desses 8 extratos (pobres homens, pobres mulheres...)\n",
    "\n",
    "[estou ignorando o fato de existirem outras variáveis]\n",
    "\n",
    "a amostra deve buscar dentre os extratos aproximadamente:\n",
    "\n",
    "199 mulheres pobres\n",
    "151 homens pobres\n",
    "\n",
    "171 mulheres de classe média baixa\n",
    "129 homens de classe média baixa\n",
    "\n",
    "114 mulheres de classe média alta\n",
    "86 homens de classe média alta\n",
    "\n",
    "86 mulheres ricas\n",
    "64 homens ricos\n",
    "\n",
    "assim teremos uma amostra de 1.000 pessoas respeitando a representatividade dos extratos que nós por bom senso criamos.\n",
    "\n",
    "agora imagine a capacidade que o 'mero acaso' tem de distorcer os resultados dos dados obtidos por entrevistar uma amostra que não representa a população. como por exemplo uma amostra com mais homens que mulheres e mais jovens de camadas elevadas da sociedade. ou um estrato só ser prejudicado como por exemplo as mulheres pobres!\n",
    "\n",
    "chamamos essa amostra de 'amostra viviada'."
   ]
  },
  {
   "cell_type": "markdown",
   "id": "ce3c2c32",
   "metadata": {
    "heading_collapsed": true
   },
   "source": [
    "# tipos de estudos estatísticos"
   ]
  },
  {
   "cell_type": "markdown",
   "id": "c10fad38",
   "metadata": {
    "hidden": true
   },
   "source": [
    "estudo:\n",
    "- amostral\n",
    "- observacional\n",
    "- experimental"
   ]
  },
  {
   "cell_type": "markdown",
   "id": "66ad5390",
   "metadata": {
    "heading_collapsed": true,
    "hidden": true
   },
   "source": [
    "### amostral"
   ]
  },
  {
   "cell_type": "markdown",
   "id": "03423b9b",
   "metadata": {
    "hidden": true
   },
   "source": [
    "um estudo amostral (massivamente estudado aqui em cima), extrai e analisa dados de uma parte da população, porque é comunmente impraticável o fazer isso com a população toda.\n",
    "\n",
    "exemplo disso é :\n",
    "\n",
    "eu quero analisar a aceitação do presidente da borunlândia, mas não posso perguntar a cada eleitor sobre o que ele acha do atual governo, mas posso pegar uma quantidade suficientemente convincente da população e analiso a respostas dessa amostra, afim de inferir sobre todos os outros.\n",
    "\n",
    "[a princípio isso não me parece muito válido por conta das diversas variáveis que devem distorcer isso como por exemplo, pessoas com mais insatisfação podem ter mais motivação a participar disso, assim como se for uma pesquisa voluntária dificilmente teremos a opinião dos introspectivos...]"
   ]
  },
  {
   "cell_type": "markdown",
   "id": "69630d05",
   "metadata": {
    "heading_collapsed": true,
    "hidden": true
   },
   "source": [
    "### observacional"
   ]
  },
  {
   "cell_type": "markdown",
   "id": "56b64f82",
   "metadata": {
    "hidden": true
   },
   "source": [
    "agora deixando de lado um pouco a questão de amostra e população"
   ]
  },
  {
   "cell_type": "markdown",
   "id": "340ffe70",
   "metadata": {
    "hidden": true
   },
   "source": [
    "o estudo observacional pega duas variáveis e anlisa a realação de uma com a outra, afim de indetificar uma correlação, o que seria uma tendencia de comportamento que liga de alguma forma um fator ao outro.\n",
    "\n",
    "uma correlação interessante é a relação do aumento de ataques detubarão em função ao aumento do consumo de sorvete.\n",
    "\n",
    "quanto mais sorvete comido mais ataques de tubarões.\n",
    "\n",
    "mas isso não significa que um cause o outro (chamamos esse tipo de relação de relação causal)\n",
    "\n",
    "nesse caso, os dois dados são reflexo de uma outra var externa:\n",
    "o fato de que o aumento dos dois acontece no verão, quando é mais quente, as pessoas vão mais apraia e também tomam mais sorvete."
   ]
  },
  {
   "cell_type": "markdown",
   "id": "b885a747",
   "metadata": {
    "hidden": true
   },
   "source": [
    "chamamos essas duas váriáveis estudadas de variáveis confusas, pois elas não necessáriamente se relacionam diretamente.\n",
    "\n",
    "\n",
    "O estudo observacional não é capaz de apontar a relação de causalidade de uma variável ou se o comportamento de uma impacta a outra.\n",
    "\n",
    "portanto podemos fazer o seguinte link:\n",
    "\n",
    "##### Observacional -> correlações\n",
    "\n",
    "ele só observa, não infere nada!"
   ]
  },
  {
   "cell_type": "markdown",
   "id": "c040e8d1",
   "metadata": {
    "hidden": true
   },
   "source": [
    "### experimental"
   ]
  },
  {
   "cell_type": "markdown",
   "id": "d4a52a3e",
   "metadata": {
    "hidden": true
   },
   "source": [
    "um estudo esperimetal tem um foco, dersenvolver um ambiente controlado para podermos apartir disso indentificarmos causalidades.\n",
    "\n",
    "por exemplo:"
   ]
  },
  {
   "cell_type": "markdown",
   "id": "05a2d3e1",
   "metadata": {
    "hidden": true
   },
   "source": [
    "quando uma grande 'fabricadora de remédios' está desemvolvendo um remédio para sanar uma dor, ela precisa ter certeza de que ele realmente funciona, pra isso é preciso testar de formas imparciais"
   ]
  },
  {
   "cell_type": "markdown",
   "id": "ade4cab1",
   "metadata": {
    "hidden": true
   },
   "source": [
    "mas como isso é feito?\n",
    "\n",
    "bem, normalmente a técnica usada [nem sei se exite outra], é a de gerar uma amostra, separar os individuos dessa amostra em dois grupos, um grupo controle e um grupo experimental...\n",
    "\n",
    "é esperado que antes do esperimentos os dois grupos apresentem resultados semelhantes, pois o que nós vamos fazer é experimentar algo em um dos grupos e ver se depois comparar seus resultados com o o grupo que se manteve \"sobreo\""
   ]
  },
  {
   "cell_type": "markdown",
   "id": "fc9458fd",
   "metadata": {
    "heading_collapsed": true,
    "hidden": true
   },
   "source": [
    "#### grupo controle"
   ]
  },
  {
   "cell_type": "markdown",
   "id": "d973f6bc",
   "metadata": {
    "hidden": true
   },
   "source": [
    "esse grupo é o que se mantem 'sobreo' o usamos como parâmetro, como base."
   ]
  },
  {
   "cell_type": "markdown",
   "id": "609ed26d",
   "metadata": {
    "hidden": true
   },
   "source": [
    "#### grupo experimental"
   ]
  },
  {
   "cell_type": "markdown",
   "id": "b17a88b3",
   "metadata": {
    "hidden": true
   },
   "source": [
    "este grupo é o grupo que será induzido ao desvio de comportamento, podemos entender isso como o aumento ou a presença de uma variável."
   ]
  },
  {
   "cell_type": "markdown",
   "id": "dde7041d",
   "metadata": {
    "hidden": true
   },
   "source": [
    "#### como de fato funciona"
   ]
  },
  {
   "cell_type": "markdown",
   "id": "97168cda",
   "metadata": {
    "hidden": true
   },
   "source": [
    "na prática submetemos os dois grupos a condições parecidas, porém com a uma diferença (essa é a variável em questão), e queremos saber se essa diferença vai mudar outras caracteristicas dos individuos ...\n",
    "\n",
    "veja o próximo tópico"
   ]
  },
  {
   "cell_type": "markdown",
   "id": "bc542290",
   "metadata": {
    "heading_collapsed": true
   },
   "source": [
    "# modelagem estatística"
   ]
  },
  {
   "cell_type": "markdown",
   "id": "3022dd02",
   "metadata": {
    "hidden": true
   },
   "source": [
    "bem, essa variável que diferencia um grupo do outro se chama:\n",
    "\n",
    "- variável experimental\n",
    "\n",
    "já a reação á variável xperimental é considerada outra variável:\n",
    "\n",
    "- variável resposta "
   ]
  },
  {
   "cell_type": "markdown",
   "id": "636688cb",
   "metadata": {
    "hidden": true
   },
   "source": [
    "portanto quando realizamos um estudo experimental estamos tentando saber se uma variável explicativa tem uma relação de causalidade com a variável resposta.\n",
    "\n",
    "ou o contrário, podemos buscar o motivo pelo qual temos a variável resposta.\n",
    "\n",
    "é com o uma equação simples\n",
    "\n",
    "a  + ? = b\n",
    "\n",
    "ou \n",
    "\n",
    "a + b = ?"
   ]
  }
 ],
 "metadata": {
  "kernelspec": {
   "display_name": "Python 3 (ipykernel)",
   "language": "python",
   "name": "python3"
  },
  "language_info": {
   "codemirror_mode": {
    "name": "ipython",
    "version": 3
   },
   "file_extension": ".py",
   "mimetype": "text/x-python",
   "name": "python",
   "nbconvert_exporter": "python",
   "pygments_lexer": "ipython3",
   "version": "3.10.4"
  },
  "varInspector": {
   "cols": {
    "lenName": 16,
    "lenType": 16,
    "lenVar": 40
   },
   "kernels_config": {
    "python": {
     "delete_cmd_postfix": "",
     "delete_cmd_prefix": "del ",
     "library": "var_list.py",
     "varRefreshCmd": "print(var_dic_list())"
    },
    "r": {
     "delete_cmd_postfix": ") ",
     "delete_cmd_prefix": "rm(",
     "library": "var_list.r",
     "varRefreshCmd": "cat(var_dic_list()) "
    }
   },
   "types_to_exclude": [
    "module",
    "function",
    "builtin_function_or_method",
    "instance",
    "_Feature"
   ],
   "window_display": false
  }
 },
 "nbformat": 4,
 "nbformat_minor": 5
}
