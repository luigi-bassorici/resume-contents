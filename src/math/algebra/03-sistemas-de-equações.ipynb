{
 "cells": [
  {
   "cell_type": "markdown",
   "id": "a5d297a8",
   "metadata": {
    "heading_collapsed": true
   },
   "source": [
    "### introdução"
   ]
  },
  {
   "cell_type": "markdown",
   "id": "e693ade6",
   "metadata": {
    "hidden": true
   },
   "source": [
    "quando eu tenho uma equação com duas variáveis e um resultado exposto, normalmente mais de um valor para cada variável pode solucionar o problema."
   ]
  },
  {
   "cell_type": "markdown",
   "id": "fb670271",
   "metadata": {
    "hidden": true
   },
   "source": [
    "por exemplo, eu tenho 900 notas (de 5 e de 10), existem muitas combinações possíveis para resolver essa equação...\n",
    "\n",
    "outro exemplo é eu tenho 5.500 reais entre notas de 5 e de 10, também existem muitas possibilidades de atender esse problema...\n",
    "\n",
    "mas se eu cruzar as duas equações só existe uma quantidade de notas em comum que resolve os dois problemas (900 notas entre notas de 5 e 10 que somadas tenham um valor de 5.500)\n",
    "\n",
    "700 de 5 e 200 de 10\n",
    "\n",
    "essa solução é representada justamente pelo ponto em que essas duas retas(criadas a partir das duas inferencias representadas em um plano cartesianos) se cruzam."
   ]
  },
  {
   "cell_type": "markdown",
   "id": "4ea098c4",
   "metadata": {
    "heading_collapsed": true
   },
   "source": [
    "### relembrando conjunto imagem"
   ]
  },
  {
   "cell_type": "markdown",
   "id": "55e55322",
   "metadata": {
    "hidden": true
   },
   "source": [
    "nesse caso o conjunto de todas as possibilidades de relação entre as das var estão localizados dentro da linha obtida através daquele malabarismo\n",
    "\n",
    "cada ponto representa uma razão diferente de y:x\n",
    "\n",
    "logo cada ponto nessa linha é uma possibilidade de satisfazer tal equação\n",
    "\n",
    "cruzando os doisconujuntos imagem obtemos o ponto em comum, tbm chgamado de ..."
   ]
  },
  {
   "cell_type": "markdown",
   "id": "12dd9aaa",
   "metadata": {
    "heading_collapsed": true
   },
   "source": [
    "### a solução do sistema"
   ]
  },
  {
   "cell_type": "markdown",
   "id": "37252e03",
   "metadata": {
    "hidden": true
   },
   "source": [
    "é a cordenada exata para x e y , onde as duas retas se cruzam, logo essa cordenada satisfaz os valores as duas equações\n",
    "\n",
    "\n",
    "por exempĺo:\n",
    "\n",
    "\n",
    "x + 2y = 13\n",
    "\n",
    "3x - 7y = -10\n",
    "\n",
    "se eu desenhar essas duas retas, verei que elas se cruzam na cordenada (-1, 7)\n",
    "\n",
    "portanto x = -1 e y = 7 satisfazem minhas equações"
   ]
  }
 ],
 "metadata": {
  "kernelspec": {
   "display_name": "Python 3 (ipykernel)",
   "language": "python",
   "name": "python3"
  },
  "language_info": {
   "codemirror_mode": {
    "name": "ipython",
    "version": 3
   },
   "file_extension": ".py",
   "mimetype": "text/x-python",
   "name": "python",
   "nbconvert_exporter": "python",
   "pygments_lexer": "ipython3",
   "version": "3.9.12"
  },
  "toc": {
   "base_numbering": 1,
   "nav_menu": {},
   "number_sections": true,
   "sideBar": true,
   "skip_h1_title": false,
   "title_cell": "Table of Contents",
   "title_sidebar": "Contents",
   "toc_cell": false,
   "toc_position": {},
   "toc_section_display": true,
   "toc_window_display": false
  },
  "varInspector": {
   "cols": {
    "lenName": 16,
    "lenType": 16,
    "lenVar": 40
   },
   "kernels_config": {
    "python": {
     "delete_cmd_postfix": "",
     "delete_cmd_prefix": "del ",
     "library": "var_list.py",
     "varRefreshCmd": "print(var_dic_list())"
    },
    "r": {
     "delete_cmd_postfix": ") ",
     "delete_cmd_prefix": "rm(",
     "library": "var_list.r",
     "varRefreshCmd": "cat(var_dic_list()) "
    }
   },
   "types_to_exclude": [
    "module",
    "function",
    "builtin_function_or_method",
    "instance",
    "_Feature"
   ],
   "window_display": false
  }
 },
 "nbformat": 4,
 "nbformat_minor": 5
}
