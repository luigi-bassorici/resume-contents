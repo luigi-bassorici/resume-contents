{
 "cells": [
  {
   "cell_type": "markdown",
   "id": "8e344a31",
   "metadata": {
    "heading_collapsed": true
   },
   "source": [
    "### expressões com variáveis"
   ]
  },
  {
   "cell_type": "markdown",
   "id": "19195b1a",
   "metadata": {
    "hidden": true
   },
   "source": [
    "\"o que significa o x nas expressões\""
   ]
  },
  {
   "cell_type": "markdown",
   "id": "71339694",
   "metadata": {
    "hidden": true
   },
   "source": [
    "o x significa um,a quantidade indefinida de determinado valor, como já sei vou deixar esse tópico pra ficar bonitinho"
   ]
  },
  {
   "cell_type": "markdown",
   "id": "c58e5fd4",
   "metadata": {
    "heading_collapsed": true
   },
   "source": [
    "###  razão "
   ]
  },
  {
   "cell_type": "markdown",
   "id": "a2757c3f",
   "metadata": {
    "hidden": true
   },
   "source": [
    "razão é uma relação entre dois valores de mesma grandeza"
   ]
  },
  {
   "cell_type": "markdown",
   "id": "b5ad9e7c",
   "metadata": {
    "hidden": true
   },
   "source": [
    "significa por exemplo analisar quantas frutas estão podres\n",
    "\n",
    "em uma fruteira vendem-se 40 laranjas por dia e são jogadas fora 8 laranjas porque estão podres\n",
    "\n",
    "portanto a relação de laranjas podres para laranjas vendidas é de 8:40\n",
    "\n",
    "-> 1:5 em 6 laranjas que saem da prateleira 1 é jogada fora por estar podre e 5 são vendidas"
   ]
  },
  {
   "cell_type": "markdown",
   "id": "1f2bcc8d",
   "metadata": {
    "heading_collapsed": true
   },
   "source": [
    "### proporção"
   ]
  },
  {
   "cell_type": "markdown",
   "id": "d6fc75cb",
   "metadata": {
    "hidden": true
   },
   "source": [
    "proporção se define como a igualdade entre duas razões, posso usar esse conceito para fazer infertencias apartir de uma só razão"
   ]
  },
  {
   "cell_type": "markdown",
   "id": "07f3d4c9",
   "metadata": {
    "hidden": true
   },
   "source": [
    "a cada 3 passos eu ando 2 metros, quantos passos eu preciso para andar 30 metros ? \n",
    "\n",
    "2/3 = 0,66m por passo  x/30= 0,66m por passo\n",
    "\n",
    "para que as duas razões sejam proporcionais eu preciso que x assuma um valor tal que x / 30 = 0,66\n",
    "\n",
    "esse valor é 20 nesse caso"
   ]
  },
  {
   "cell_type": "markdown",
   "id": "d9f70b12",
   "metadata": {
    "heading_collapsed": true
   },
   "source": [
    "### índice !="
   ]
  },
  {
   "cell_type": "markdown",
   "id": "21b797a1",
   "metadata": {
    "hidden": true
   },
   "source": [
    "é como eu me refiro a uma razão entre dois valores de != grandezas como:\n",
    "\n",
    "m/seg\n",
    "\n",
    "kg/m²\n",
    "\n",
    "l/m³ \n",
    "\n",
    "...\n",
    "\n",
    "\n",
    "um indicie pode levar enconta diferetes valores na soma do valor comparado como o idhm:\n",
    "\n",
    "saude + educação + segurança + financeiro.../quantidade desses todos"
   ]
  },
  {
   "cell_type": "markdown",
   "id": "bf018cb7",
   "metadata": {
    "heading_collapsed": true
   },
   "source": [
    "### coeficiente estatístico =="
   ]
  },
  {
   "cell_type": "markdown",
   "id": "dc82c8db",
   "metadata": {
    "hidden": true
   },
   "source": [
    "o coeficiente estatístico é um outro nome pra razão, só que especifico para quando eu comparo uma parte com um todo.\n",
    "\n",
    "laranjas podres / laranjas\n",
    "\n"
   ]
  },
  {
   "cell_type": "markdown",
   "id": "9f92d84b",
   "metadata": {
    "heading_collapsed": true
   },
   "source": [
    "### taxa"
   ]
  },
  {
   "cell_type": "markdown",
   "id": "99917cbc",
   "metadata": {
    "hidden": true
   },
   "source": [
    "taxa é quando eu pego uma razão e comparo ela com uma quantidade interia, para melhor analise como por ex.:\n",
    "\n",
    "\n",
    "1:20 ovelhas estão abaixo do peso ideal para...\n",
    "\n",
    "\n",
    "0,5% das ovelhas ...\n",
    "\n",
    "\n",
    "ano que vem colheremos 440:400 que colhemos esse ano\n",
    "\n",
    "\n",
    "ano que vem a previsão para os resultados da colheita é de 110% "
   ]
  },
  {
   "cell_type": "markdown",
   "id": "5a78c4d2",
   "metadata": {
    "heading_collapsed": true
   },
   "source": [
    "###  definição de função"
   ]
  },
  {
   "cell_type": "markdown",
   "id": "7c03f895",
   "metadata": {
    "hidden": true
   },
   "source": [
    "f(x) -> y\n",
    "\n",
    "x = entrada\n",
    "y = saída\n",
    "\n",
    "f() contem as intruções para o que fazer ao receber uma entrada, podem ser condicionais ou operaçõesz matemáticas"
   ]
  },
  {
   "cell_type": "code",
   "execution_count": 1,
   "id": "cab3b128",
   "metadata": {
    "ExecuteTime": {
     "end_time": "2022-08-29T20:19:31.481820Z",
     "start_time": "2022-08-29T20:19:31.479237Z"
    },
    "hidden": true
   },
   "outputs": [],
   "source": [
    "def função(x:int)->int:\n",
    "    y = x + 5\n",
    "    return y\n",
    "#essa função recebe x, soma ele com 5 e retorna o resdultado como y"
   ]
  }
 ],
 "metadata": {
  "kernelspec": {
   "display_name": "Python 3 (ipykernel)",
   "language": "python",
   "name": "python3"
  },
  "language_info": {
   "codemirror_mode": {
    "name": "ipython",
    "version": 3
   },
   "file_extension": ".py",
   "mimetype": "text/x-python",
   "name": "python",
   "nbconvert_exporter": "python",
   "pygments_lexer": "ipython3",
   "version": "3.9.12"
  },
  "toc": {
   "base_numbering": 1,
   "nav_menu": {},
   "number_sections": true,
   "sideBar": true,
   "skip_h1_title": false,
   "title_cell": "Table of Contents",
   "title_sidebar": "Contents",
   "toc_cell": false,
   "toc_position": {},
   "toc_section_display": true,
   "toc_window_display": false
  },
  "varInspector": {
   "cols": {
    "lenName": 16,
    "lenType": 16,
    "lenVar": 40
   },
   "kernels_config": {
    "python": {
     "delete_cmd_postfix": "",
     "delete_cmd_prefix": "del ",
     "library": "var_list.py",
     "varRefreshCmd": "print(var_dic_list())"
    },
    "r": {
     "delete_cmd_postfix": ") ",
     "delete_cmd_prefix": "rm(",
     "library": "var_list.r",
     "varRefreshCmd": "cat(var_dic_list()) "
    }
   },
   "types_to_exclude": [
    "module",
    "function",
    "builtin_function_or_method",
    "instance",
    "_Feature"
   ],
   "window_display": false
  }
 },
 "nbformat": 4,
 "nbformat_minor": 5
}
