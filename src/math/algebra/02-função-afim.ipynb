{
 "cells": [
  {
   "cell_type": "markdown",
   "id": "d9621b9a",
   "metadata": {
    "heading_collapsed": true
   },
   "source": [
    "### lei de formação\n"
   ]
  },
  {
   "cell_type": "markdown",
   "id": "e97e5727",
   "metadata": {
    "hidden": true
   },
   "source": [
    "def função(x)->y:\n",
    "    return ax + b\n",
    "\n",
    "a variação de y em relação a x é sempre igual..."
   ]
  },
  {
   "cell_type": "code",
   "execution_count": 1,
   "id": "fa47e843",
   "metadata": {
    "ExecuteTime": {
     "end_time": "2022-08-29T19:08:12.273284Z",
     "start_time": "2022-08-29T19:08:12.268865Z"
    },
    "hidden": true
   },
   "outputs": [
    {
     "name": "stdout",
     "output_type": "stream",
     "text": [
      "2\n",
      "4\n",
      "6\n",
      "8\n",
      "10\n",
      "12\n",
      "14\n",
      "16\n",
      "18\n",
      "20\n"
     ]
    }
   ],
   "source": [
    "def afim(x:int)->int:\n",
    "    a = 2\n",
    "    b = 2\n",
    "    return (a * x) + b\n",
    "\n",
    "for i in range(10):\n",
    "    print(afim(i))\n",
    "# começa em 2 para x = 0 e para cada um andado em x ele sobe de 2 em y\n",
    "# a variação sempre será de 2:1 em qualquer intervalo de x ou y"
   ]
  },
  {
   "cell_type": "markdown",
   "id": "c5916d5f",
   "metadata": {
    "heading_collapsed": true
   },
   "source": [
    "### revisão de termo dependente e independente"
   ]
  },
  {
   "cell_type": "markdown",
   "id": "24a56423",
   "metadata": {
    "hidden": true
   },
   "source": [
    "na função afim temos um termo independente, que não varia conforme a variável, nesse cado ele é o ***B***"
   ]
  },
  {
   "cell_type": "markdown",
   "id": "dbd5338e",
   "metadata": {
    "heading_collapsed": true
   },
   "source": [
    "### domínio"
   ]
  },
  {
   "cell_type": "markdown",
   "id": "6f33b55f",
   "metadata": {
    "hidden": true
   },
   "source": [
    "domínio é o grupo de números que se encaixam eem uma condicional para a entrada em uma função (caso exista condcional para entrada)\n",
    "\n",
    "ou seja:\n",
    "\n",
    "domínio -> entrada"
   ]
  },
  {
   "cell_type": "markdown",
   "id": "8784295b",
   "metadata": {
    "heading_collapsed": true
   },
   "source": [
    "### contradomínio"
   ]
  },
  {
   "cell_type": "markdown",
   "id": "67bde47c",
   "metadata": {
    "hidden": true
   },
   "source": [
    "só existe quando há domínio pq é o conjunto dos números que não se encaixam nessa condição de entraqda que, mencionei acima...\n",
    "\n",
    "portanto:\n",
    "\n",
    "contradomínio -> rejeitados"
   ]
  },
  {
   "cell_type": "markdown",
   "id": "d6e544a0",
   "metadata": {
    "heading_collapsed": true
   },
   "source": [
    "### imagem"
   ]
  },
  {
   "cell_type": "markdown",
   "id": "b3700ad0",
   "metadata": {
    "hidden": true
   },
   "source": [
    "o conjunto imagem de uma função se refere a conjunto de todas as possíveis saídas , ou seja todos os possíveis valores de y\n",
    "\n",
    "ex: [2, 4, 6, 8, 10...]\n",
    "\n",
    "portanto:\n",
    "\n",
    "imagem == saídas"
   ]
  },
  {
   "cell_type": "markdown",
   "id": "eab8cbbc",
   "metadata": {
    "heading_collapsed": true
   },
   "source": [
    "### retas num plano carteisano"
   ]
  },
  {
   "cell_type": "markdown",
   "id": "152352f7",
   "metadata": {
    "hidden": true
   },
   "source": [
    "uma reta num plano cartesiana só precisa de dois valores de x para ser traçada, uma vez que se acha o \"coeficiente angular\" podemos afirmar que a reta possuirá aquele formato para qualquer valor de x"
   ]
  },
  {
   "cell_type": "markdown",
   "id": "26a6f56f",
   "metadata": {
    "hidden": true
   },
   "source": [
    "relembrando o que é um plano cartesiano, um plano cartesiano é uma representação 2d da interação de 2 valores distintos , um em relação ao outro, nesse caso (função afim), o que define essa interação é os valores das variáveis dentro da lei de formação daquela função.\n",
    "\n",
    "uma vez estabelecida essa relação o plano cartesiano visa ilustrar a relação de y:x para determinados valores de x (normalmente)\n",
    "\n",
    "y\n",
    "\n",
    "|\n",
    "\n",
    "|\n",
    "\n",
    "|\n",
    "\n",
    "|\n",
    "\n",
    "|_ _ _ _ _ _ _ _ _ _ _ _ _ _ x\n",
    "\n",
    "x:y = o quanto y \"cresce\" em relação ao que x \"anda\"\n",
    "\n",
    "se essa relação for 1:1, temos uma reta cortando os dois eixos de em zero, como se fosse a diagonal desse \"quadrado\""
   ]
  },
  {
   "cell_type": "markdown",
   "id": "2c2ea6fd",
   "metadata": {
    "heading_collapsed": true
   },
   "source": [
    "### coeficiente angular"
   ]
  },
  {
   "cell_type": "markdown",
   "id": "925a69a8",
   "metadata": {
    "hidden": true
   },
   "source": [
    "justamente a relação de y:x"
   ]
  },
  {
   "cell_type": "markdown",
   "id": "d59843d5",
   "metadata": {
    "hidden": true
   },
   "source": [
    "por uma questão de lógica, quanto maior essa relação, mais inclinada (no sentido de crescente) é essa reta.\n",
    "\n",
    "o contrário também é verdade, quanto menor, mais inclinada (no sentido de descida) é essa reta\n",
    "\n",
    "***O valor de \"a\" derfini diretamente o coeficiente angular, embora não seja ele***\n",
    "\n"
   ]
  },
  {
   "cell_type": "markdown",
   "id": "7e59ff63",
   "metadata": {
    "hidden": true
   },
   "source": [
    "portanto podemos fazer a seguinte observação\n",
    "\n",
    "a = 12 vai render uma inclinação crescente maior do que quando a = 4 por exemplo\n",
    "\n",
    "assim como podemos dizer que quando a > 0, a reta será crescente\n",
    "\n",
    "e quando a < 0 a reta será decrescente"
   ]
  },
  {
   "cell_type": "markdown",
   "id": "4f49adc9",
   "metadata": {
    "ExecuteTime": {
     "end_time": "2022-08-29T19:11:53.749114Z",
     "start_time": "2022-08-29T19:11:53.744835Z"
    },
    "hidden": true
   },
   "source": [
    "quando o coeficiente angular for:\n",
    "    \n",
    "- positivo -> reta crescente\n",
    "\n",
    "- negaitivo -> reta decrescente"
   ]
  },
  {
   "cell_type": "markdown",
   "id": "4f834d16",
   "metadata": {
    "heading_collapsed": true
   },
   "source": [
    "### coeficiente linear"
   ]
  },
  {
   "cell_type": "markdown",
   "id": "05585ba5",
   "metadata": {
    "hidden": true
   },
   "source": [
    "esse sim é o b\n",
    "\n",
    "o valor de 0 será exatamente onde a reta irá cruzar o eixo y sempre, porque quando a = 0 temos que o valor de y será = b"
   ]
  }
 ],
 "metadata": {
  "kernelspec": {
   "display_name": "Python 3.9.12 ('base')",
   "language": "python",
   "name": "python3"
  },
  "language_info": {
   "codemirror_mode": {
    "name": "ipython",
    "version": 3
   },
   "file_extension": ".py",
   "mimetype": "text/x-python",
   "name": "python",
   "nbconvert_exporter": "python",
   "pygments_lexer": "ipython3",
   "version": "3.9.12"
  },
  "toc": {
   "base_numbering": 1,
   "nav_menu": {},
   "number_sections": true,
   "sideBar": true,
   "skip_h1_title": false,
   "title_cell": "Table of Contents",
   "title_sidebar": "Contents",
   "toc_cell": false,
   "toc_position": {},
   "toc_section_display": true,
   "toc_window_display": false
  },
  "varInspector": {
   "cols": {
    "lenName": 16,
    "lenType": 16,
    "lenVar": 40
   },
   "kernels_config": {
    "python": {
     "delete_cmd_postfix": "",
     "delete_cmd_prefix": "del ",
     "library": "var_list.py",
     "varRefreshCmd": "print(var_dic_list())"
    },
    "r": {
     "delete_cmd_postfix": ") ",
     "delete_cmd_prefix": "rm(",
     "library": "var_list.r",
     "varRefreshCmd": "cat(var_dic_list()) "
    }
   },
   "types_to_exclude": [
    "module",
    "function",
    "builtin_function_or_method",
    "instance",
    "_Feature"
   ],
   "window_display": false
  },
  "vscode": {
   "interpreter": {
    "hash": "33b810481f1c9ddcdf4350e7b3277bcfdd865aba083de11948a72f0c94bfb615"
   }
  }
 },
 "nbformat": 4,
 "nbformat_minor": 5
}
