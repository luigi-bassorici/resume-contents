{
 "cells": [
  {
   "cell_type": "code",
   "execution_count": 2,
   "id": "783ab3f4",
   "metadata": {},
   "outputs": [],
   "source": [
    "import numpy as np"
   ]
  },
  {
   "cell_type": "code",
   "execution_count": 14,
   "id": "b9bd470a",
   "metadata": {},
   "outputs": [
    {
     "name": "stdout",
     "output_type": "stream",
     "text": [
      "[1, 2, 3, 4, 5, 6, 7, 8, 9, 10]\n",
      "10\n",
      "está na posição 10\n"
     ]
    }
   ],
   "source": [
    "vetor = [1, 2, 3, 4, 5, 6, 7, 8, 9, 10]\n",
    "print(vetor)\n",
    "print(max(vetor))\n",
    "print(f'está na posição {vetor.index(max(vetor)) + 1}')"
   ]
  }
 ],
 "metadata": {
  "kernelspec": {
   "display_name": "Python 3 (ipykernel)",
   "language": "python",
   "name": "python3"
  },
  "language_info": {
   "codemirror_mode": {
    "name": "ipython",
    "version": 3
   },
   "file_extension": ".py",
   "mimetype": "text/x-python",
   "name": "python",
   "nbconvert_exporter": "python",
   "pygments_lexer": "ipython3",
   "version": "3.10.5"
  }
 },
 "nbformat": 4,
 "nbformat_minor": 5
}
