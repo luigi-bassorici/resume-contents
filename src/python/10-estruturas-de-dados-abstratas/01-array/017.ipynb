{
 "cells": [
  {
   "cell_type": "code",
   "execution_count": 1,
   "id": "295daca7",
   "metadata": {},
   "outputs": [],
   "source": [
    "import numpy as np"
   ]
  },
  {
   "cell_type": "code",
   "execution_count": 13,
   "id": "9c138ae1",
   "metadata": {},
   "outputs": [
    {
     "name": "stdout",
     "output_type": "stream",
     "text": [
      "1 número : 1\n",
      "2 número : -45\n",
      "3 número : 7\n",
      "4 número : -8\n",
      "5 número : -41\n",
      "6 número : 78\n",
      "7 número : -74\n",
      "8 número : 78\n",
      "9 número : -74\n",
      "10 número : -69\n",
      "[1, 0, 7, 0, 0, 78, 0, 78, 0, 0]\n"
     ]
    }
   ],
   "source": [
    "vetor = [int(input(f'{i + 1} número : ') ) for i in range(10)]\n",
    "final = [ x if x > 0 else 0 for x in vetor]\n",
    "print(final)"
   ]
  }
 ],
 "metadata": {
  "kernelspec": {
   "display_name": "Python 3 (ipykernel)",
   "language": "python",
   "name": "python3"
  },
  "language_info": {
   "codemirror_mode": {
    "name": "ipython",
    "version": 3
   },
   "file_extension": ".py",
   "mimetype": "text/x-python",
   "name": "python",
   "nbconvert_exporter": "python",
   "pygments_lexer": "ipython3",
   "version": "3.10.5"
  }
 },
 "nbformat": 4,
 "nbformat_minor": 5
}
