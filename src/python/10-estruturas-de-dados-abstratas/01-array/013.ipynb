{
 "cells": [
  {
   "cell_type": "code",
   "execution_count": 1,
   "id": "e3fe0abf",
   "metadata": {},
   "outputs": [],
   "source": [
    "import numpy as np"
   ]
  },
  {
   "cell_type": "code",
   "execution_count": 6,
   "id": "bd6f99d4",
   "metadata": {},
   "outputs": [
    {
     "name": "stdout",
     "output_type": "stream",
     "text": [
      "1° valor: 15\n",
      "2° valor: 1554\n",
      "3° valor: 654\n",
      "4° valor: 5664\n",
      "5° valor: 65\n",
      "o maior número foi : 5664.0 no índicie 3\n",
      "o menor número foi : 15.0 no índicie 0\n"
     ]
    }
   ],
   "source": [
    "vetor = [ float(input(f\"{i + 1}° valor: \")) for i in range(5)]\n",
    "\n",
    "print(f'o maior número foi : {max(vetor)} no índicie {vetor.index(max(vetor))}')\n",
    "print(f'o menor número foi : {min(vetor)} no índicie {vetor.index(min(vetor))}')"
   ]
  }
 ],
 "metadata": {
  "kernelspec": {
   "display_name": "Python 3 (ipykernel)",
   "language": "python",
   "name": "python3"
  },
  "language_info": {
   "codemirror_mode": {
    "name": "ipython",
    "version": 3
   },
   "file_extension": ".py",
   "mimetype": "text/x-python",
   "name": "python",
   "nbconvert_exporter": "python",
   "pygments_lexer": "ipython3",
   "version": "3.10.5"
  }
 },
 "nbformat": 4,
 "nbformat_minor": 5
}
