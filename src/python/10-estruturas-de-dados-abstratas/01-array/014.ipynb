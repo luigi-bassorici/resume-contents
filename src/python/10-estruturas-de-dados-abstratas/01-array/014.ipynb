{
 "cells": [
  {
   "cell_type": "code",
   "execution_count": 2,
   "id": "95bb4624",
   "metadata": {},
   "outputs": [],
   "source": [
    "import numpy as np"
   ]
  },
  {
   "cell_type": "code",
   "execution_count": 1,
   "id": "885c22c5",
   "metadata": {},
   "outputs": [
    {
     "name": "stdout",
     "output_type": "stream",
     "text": [
      "os números repetidos foram 2346"
     ]
    }
   ],
   "source": [
    "vetor = [1, 2, 3, 4, 6, 3, 4, 5, 2, 6, 8]\n",
    "\n",
    "print(f'os números repetidos foram', end = ' ')\n",
    "\n",
    "for i in set([ i for i in vetor if vetor.count(i)> 1]):\n",
    "    print(i, end = '')"
   ]
  }
 ],
 "metadata": {
  "kernelspec": {
   "display_name": "Python 3 (ipykernel)",
   "language": "python",
   "name": "python3"
  },
  "language_info": {
   "codemirror_mode": {
    "name": "ipython",
    "version": 3
   },
   "file_extension": ".py",
   "mimetype": "text/x-python",
   "name": "python",
   "nbconvert_exporter": "python",
   "pygments_lexer": "ipython3",
   "version": "3.9.12"
  }
 },
 "nbformat": 4,
 "nbformat_minor": 5
}
