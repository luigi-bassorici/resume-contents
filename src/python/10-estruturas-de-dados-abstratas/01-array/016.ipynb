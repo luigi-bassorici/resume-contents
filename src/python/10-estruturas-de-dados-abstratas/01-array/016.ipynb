{
 "cells": [
  {
   "cell_type": "code",
   "execution_count": 13,
   "id": "b9df31ed",
   "metadata": {},
   "outputs": [],
   "source": [
    "import numpy as np"
   ]
  },
  {
   "cell_type": "code",
   "execution_count": null,
   "id": "b58c7648",
   "metadata": {},
   "outputs": [
    {
     "name": "stdout",
     "output_type": "stream",
     "text": [
      "1° número : 1\n",
      "2° número : 2\n",
      "3° número : 3\n",
      "4° número : 4\n",
      "5° número : 5\n",
      "\n",
      "menu:\n",
      "    [1] Mostre o vetor na ordem correta\n",
      "    [2] Mostre o vetor na ordem inverersa1\n",
      "\n",
      "1 2 3 4 5 \n",
      "1° número : 1\n",
      "2° número : 2\n",
      "3° número : 3\n",
      "4° número : 4\n",
      "5° número : 5\n",
      "\n",
      "menu:\n",
      "    [1] Mostre o vetor na ordem correta\n",
      "    [2] Mostre o vetor na ordem inverersa3\n",
      "opção inválida \n",
      "\n",
      "\n",
      "\n",
      "menu:\n",
      "    [1] Mostre o vetor na ordem correta\n",
      "    [2] Mostre o vetor na ordem inverersa5\n",
      "opção inválida \n",
      "\n",
      "\n",
      "\n",
      "menu:\n",
      "    [1] Mostre o vetor na ordem correta\n",
      "    [2] Mostre o vetor na ordem inverersa5\n",
      "opção inválida \n",
      "\n",
      "\n",
      "\n",
      "menu:\n",
      "    [1] Mostre o vetor na ordem correta\n",
      "    [2] Mostre o vetor na ordem inverersa1\n",
      "\n",
      "1 2 3 4 5 \n",
      "1° número : 2\n",
      "2° número : 1\n",
      "3° número : 3\n",
      "4° número : 4\n",
      "5° número : 5\n",
      "\n",
      "menu:\n",
      "    [1] Mostre o vetor na ordem correta\n",
      "    [2] Mostre o vetor na ordem inverersa2\n",
      "\n",
      "5 4 3 1 2 \n"
     ]
    }
   ],
   "source": [
    "vetor = [ int(input(f'{i + 1}° número : ')) for i in range(5)]\n",
    "while  True :\n",
    "    cod = int(input(\"\"\"\n",
    "menu:\n",
    "    [1] Mostre o vetor na ordem correta\n",
    "    [2] Mostre o vetor na ordem inverersa\n",
    "    sua opção : \"\"\"))\n",
    "    if cod not in [0, 1, 2]:\n",
    "        print('opção inválida \\n\\n')\n",
    "        continue\n",
    "    if cod == 0:\n",
    "        print('fim do programa .')\n",
    "        break\n",
    "    if cod == 1:\n",
    "        pass\n",
    "    if cod == 2:\n",
    "        vetor = vetor [ : : -1]\n",
    "    print()\n",
    "    for i in vetor:\n",
    "        print(i, end=' ')\n",
    "    print()\n",
    "    vetor = [ int(input(f'{i + 1}° número : ')) for i in range(5)]"
   ]
  }
 ],
 "metadata": {
  "kernelspec": {
   "display_name": "Python 3 (ipykernel)",
   "language": "python",
   "name": "python3"
  },
  "language_info": {
   "codemirror_mode": {
    "name": "ipython",
    "version": 3
   },
   "file_extension": ".py",
   "mimetype": "text/x-python",
   "name": "python",
   "nbconvert_exporter": "python",
   "pygments_lexer": "ipython3",
   "version": "3.10.5"
  }
 },
 "nbformat": 4,
 "nbformat_minor": 5
}
