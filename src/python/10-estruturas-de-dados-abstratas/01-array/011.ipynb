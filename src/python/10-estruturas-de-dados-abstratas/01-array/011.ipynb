{
 "cells": [
  {
   "cell_type": "code",
   "execution_count": 1,
   "id": "29044db3",
   "metadata": {},
   "outputs": [],
   "source": [
    "import numpy as np"
   ]
  },
  {
   "cell_type": "code",
   "execution_count": 10,
   "id": "a1195c17",
   "metadata": {},
   "outputs": [
    {
     "name": "stdout",
     "output_type": "stream",
     "text": [
      "digite 1 número :1\n",
      "digite 2 número :2\n",
      "digite 3 número :3\n",
      "digite 4 número :4\n",
      "digite 5 número :5\n",
      "digite 6 número :-5\n",
      "digite 7 número :-4\n",
      "digite 8 número :-3\n",
      "digite 9 número :-2\n",
      "digite 10 número :-1\n",
      "vc digitou 5 números positivos\n",
      "a soma desses valores é: 15.0\n"
     ]
    }
   ],
   "source": [
    "positivos = [i for i in [float(input(f'digite {i + 1} número :')) for i in range(10)] if i > 0 ]\n",
    "print(f'vc digitou {len(positivos)} números positivos')\n",
    "print(f'a soma desses valores é: {sum(positivos)}')"
   ]
  }
 ],
 "metadata": {
  "kernelspec": {
   "display_name": "Python 3 (ipykernel)",
   "language": "python",
   "name": "python3"
  },
  "language_info": {
   "codemirror_mode": {
    "name": "ipython",
    "version": 3
   },
   "file_extension": ".py",
   "mimetype": "text/x-python",
   "name": "python",
   "nbconvert_exporter": "python",
   "pygments_lexer": "ipython3",
   "version": "3.10.5"
  }
 },
 "nbformat": 4,
 "nbformat_minor": 5
}
