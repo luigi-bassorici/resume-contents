{
 "cells": [
  {
   "cell_type": "code",
   "execution_count": 2,
   "id": "ad950456",
   "metadata": {},
   "outputs": [],
   "source": [
    "import numpy as np"
   ]
  },
  {
   "cell_type": "code",
   "execution_count": 3,
   "id": "cda974e7",
   "metadata": {},
   "outputs": [
    {
     "name": "stdout",
     "output_type": "stream",
     "text": [
      "[ 1  2  3  4  5  6  7  8  9 10 12 14 16 18 20]\n"
     ]
    }
   ],
   "source": [
    "vetor = [1, 2, 3, 4, 5, 6, 7, 8, 9, 10]\n",
    "vetor2= [2, 4, 6, 8, 10, 12, 14, 16, 18, 20]\n",
    "x = np.array(list(set(vetor) | set(vetor2)))\n",
    "print(x)"
   ]
  }
 ],
 "metadata": {
  "kernelspec": {
   "display_name": "Python 3 (ipykernel)",
   "language": "python",
   "name": "python3"
  },
  "language_info": {
   "codemirror_mode": {
    "name": "ipython",
    "version": 3
   },
   "file_extension": ".py",
   "mimetype": "text/x-python",
   "name": "python",
   "nbconvert_exporter": "python",
   "pygments_lexer": "ipython3",
   "version": "3.10.5"
  }
 },
 "nbformat": 4,
 "nbformat_minor": 5
}
