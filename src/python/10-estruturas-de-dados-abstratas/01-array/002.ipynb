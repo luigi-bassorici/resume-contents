{
 "cells": [
  {
   "cell_type": "code",
   "execution_count": 1,
   "id": "014cc654",
   "metadata": {},
   "outputs": [],
   "source": [
    "import numpy as np"
   ]
  },
  {
   "cell_type": "code",
   "execution_count": 7,
   "id": "45d0b08f",
   "metadata": {},
   "outputs": [
    {
     "name": "stdout",
     "output_type": "stream",
     "text": [
      "digite o 1° valor : 1\n",
      "digite o 2° valor : 2\n",
      "digite o 3° valor : 3\n",
      "digite o 4° valor : 4\n",
      "digite o 5° valor : 5\n",
      "digite o 6° valor : 6\n",
      "[1 2 3 4 5 6]\n"
     ]
    }
   ],
   "source": [
    "vetor = np.array([ int(input(f'digite o {x + 1}° valor : ')) for x in range(6) ])\n",
    "print(vetor)"
   ]
  }
 ],
 "metadata": {
  "kernelspec": {
   "display_name": "Python 3 (ipykernel)",
   "language": "python",
   "name": "python3"
  },
  "language_info": {
   "codemirror_mode": {
    "name": "ipython",
    "version": 3
   },
   "file_extension": ".py",
   "mimetype": "text/x-python",
   "name": "python",
   "nbconvert_exporter": "python",
   "pygments_lexer": "ipython3",
   "version": "3.10.5"
  }
 },
 "nbformat": 4,
 "nbformat_minor": 5
}
