{
 "cells": [
  {
   "cell_type": "code",
   "execution_count": 1,
   "id": "900cacc6",
   "metadata": {},
   "outputs": [],
   "source": [
    "import numpy as np"
   ]
  },
  {
   "cell_type": "code",
   "execution_count": 11,
   "id": "ef02584b",
   "metadata": {},
   "outputs": [
    {
     "name": "stdout",
     "output_type": "stream",
     "text": [
      "[ 1  3  5  8  9 10 11 12 13 14 15  0  0  0  0]\n"
     ]
    }
   ],
   "source": [
    "vetor = np.array([1, 0, 3, 0, 5, 0, 0, 8, 9, 10, 11, 12, 13, 14, 15])\n",
    "vetor_final = vetor[vetor != 0]\n",
    "zeros = np.zeros(len(vetor) - len(vetor_final), dtype = int)\n",
    "print(np.append(vetor_final, zeros))"
   ]
  }
 ],
 "metadata": {
  "kernelspec": {
   "display_name": "Python 3 (ipykernel)",
   "language": "python",
   "name": "python3"
  },
  "language_info": {
   "codemirror_mode": {
    "name": "ipython",
    "version": 3
   },
   "file_extension": ".py",
   "mimetype": "text/x-python",
   "name": "python",
   "nbconvert_exporter": "python",
   "pygments_lexer": "ipython3",
   "version": "3.10.5"
  }
 },
 "nbformat": 4,
 "nbformat_minor": 5
}
