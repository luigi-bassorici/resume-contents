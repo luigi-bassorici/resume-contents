{
 "cells": [
  {
   "cell_type": "code",
   "execution_count": 1,
   "id": "f6661192",
   "metadata": {},
   "outputs": [],
   "source": [
    "import numpy as np"
   ]
  },
  {
   "cell_type": "code",
   "execution_count": 2,
   "id": "b860eaff",
   "metadata": {},
   "outputs": [],
   "source": [
    "lista = []"
   ]
  },
  {
   "cell_type": "code",
   "execution_count": 3,
   "id": "bfbd09a0",
   "metadata": {
    "scrolled": true
   },
   "outputs": [
    {
     "name": "stdout",
     "output_type": "stream",
     "text": [
      "número : 1\n",
      "altura : 184.25\n",
      "número : 2\n",
      "altura : 178.35\n",
      "número : 3\n",
      "altura : 179.86\n",
      "número : 4\n",
      "altura : 171\n",
      "número : 5\n",
      "altura : 189.9\n"
     ]
    }
   ],
   "source": [
    "while True:\n",
    "    try:\n",
    "        numero = float(input('número : '))\n",
    "    except:\n",
    "        print('erro ao digitar o numero do aluno')\n",
    "        continue\n",
    "        \n",
    "    while True:\n",
    "        try:\n",
    "            altura= float(input('altura : '))\n",
    "            break\n",
    "        except:\n",
    "            print('erro ao digitar a altura do aluno')\n",
    "            continue\n",
    "    \n",
    "    lista.append([numero, altura])\n",
    "    if len(lista) == 5:\n",
    "        break"
   ]
  },
  {
   "cell_type": "code",
   "execution_count": 20,
   "id": "2a9e7d9a",
   "metadata": {},
   "outputs": [
    {
     "name": "stdout",
     "output_type": "stream",
     "text": [
      "o aluno mais alto foi o numero: 5.0\n",
      "altura: 189.9\n"
     ]
    }
   ],
   "source": [
    "lista = np.array(object = lista)\n",
    "alturadomaior = max(list(a[: , 1]))\n",
    "_ = list(a[: , 1])\n",
    "\n",
    "print(f'o aluno mais alto foi o numero: {a[: , 0][_.index(alturadomaior)]}')\n",
    "print(f'altura: {alturadomaior}')"
   ]
  }
 ],
 "metadata": {
  "kernelspec": {
   "display_name": "Python 3 (ipykernel)",
   "language": "python",
   "name": "python3"
  },
  "language_info": {
   "codemirror_mode": {
    "name": "ipython",
    "version": 3
   },
   "file_extension": ".py",
   "mimetype": "text/x-python",
   "name": "python",
   "nbconvert_exporter": "python",
   "pygments_lexer": "ipython3",
   "version": "3.10.5"
  }
 },
 "nbformat": 4,
 "nbformat_minor": 5
}
