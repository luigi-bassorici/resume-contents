{
 "cells": [
  {
   "cell_type": "code",
   "execution_count": 2,
   "id": "ffaf937d",
   "metadata": {},
   "outputs": [],
   "source": [
    "import numpy as np"
   ]
  },
  {
   "cell_type": "code",
   "execution_count": 24,
   "id": "7a4c6d78",
   "metadata": {},
   "outputs": [
    {
     "name": "stdout",
     "output_type": "stream",
     "text": [
      "digite o 1° número : 1\n",
      "digite o 2° número : 2\n",
      "digite o 3° número : 3\n",
      "digite o 4° número : 4\n",
      "digite o 5° número : 5\n",
      "digite o 6° número : 6\n",
      "digite o 7° número : 7\n",
      "digite o 8° número : 8\n",
      "digite o 9° número : 9\n",
      "digite o 10° número : 10\n",
      "[1 2]\n",
      "[1 3 5 7 9]\n"
     ]
    }
   ],
   "source": [
    "vetor = []\n",
    "while True: \n",
    "    x = input(f'digite o {len(vetor) + 1}° número : ')\n",
    "    try:\n",
    "        x = int(x)\n",
    "        if x not in range(0, 51):\n",
    "            raise Exception()\n",
    "        vetor.append(int(x))\n",
    "    except ValueError :\n",
    "        print('\\n- você precisa digitar número inteiros -\\n')\n",
    "    except Exception:\n",
    "        print('\\n- o programa não aceita números fora do intervalo de 0 á 50 -\\n')\n",
    "    if len(vetor) == 10:\n",
    "        break\n",
    "\n",
    "vetor = np.array(object = vetor, dtype = 'int16')\n",
    "print(vetor.reshape(5 , 2))\n",
    "print(vetor[vetor %2 == 1])"
   ]
  }
 ],
 "metadata": {
  "kernelspec": {
   "display_name": "Python 3 (ipykernel)",
   "language": "python",
   "name": "python3"
  },
  "language_info": {
   "codemirror_mode": {
    "name": "ipython",
    "version": 3
   },
   "file_extension": ".py",
   "mimetype": "text/x-python",
   "name": "python",
   "nbconvert_exporter": "python",
   "pygments_lexer": "ipython3",
   "version": "3.10.5"
  }
 },
 "nbformat": 4,
 "nbformat_minor": 5
}
