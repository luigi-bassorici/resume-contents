{
 "cells": [
  {
   "cell_type": "code",
   "execution_count": 2,
   "id": "424a78a3",
   "metadata": {},
   "outputs": [],
   "source": [
    "import numpy as np"
   ]
  },
  {
   "cell_type": "code",
   "execution_count": 26,
   "id": "ea988d68",
   "metadata": {},
   "outputs": [
    {
     "name": "stdout",
     "output_type": "stream",
     "text": [
      "[-33  55 -23  54  28  32 -15  22  95 -83]\n"
     ]
    }
   ],
   "source": [
    "a = np.random.randint(low = 0, high = 100, size = 10)\n",
    "b = np.random.randint(low = 0, high = 100, size = 10)\n",
    "c = a - b\n",
    "print( c)"
   ]
  }
 ],
 "metadata": {
  "kernelspec": {
   "display_name": "Python 3 (ipykernel)",
   "language": "python",
   "name": "python3"
  },
  "language_info": {
   "codemirror_mode": {
    "name": "ipython",
    "version": 3
   },
   "file_extension": ".py",
   "mimetype": "text/x-python",
   "name": "python",
   "nbconvert_exporter": "python",
   "pygments_lexer": "ipython3",
   "version": "3.10.5"
  }
 },
 "nbformat": 4,
 "nbformat_minor": 5
}
