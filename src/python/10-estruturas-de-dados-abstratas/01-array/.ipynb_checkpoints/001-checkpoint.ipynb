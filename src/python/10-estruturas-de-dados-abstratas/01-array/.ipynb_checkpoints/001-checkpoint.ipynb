{
 "cells": [
  {
   "cell_type": "code",
   "execution_count": 6,
   "id": "ead37052",
   "metadata": {},
   "outputs": [],
   "source": [
    "import numpy as np"
   ]
  },
  {
   "cell_type": "code",
   "execution_count": 7,
   "id": "da8ea444",
   "metadata": {},
   "outputs": [],
   "source": [
    "# A\n",
    "a = np.array(object = [1, 0, 5, -2, -5, 7], dtype = 'int16')"
   ]
  },
  {
   "cell_type": "code",
   "execution_count": 8,
   "id": "0249cfae",
   "metadata": {},
   "outputs": [
    {
     "name": "stdout",
     "output_type": "stream",
     "text": [
      "8\n"
     ]
    }
   ],
   "source": [
    "# B \n",
    "soma = a[0] + a [1] + a[5]   \n",
    "print(b)"
   ]
  },
  {
   "cell_type": "code",
   "execution_count": 11,
   "id": "9db5c40a",
   "metadata": {},
   "outputs": [],
   "source": [
    "# C\n",
    "a[4] = 100"
   ]
  },
  {
   "cell_type": "code",
   "execution_count": 12,
   "id": "b50b9e2d",
   "metadata": {},
   "outputs": [
    {
     "name": "stdout",
     "output_type": "stream",
     "text": [
      "1\n",
      "0\n",
      "5\n",
      "-2\n",
      "100\n",
      "7\n"
     ]
    }
   ],
   "source": [
    "# D\n",
    "for valor in a:\n",
    "    print(valor)"
   ]
  }
 ],
 "metadata": {
  "kernelspec": {
   "display_name": "Python 3 (ipykernel)",
   "language": "python",
   "name": "python3"
  },
  "language_info": {
   "codemirror_mode": {
    "name": "ipython",
    "version": 3
   },
   "file_extension": ".py",
   "mimetype": "text/x-python",
   "name": "python",
   "nbconvert_exporter": "python",
   "pygments_lexer": "ipython3",
   "version": "3.10.5"
  }
 },
 "nbformat": 4,
 "nbformat_minor": 5
}
