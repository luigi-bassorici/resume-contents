{
 "cells": [
  {
   "cell_type": "code",
   "execution_count": 6,
   "id": "9930534c",
   "metadata": {},
   "outputs": [],
   "source": [
    "import numpy as np"
   ]
  },
  {
   "cell_type": "code",
   "execution_count": 11,
   "id": "92a2841f",
   "metadata": {},
   "outputs": [
    {
     "name": "stdout",
     "output_type": "stream",
     "text": [
      "digite a nota do 1° aluno: 15\n",
      "digite a nota do 2° aluno: 45\n",
      "digite a nota do 3° aluno: 12\n",
      "digite a nota do 4° aluno: 2\n",
      "digite a nota do 5° aluno: 6\n",
      "digite a nota do 6° aluno: 78\n",
      "digite a nota do 7° aluno: 94\n",
      "digite a nota do 8° aluno: 55\n",
      "digite a nota do 9° aluno: 15\n",
      "digite a nota do 10° aluno: 15.45878\n",
      "a soma das notas é 33.745878\n"
     ]
    }
   ],
   "source": [
    "notas = [float(input(f'digite a nota do {i + 1}° aluno: ')) for i in range(15)]\n",
    "\n",
    "print(f'a médias das notas é {sum(notas) / len(notas)}')"
   ]
  }
 ],
 "metadata": {
  "kernelspec": {
   "display_name": "Python 3 (ipykernel)",
   "language": "python",
   "name": "python3"
  },
  "language_info": {
   "codemirror_mode": {
    "name": "ipython",
    "version": 3
   },
   "file_extension": ".py",
   "mimetype": "text/x-python",
   "name": "python",
   "nbconvert_exporter": "python",
   "pygments_lexer": "ipython3",
   "version": "3.10.5"
  }
 },
 "nbformat": 4,
 "nbformat_minor": 5
}
