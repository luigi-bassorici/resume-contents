{
 "cells": [
  {
   "cell_type": "code",
   "execution_count": 1,
   "id": "1e0e049e",
   "metadata": {},
   "outputs": [
    {
     "name": "stdout",
     "output_type": "stream",
     "text": [
      "digite um número entre 0 e 10.000 : 12132015\n",
      "\n",
      "- Número inválido\n",
      "\n",
      "\n",
      "digite um número entre 0 e 10.000 : 1254\n",
      "digite outro número entre 0 e 10.000 : 856\n",
      "[4 5 2 1]\n",
      "[6 5 8]\n",
      "2110\n"
     ]
    }
   ],
   "source": [
    "import numpy as np\n",
    "while True :\n",
    "    a = int(input('digite um número entre 0 e 10.000 : ')) \n",
    "    if a < 0 or a > 10000:\n",
    "        print('\\n- Número inválido\\n\\n')\n",
    "        continue\n",
    "    while True :\n",
    "        b = int(input('digite outro número entre 0 e 10.000 : '))\n",
    "        if  b < 0 or b > 10000:\n",
    "            print('\\n- Número inválido\\n\\n')\n",
    "            continue\n",
    "        break \n",
    "    break\n",
    "vetor_a =  np.array([ int(i) for i in str(a)[ : : -1]])\n",
    "vetor_b = np.array([ int(i) for i in str(b)[ : : -1]])\n",
    "print(vetor_a)\n",
    "print(vetor_b)\n",
    "soma = int(''.join([str(i) for i in list(vetor_a)][::-1])) + int(''.join([str(i) for i in list(vetor_b)][::-1]))\n",
    "print(soma)"
   ]
  }
 ],
 "metadata": {
  "kernelspec": {
   "display_name": "Python 3 (ipykernel)",
   "language": "python",
   "name": "python3"
  },
  "language_info": {
   "codemirror_mode": {
    "name": "ipython",
    "version": 3
   },
   "file_extension": ".py",
   "mimetype": "text/x-python",
   "name": "python",
   "nbconvert_exporter": "python",
   "pygments_lexer": "ipython3",
   "version": "3.10.5"
  }
 },
 "nbformat": 4,
 "nbformat_minor": 5
}
