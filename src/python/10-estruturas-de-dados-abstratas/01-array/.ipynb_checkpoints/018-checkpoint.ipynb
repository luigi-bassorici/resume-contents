{
 "cells": [
  {
   "cell_type": "code",
   "execution_count": 1,
   "id": "437662ac",
   "metadata": {},
   "outputs": [],
   "source": [
    "import numpy as np"
   ]
  },
  {
   "cell_type": "code",
   "execution_count": 9,
   "id": "7e1b0581",
   "metadata": {},
   "outputs": [
    {
     "name": "stdout",
     "output_type": "stream",
     "text": [
      "escolha o número que deseja analisar: 10\n",
      "[1, 2, 10, 5]\n"
     ]
    }
   ],
   "source": [
    "vetor = [0, 1, 2, 3, 4, 5, 6, 7, 8, 9, 10]\n",
    "\n",
    "x = int(input('escolha o número que deseja analisar: '))\n",
    "\n",
    "multiplos = [i  for i in range(1, x + 1)  if x%i == 0]\n",
    "\n",
    "print(list(set(multiplos)))"
   ]
  }
 ],
 "metadata": {
  "kernelspec": {
   "display_name": "Python 3 (ipykernel)",
   "language": "python",
   "name": "python3"
  },
  "language_info": {
   "codemirror_mode": {
    "name": "ipython",
    "version": 3
   },
   "file_extension": ".py",
   "mimetype": "text/x-python",
   "name": "python",
   "nbconvert_exporter": "python",
   "pygments_lexer": "ipython3",
   "version": "3.10.5"
  }
 },
 "nbformat": 4,
 "nbformat_minor": 5
}
