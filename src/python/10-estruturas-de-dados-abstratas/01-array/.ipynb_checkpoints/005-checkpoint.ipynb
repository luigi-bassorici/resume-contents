{
 "cells": [
  {
   "cell_type": "code",
   "execution_count": 1,
   "id": "357f335e",
   "metadata": {},
   "outputs": [],
   "source": [
    "import numpy as np"
   ]
  },
  {
   "cell_type": "code",
   "execution_count": 4,
   "id": "b01bef51",
   "metadata": {},
   "outputs": [
    {
     "name": "stdout",
     "output_type": "stream",
     "text": [
      "existem 2 números pares, e eles são:\n",
      "[955970, 9854756]\n"
     ]
    }
   ],
   "source": [
    "vetor = [51651565, 51515485, 955970, 65648487, 26564875, 959874551, 3265245, 9854756]\n",
    "pares = [i for i in vetor if i%2 == 0]\n",
    "\n",
    "print(f'existem {len(pares)} números pares, e eles são:\\n{pares}')"
   ]
  }
 ],
 "metadata": {
  "kernelspec": {
   "display_name": "Python 3 (ipykernel)",
   "language": "python",
   "name": "python3"
  },
  "language_info": {
   "codemirror_mode": {
    "name": "ipython",
    "version": 3
   },
   "file_extension": ".py",
   "mimetype": "text/x-python",
   "name": "python",
   "nbconvert_exporter": "python",
   "pygments_lexer": "ipython3",
   "version": "3.10.5"
  }
 },
 "nbformat": 4,
 "nbformat_minor": 5
}
