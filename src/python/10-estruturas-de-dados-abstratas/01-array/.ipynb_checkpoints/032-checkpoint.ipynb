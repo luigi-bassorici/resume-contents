{
 "cells": [
  {
   "cell_type": "code",
   "execution_count": 1,
   "id": "3a3be31f",
   "metadata": {},
   "outputs": [],
   "source": [
    "import numpy as np"
   ]
  },
  {
   "cell_type": "code",
   "execution_count": 12,
   "id": "19f2555a",
   "metadata": {},
   "outputs": [
    {
     "name": "stdout",
     "output_type": "stream",
     "text": [
      "[ 4  6  8 10 12]\n",
      "[ 3  8 15 24 35]\n",
      "{1, 2}\n",
      "{3, 4, 5}\n",
      "{1, 2, 3, 4, 5, 6, 7}\n"
     ]
    }
   ],
   "source": [
    "x = [1, 2, 3, 4, 5 ]\n",
    "y = [3, 4, 5, 6, 7 ]\n",
    "# Soma entre x e y\n",
    "print(np.array(x) + np.array(y))\n",
    "# Produto entre x e y\n",
    "print(np.array(x) * np.array(y))\n",
    "# Diferença entre x e y\n",
    "print(set(x) - set(y))\n",
    "# Interseçao entre x e y\n",
    "print(set(x) & set(y))\n",
    "# Uniao entre x e y\n",
    "print(set(x) | set(y))"
   ]
  }
 ],
 "metadata": {
  "kernelspec": {
   "display_name": "Python 3 (ipykernel)",
   "language": "python",
   "name": "python3"
  },
  "language_info": {
   "codemirror_mode": {
    "name": "ipython",
    "version": 3
   },
   "file_extension": ".py",
   "mimetype": "text/x-python",
   "name": "python",
   "nbconvert_exporter": "python",
   "pygments_lexer": "ipython3",
   "version": "3.10.5"
  }
 },
 "nbformat": 4,
 "nbformat_minor": 5
}
