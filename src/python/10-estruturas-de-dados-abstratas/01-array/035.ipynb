{
 "cells": [
  {
   "cell_type": "code",
   "execution_count": 1,
   "id": "1e0e049e",
   "metadata": {},
   "outputs": [
    {
     "name": "stdout",
     "output_type": "stream",
     "text": [
      "digite um número entre 0 e 10.000 : 12132015\n",
      "\n",
      "- Número inválido\n",
      "\n",
      "\n",
      "digite um número entre 0 e 10.000 : 1254\n",
      "digite outro número entre 0 e 10.000 : 856\n",
      "[4 5 2 1]\n",
      "[6 5 8]\n",
      "2110\n"
     ]
    }
   ],
   "source": [
    "import numpy as np\n",
    "while True :\n",
    "    a = int(input('digite um número entre 0 e 10.000 : ')) \n",
    "    if a < 0 or a > 10000:\n",
    "        print('\\n- Número inválido\\n\\n')\n",
    "        continue\n",
    "    while True :\n",
    "        b = int(input('digite outro número entre 0 e 10.000 : '))\n",
    "        if  b < 0 or b > 10000:\n",
    "            print('\\n- Número inválido\\n\\n')\n",
    "            continue\n",
    "        break \n",
    "    break\n",
    "vetor_a =  np.array([ int(i) for i in str(a)[ : : -1]])\n",
    "vetor_b = np.array([ int(i) for i in str(b)[ : : -1]])\n",
    "print(vetor_a)\n",
    "print(vetor_b)\n",
    "soma = int(''.join([str(i) for i in list(vetor_a)][::-1])) + int(''.join([str(i) for i in list(vetor_b)][::-1]))\n",
    "print(soma)"
   ]
  }
 ],
 "metadata": {
  "kernelspec": {
   "display_name": "Python 3 (ipykernel)",
   "language": "python",
   "name": "python3"
  },
  "language_info": {
   "codemirror_mode": {
    "name": "ipython",
    "version": 3
   },
   "file_extension": ".py",
   "mimetype": "text/x-python",
   "name": "python",
   "nbconvert_exporter": "python",
   "pygments_lexer": "ipython3",
   "version": "3.9.12"
  },
  "toc": {
   "base_numbering": 1,
   "nav_menu": {},
   "number_sections": true,
   "sideBar": true,
   "skip_h1_title": false,
   "title_cell": "Table of Contents",
   "title_sidebar": "Contents",
   "toc_cell": false,
   "toc_position": {},
   "toc_section_display": true,
   "toc_window_display": false
  },
  "varInspector": {
   "cols": {
    "lenName": 16,
    "lenType": 16,
    "lenVar": 40
   },
   "kernels_config": {
    "python": {
     "delete_cmd_postfix": "",
     "delete_cmd_prefix": "del ",
     "library": "var_list.py",
     "varRefreshCmd": "print(var_dic_list())"
    },
    "r": {
     "delete_cmd_postfix": ") ",
     "delete_cmd_prefix": "rm(",
     "library": "var_list.r",
     "varRefreshCmd": "cat(var_dic_list()) "
    }
   },
   "types_to_exclude": [
    "module",
    "function",
    "builtin_function_or_method",
    "instance",
    "_Feature"
   ],
   "window_display": false
  }
 },
 "nbformat": 4,
 "nbformat_minor": 5
}
