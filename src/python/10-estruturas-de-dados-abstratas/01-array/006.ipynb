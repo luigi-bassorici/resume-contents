{
 "cells": [
  {
   "cell_type": "code",
   "execution_count": 1,
   "id": "6b292c36",
   "metadata": {},
   "outputs": [],
   "source": [
    "import numpy as np"
   ]
  },
  {
   "cell_type": "code",
   "execution_count": 1,
   "id": "2a595d28",
   "metadata": {
    "scrolled": true
   },
   "outputs": [
    {
     "name": "stdout",
     "output_type": "stream",
     "text": [
      "digite o 1° número: 154\n",
      "digite o 2° número: sdf\n",
      "preciso que tu me digites um numero\n",
      "digite o 2° número: 56\n",
      "digite o 3° número: 5955\n",
      "digite o 4° número: 6556\n",
      "digite o 5° número: 652326\n",
      "digite o 6° número: 595\n",
      "digite o 7° número: 5656\n",
      "digite o 8° número: 96\n",
      "digite o 9° número: 65\n",
      "digite o 10° número: 950\n"
     ]
    }
   ],
   "source": [
    "lista = []\n",
    "while len(lista) < 10 :\n",
    "    try :\n",
    "        lista.append(int(input(f'digite o {len(lista) + 1}° número: ')))\n",
    "        \n",
    "    except:\n",
    "        print('preciso que tu me digites um numero')"
   ]
  },
  {
   "cell_type": "code",
   "execution_count": 2,
   "id": "a7771a28",
   "metadata": {},
   "outputs": [
    {
     "name": "stdout",
     "output_type": "stream",
     "text": [
      "o maior número foi 652326\n",
      "o menor número foi 56\n"
     ]
    }
   ],
   "source": [
    "print(f'o maior número foi {max(lista)}')\n",
    "print(f'o menor número foi {min(lista)}')"
   ]
  }
 ],
 "metadata": {
  "kernelspec": {
   "display_name": "Python 3 (ipykernel)",
   "language": "python",
   "name": "python3"
  },
  "language_info": {
   "codemirror_mode": {
    "name": "ipython",
    "version": 3
   },
   "file_extension": ".py",
   "mimetype": "text/x-python",
   "name": "python",
   "nbconvert_exporter": "python",
   "pygments_lexer": "ipython3",
   "version": "3.10.5"
  }
 },
 "nbformat": 4,
 "nbformat_minor": 5
}
