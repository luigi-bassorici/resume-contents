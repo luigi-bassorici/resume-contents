{
 "cells": [
  {
   "cell_type": "code",
   "execution_count": 2,
   "id": "07b47bb5",
   "metadata": {},
   "outputs": [],
   "source": [
    "import numpy as np"
   ]
  },
  {
   "cell_type": "code",
   "execution_count": 10,
   "id": "d8630b0b",
   "metadata": {},
   "outputs": [
    {
     "name": "stdout",
     "output_type": "stream",
     "text": [
      "[81 14 56 21 72  0 25 56  0  0]\n"
     ]
    }
   ],
   "source": [
    "vetor1 = np.random.randint(0, 10, (10))\n",
    "vetor2 = np.random.randint(0, 10, (10))\n",
    "vetor3 = vetor1 * vetor2\n",
    "print(vetor3)"
   ]
  }
 ],
 "metadata": {
  "kernelspec": {
   "display_name": "Python 3 (ipykernel)",
   "language": "python",
   "name": "python3"
  },
  "language_info": {
   "codemirror_mode": {
    "name": "ipython",
    "version": 3
   },
   "file_extension": ".py",
   "mimetype": "text/x-python",
   "name": "python",
   "nbconvert_exporter": "python",
   "pygments_lexer": "ipython3",
   "version": "3.10.5"
  }
 },
 "nbformat": 4,
 "nbformat_minor": 5
}
