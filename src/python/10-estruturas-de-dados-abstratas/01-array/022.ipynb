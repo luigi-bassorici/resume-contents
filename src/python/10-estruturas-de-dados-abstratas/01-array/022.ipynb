{
 "cells": [
  {
   "cell_type": "code",
   "execution_count": 1,
   "id": "94b40c02",
   "metadata": {},
   "outputs": [],
   "source": [
    "import numpy as np"
   ]
  },
  {
   "cell_type": "code",
   "execution_count": 5,
   "id": "9261d9e7",
   "metadata": {},
   "outputs": [
    {
     "name": "stdout",
     "output_type": "stream",
     "text": [
      "[ 1 12  3 14  5 16  7 18  9 20]\n"
     ]
    }
   ],
   "source": [
    "vetor1 = np.array(object = [1, 2, 3, 4, 5, 6, 7, 8, 9, 10])\n",
    "vetor2 = np.array(object = [11, 12, 13, 14, 15, 16, 17, 18, 19, 20])\n",
    "vetor3 = np.array([vetor1[i] if i%2 == 0 else vetor2[i] for i in range(10) ])\n",
    "\n",
    "print(vetor3)"
   ]
  }
 ],
 "metadata": {
  "kernelspec": {
   "display_name": "Python 3 (ipykernel)",
   "language": "python",
   "name": "python3"
  },
  "language_info": {
   "codemirror_mode": {
    "name": "ipython",
    "version": 3
   },
   "file_extension": ".py",
   "mimetype": "text/x-python",
   "name": "python",
   "nbconvert_exporter": "python",
   "pygments_lexer": "ipython3",
   "version": "3.10.5"
  }
 },
 "nbformat": 4,
 "nbformat_minor": 5
}
