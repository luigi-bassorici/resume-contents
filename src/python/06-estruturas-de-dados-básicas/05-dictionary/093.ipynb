{
 "cells": [
  {
   "cell_type": "markdown",
   "id": "c1ca84a3",
   "metadata": {},
   "source": [
    "Crie um programa que gerencie o aproveitamento de um jogador de futebol. O programa vai ler o nome do jogador e quantas partidas ele jogou. Depois vai ler a quantidade de gols feitos em cada partida. No final, tudo isso será guardado em um dicionário, incluindo o total de gols feitos durante o campeonato."
   ]
  },
  {
   "cell_type": "code",
   "execution_count": 26,
   "id": "0e3fda62",
   "metadata": {},
   "outputs": [
    {
     "name": "stdout",
     "output_type": "stream",
     "text": [
      "nome: zico\n",
      "número de jogos na temporada: 2\n",
      "quantos gols o jogador marcou na 1° partida: 1\n",
      "quantos gols o jogador marcou na 2° partida: 2\n",
      "{'nome': 'zico', 'número de partidas': 2, 'número de gols': [1, 2]}\n",
      "nome : zico\n",
      "número de partidas : 2\n",
      "gols no 1° jogo : 1\n",
      "gols no 2° jogo : 2\n",
      "fez 3 gols ao total\n"
     ]
    }
   ],
   "source": [
    "dic={}\n",
    "dic['nome']=input('nome: ')\n",
    "npartidas=int(input('número de jogos na temporada: '))\n",
    "dic['número de partidas']= npartidas\n",
    "dic['número de gols'] = [int(input(f\"quantos gols o jogador marcou na {i+1}° partida: \")) for i in range(npartidas) ]\n",
    "print(dic)\n",
    "\n",
    "for k,v in dic.items():\n",
    "    if type(v)==list:\n",
    "        for pos,i in enumerate(v):\n",
    "            print(f\"gols no {pos+1}° jogo : {i}\")\n",
    "        print(f\"fez {sum(v)} gols ao total\")\n",
    "        continue\n",
    "    print(f'{k} : {v}')"
   ]
  }
 ],
 "metadata": {
  "kernelspec": {
   "display_name": "Python 3 (ipykernel)",
   "language": "python",
   "name": "python3"
  },
  "language_info": {
   "codemirror_mode": {
    "name": "ipython",
    "version": 3
   },
   "file_extension": ".py",
   "mimetype": "text/x-python",
   "name": "python",
   "nbconvert_exporter": "python",
   "pygments_lexer": "ipython3",
   "version": "3.9.7"
  }
 },
 "nbformat": 4,
 "nbformat_minor": 5
}
