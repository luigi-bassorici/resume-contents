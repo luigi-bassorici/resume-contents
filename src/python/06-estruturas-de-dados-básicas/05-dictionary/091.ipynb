{
 "cells": [
  {
   "cell_type": "code",
   "execution_count": 29,
   "id": "7842011a",
   "metadata": {},
   "outputs": [
    {
     "name": "stdout",
     "output_type": "stream",
     "text": [
      "Jogador 1 ➠ lado 4\n",
      "Jogador 2 ➠ lado 1\n",
      "Jogador 3 ➠ lado 5\n",
      "Jogador 4 ➠ lado 4\n",
      "\n",
      "RANKING DE JOGADORES\n",
      "\n",
      "1°  ➠ Jogador 3\n",
      "2°  ➠ Jogador 1\n",
      "3°  ➠ Jogador 4\n",
      "4°  ➠ Jogador 2\n"
     ]
    }
   ],
   "source": [
    "from random import *\n",
    "dic={}\n",
    "lista=[]\n",
    "cont=1\n",
    "\n",
    "for i in range(1,5):\n",
    "    nome=(f\"Jogador {i}\")\n",
    "    dic[nome]=randint(1,6)\n",
    "    print(f\"{nome} ➠ lado {dic[nome]}\")\n",
    "\n",
    "for i in dic.values():\n",
    "    lista.append(i)\n",
    "lista.sort(reverse=True)\n",
    "\n",
    "print(\"\\nRANKING DE JOGADORES\\n\")\n",
    "\n",
    "for v in lista:\n",
    "    for k in dic:\n",
    "        if v==dic[k]:\n",
    "            print(f'{cont}°  ➠ {k}')\n",
    "            dic[k]=10\n",
    "            cont+=1"
   ]
  }
 ],
 "metadata": {
  "kernelspec": {
   "display_name": "Python 3 (ipykernel)",
   "language": "python",
   "name": "python3"
  },
  "language_info": {
   "codemirror_mode": {
    "name": "ipython",
    "version": 3
   },
   "file_extension": ".py",
   "mimetype": "text/x-python",
   "name": "python",
   "nbconvert_exporter": "python",
   "pygments_lexer": "ipython3",
   "version": "3.9.7"
  }
 },
 "nbformat": 4,
 "nbformat_minor": 5
}
