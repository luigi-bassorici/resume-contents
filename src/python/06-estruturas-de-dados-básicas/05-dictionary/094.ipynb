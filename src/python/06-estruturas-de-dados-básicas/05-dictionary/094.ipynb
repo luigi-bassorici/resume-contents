{
 "cells": [
  {
   "cell_type": "markdown",
   "id": "b16f1998",
   "metadata": {},
   "source": [
    "crie um programa que leia nome, sexo e idade de várias pessoas, guardando os dados de cada pessoa em um dicionário e todos os dicionários em uma lista. No final, mostre: \n",
    "A) Quantas pessoas foram cadastradas\n",
    "B) A média de idade\n",
    "C) Uma lista com as mulheres\n",
    "D) Uma lista de pessoas com idade acima da média"
   ]
  },
  {
   "cell_type": "code",
   "execution_count": 3,
   "id": "49dabde5",
   "metadata": {},
   "outputs": [
    {
     "name": "stdout",
     "output_type": "stream",
     "text": [
      "nome: luigi\n",
      "idade: 18\n",
      "sexo [m/f]: m\n",
      "deseja sair  [s/n]n\n",
      "nome: luiza\n",
      "idade: 15\n",
      "sexo [m/f]: f\n",
      "deseja sair  [s/n]n\n",
      "nome: esmeralda\n",
      "idade: 45\n",
      "sexo [m/f]: f\n",
      "deseja sair  [s/n]n\n",
      "nome: adroir\n",
      "idade: 49\n",
      "sexo [m/f]: m\n",
      "deseja sair  [s/n]s\n",
      "\n",
      "nome : luigi idade : 18 sexo : m \n",
      "nome : luiza idade : 15 sexo : f \n",
      "nome : esmeralda idade : 45 sexo : f \n",
      "nome : adroir idade : 49 sexo : m foram cadastradas 4 pessoas\n",
      "a média de idade foi de 31.75\n",
      "mulheres cadastradas: ['luiza', 'esmeralda']\n",
      "pessoas mais velhas: ['esmeralda', 'adroir']\n"
     ]
    }
   ],
   "source": [
    "lista=[]\n",
    "média=0\n",
    "mulheres=[]\n",
    "velhos=[]\n",
    "\n",
    "while True :\n",
    "    dic={}\n",
    "    \n",
    "    # nome\n",
    "    dic['nome'] = input(\"nome: \")\n",
    "    \n",
    "    # idade\n",
    "    dic['idade'] = int(input(\"idade: \"))\n",
    "    média+=dic['idade']\n",
    "    \n",
    "    # sexo + mulher\n",
    "    dic['sexo']=input(\"sexo [m/f]: \").casefold()\n",
    "    while dic['sexo'] not in 'mf':\n",
    "        dic['sexo']=input(\"Erro aceitamos apenas m ou f!\\nsexo [m/f]: \").casefold()\n",
    "    if dic['sexo'] in 'f':\n",
    "        mulheres.append(dic['nome'])\n",
    "        \n",
    "    # saida\n",
    "    saida = input(\"deseja sair  [s/n]\").casefold()\n",
    "    while saida not in 'sn':\n",
    "        saida=input(\"erro\\ndeseja sair  [s/n]\").casefold()\n",
    "    \n",
    "    lista.append(dic)\n",
    "    if saida == 's':\n",
    "        break\n",
    "for dic in lista:\n",
    "    print()\n",
    "    if dic['idade']>média/len(lista):\n",
    "        velhos.append(dic['nome'])\n",
    "    for k,v in dic.items():\n",
    "        print(f\"{k} : {v} \",end='')\n",
    "\n",
    "#A) Quantas pessoas foram cadastradas\n",
    "print(f'\\nforam cadastradas {len(lista)} pessoas')\n",
    "#B) A média de idade\n",
    "print(f\"a média de idade foi de {média/len(lista)}\")\n",
    "#C) Uma lista com as mulheres\n",
    "print(f\"mulheres cadastradas: {mulheres}\")\n",
    "#D) Uma lista de pessoas com idade acima da média\n",
    "print(f\"pessoas mais velhas: {velhos}\")"
   ]
  }
 ],
 "metadata": {
  "kernelspec": {
   "display_name": "Python 3 (ipykernel)",
   "language": "python",
   "name": "python3"
  },
  "language_info": {
   "codemirror_mode": {
    "name": "ipython",
    "version": 3
   },
   "file_extension": ".py",
   "mimetype": "text/x-python",
   "name": "python",
   "nbconvert_exporter": "python",
   "pygments_lexer": "ipython3",
   "version": "3.9.7"
  }
 },
 "nbformat": 4,
 "nbformat_minor": 5
}
