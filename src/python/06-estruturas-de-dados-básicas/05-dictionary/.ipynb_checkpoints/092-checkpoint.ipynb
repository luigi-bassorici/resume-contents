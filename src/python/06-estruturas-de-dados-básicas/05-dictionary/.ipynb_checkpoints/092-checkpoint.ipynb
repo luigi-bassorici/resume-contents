{
 "cells": [
  {
   "cell_type": "markdown",
   "id": "9faeca85",
   "metadata": {},
   "source": [
    "Crie um programa que leia nome, ano de nascimento e carteira de trabalho e cadastre-o (com idade) em um dicionário. Se por acaso a CTPS for diferente de ZERO, o dicionário receberá também o ano de contratação e o salário. Calcule e acrescente, além da idade, com quantos anos a pessoa vai se aposentar."
   ]
  },
  {
   "cell_type": "code",
   "execution_count": 16,
   "id": "044650d3",
   "metadata": {},
   "outputs": [
    {
     "name": "stdout",
     "output_type": "stream",
     "text": [
      "Nome: luigi\n",
      "Ano de nascimento: 2002\n",
      "Carteira de trabalho (0 não tem): 21343\n",
      "Ano de contratação: 2016\n",
      "Quanto era o seu salário? R$ 2134\n",
      "\n",
      "Consulta de aposentadoria:\n",
      "\n",
      "nome : luigi\n",
      "idade : 20\n",
      "carteira : 21343\n",
      "contratação : 2016\n",
      "salario : 2134.0\n",
      "aposentadoria : 54\n"
     ]
    }
   ],
   "source": [
    "from datetime import *\n",
    "\n",
    "dic = {}\n",
    "dic['nome'] = input('Nome: ')\n",
    "nasceu = int(input('Ano de nascimento: '))\n",
    "dic['idade'] = datetime.now().year - nasceu\n",
    "dic['carteira'] = int(input('Carteira de trabalho (0 não tem): '))\n",
    "\n",
    "if dic['carteira'] == 0:\n",
    "    print(\"como você não possui registro de CTPS, não poderá se aposentar\")\n",
    "                    \n",
    "else:\n",
    "    dic['contratação'] = int(input('Ano de contratação: '))\n",
    "    dic['salario'] = float(input('Quanto era o seu salário? R$ '))\n",
    "    dic['aposentadoria'] = 65\n",
    "    if dic['contratação'] + 40 < nasceu + 65:\n",
    "        dic['aposentadoria'] = dic['contratação'] + 40 - nasceu\n",
    "\n",
    "    print(\"\\nConsulta de aposentadoria:\\n\")\n",
    "    for k,v in dic.items():\n",
    "        print(f\"{k} : {v}\")"
   ]
  }
 ],
 "metadata": {
  "kernelspec": {
   "display_name": "Python 3 (ipykernel)",
   "language": "python",
   "name": "python3"
  },
  "language_info": {
   "codemirror_mode": {
    "name": "ipython",
    "version": 3
   },
   "file_extension": ".py",
   "mimetype": "text/x-python",
   "name": "python",
   "nbconvert_exporter": "python",
   "pygments_lexer": "ipython3",
   "version": "3.9.7"
  }
 },
 "nbformat": 4,
 "nbformat_minor": 5
}
