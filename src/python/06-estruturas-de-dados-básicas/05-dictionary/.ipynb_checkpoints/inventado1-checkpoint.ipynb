{
 "cells": [
  {
   "cell_type": "markdown",
   "id": "cac078e4",
   "metadata": {},
   "source": [
    "crie um programa que de ao usuario a capacidade de passar as compras do cliente por meio de códigosde barra de cada produto"
   ]
  },
  {
   "cell_type": "code",
   "execution_count": 15,
   "id": "58beae5b",
   "metadata": {},
   "outputs": [
    {
     "name": "stdout",
     "output_type": "stream",
     "text": [
      "deseja alterar o estoque ? [s/n]:2\n",
      "\n",
      "--leitor de código de barra--5\n",
      "quantidade :2\n",
      "\n",
      "--leitor de código de barra--6\n",
      "quantidade :3\n",
      "\n",
      "--leitor de código de barra--2\n",
      "quantidade :10\n",
      "\n",
      "--leitor de código de barra--0\n",
      "\n",
      "Sexta de compras: \n",
      "10 borracha = R$35.00 \n",
      "o total da compra foi de: R$35.00\n"
     ]
    }
   ],
   "source": [
    "from copy import *\n",
    "if input('deseja alterar o estoque ? [s/n]:') == 's':\n",
    "    while True:\n",
    "        dic={}\n",
    "        dic['cod'] = int(input('cod: '))\n",
    "        dic['nome'] = str(input('nome: '))\n",
    "        dic['valor unitário'] = float(input('valor unitário: '))\n",
    "        estoque.append(dic)\n",
    "        \n",
    "        saída=str(input('quer cadastrar outro produto [s/n] ?  '))\n",
    "        if saída in 'Nn':\n",
    "            break\n",
    "\n",
    "cesta=[]\n",
    "while True:\n",
    "    cod=int(input('\\n--leitor de código de barra--'))\n",
    "    if cod == 0:\n",
    "        break\n",
    "    quantidade=int(input('quantidade :'))\n",
    "    \n",
    "    for produto in estoque:\n",
    "        if produto['cod']==cod:\n",
    "            cesta.append(deepcopy(produto))\n",
    "            \n",
    "    for produto in cesta:\n",
    "        if produto['cod']==cod:\n",
    "            produto['quantidade']=quantidade\n",
    "            produto['subtotal']=produto['valor unitário']*quantidade\n",
    "            \n",
    "            \n",
    "total=0\n",
    "\n",
    "print('\\nCesta de compras: ')\n",
    "for produto in cesta:\n",
    "    print(f'{produto[\"quantidade\"]} {produto[\"nome\"]} = R${produto[\"subtotal\"]:.2f} ' )\n",
    "    total+=produto['subtotal']\n",
    "print(f'o total da compra foi de: R${total:.2f}')"
   ]
  },
  {
   "cell_type": "code",
   "execution_count": null,
   "id": "0e860038",
   "metadata": {},
   "outputs": [],
   "source": []
  }
 ],
 "metadata": {
  "kernelspec": {
   "display_name": "Python 3 (ipykernel)",
   "language": "python",
   "name": "python3"
  },
  "language_info": {
   "codemirror_mode": {
    "name": "ipython",
    "version": 3
   },
   "file_extension": ".py",
   "mimetype": "text/x-python",
   "name": "python",
   "nbconvert_exporter": "python",
   "pygments_lexer": "ipython3",
   "version": "3.9.12"
  },
  "toc": {
   "base_numbering": 1,
   "nav_menu": {},
   "number_sections": true,
   "sideBar": true,
   "skip_h1_title": false,
   "title_cell": "Table of Contents",
   "title_sidebar": "Contents",
   "toc_cell": false,
   "toc_position": {},
   "toc_section_display": true,
   "toc_window_display": false
  },
  "varInspector": {
   "cols": {
    "lenName": 16,
    "lenType": 16,
    "lenVar": 40
   },
   "kernels_config": {
    "python": {
     "delete_cmd_postfix": "",
     "delete_cmd_prefix": "del ",
     "library": "var_list.py",
     "varRefreshCmd": "print(var_dic_list())"
    },
    "r": {
     "delete_cmd_postfix": ") ",
     "delete_cmd_prefix": "rm(",
     "library": "var_list.r",
     "varRefreshCmd": "cat(var_dic_list()) "
    }
   },
   "types_to_exclude": [
    "module",
    "function",
    "builtin_function_or_method",
    "instance",
    "_Feature"
   ],
   "window_display": false
  }
 },
 "nbformat": 4,
 "nbformat_minor": 5
}
