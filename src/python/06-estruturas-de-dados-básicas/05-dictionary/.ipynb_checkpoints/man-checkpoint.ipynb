{
 "cells": [
  {
   "cell_type": "markdown",
   "id": "14cc76df",
   "metadata": {},
   "source": [
    "###  definição e sintaxe\n",
    "\n",
    "É uma variável composta que pode abrigar um indicie (key) for each informação (value)\n",
    "ou seja, cada valor pode ser rotulado com uma espécie de tag, ou eu posso atrelar informações umas nas outras\n",
    "\n",
    "dict= {k : v,\n",
    "           k : v,\n",
    "           k : v,\n",
    "           k : v,\n",
    "}"
   ]
  },
  {
   "cell_type": "code",
   "execution_count": 33,
   "id": "185484c2",
   "metadata": {},
   "outputs": [],
   "source": [
    "dictionary = {}\n",
    "dictionary = {\n",
    "    'nome' : 'Luigi',\n",
    "    'sexo' : 'm',\n",
    "    'idade' : 18,\n",
    "}"
   ]
  },
  {
   "cell_type": "markdown",
   "id": "362c35f3",
   "metadata": {},
   "source": [
    "### adiconar ou alterar itens itens do dictionary"
   ]
  },
  {
   "cell_type": "code",
   "execution_count": 34,
   "id": "b63070e8",
   "metadata": {},
   "outputs": [
    {
     "name": "stdout",
     "output_type": "stream",
     "text": [
      "{'nome': 'Luigi', 'sexo': 'm', 'idade': 18, 'peso': 110}\n",
      "{'nome': 'Luigi', 'sexo': 'm', 'idade': 19, 'peso': 110, 'altura': 180.8}\n"
     ]
    }
   ],
   "source": [
    "dictionary ['peso'] = 110\n",
    "# READ -> em 'dicionario' a key 'peso' recebe o value int(110)\n",
    "print(dictionary)\n",
    "\n",
    "# serve para\n",
    "# adicionar k nova e atribuir a ela um v \n",
    "dictionary ['altura'] = 179.80\n",
    "# subscrever o v de dessa k\n",
    "dictionary ['idade'] = 19\n",
    "# contatenar um v da k \n",
    "dictionary ['altura'] += 1\n",
    "print(dictionary)"
   ]
  },
  {
   "cell_type": "markdown",
   "id": "0895f597",
   "metadata": {},
   "source": [
    "### remover um item"
   ]
  },
  {
   "cell_type": "code",
   "execution_count": 35,
   "id": "1761a6f9",
   "metadata": {},
   "outputs": [
    {
     "name": "stdout",
     "output_type": "stream",
     "text": [
      "{'nome': 'Luigi', 'idade': 19, 'peso': 110, 'altura': 180.8}\n",
      "180.8\n",
      "{'nome': 'Luigi', 'idade': 19, 'peso': 110}\n",
      "('peso', 110)\n",
      "{'nome': 'Luigi', 'idade': 19}\n"
     ]
    }
   ],
   "source": [
    "# DEL\n",
    "del dictionary['sexo']\n",
    "print(dictionary)\n",
    "\n",
    "# .pop('k') -> remove o item assim como o del, porém o método além de remover retorna o valor que foi removido\n",
    "print(dictionary.pop('altura'))\n",
    "print(dictionary)\n",
    "\n",
    "#.popitem() igual o .pop, porém esse ao remover o item, captura também a chave, e os devolve em uma tupla \n",
    "print(dictionary.popitem())\n",
    "print(dictionary)"
   ]
  },
  {
   "cell_type": "markdown",
   "id": "3c5006c0",
   "metadata": {},
   "source": [
    "### métodos para percorrerimento\n",
    "\n",
    "o que eu estou percorrendo ➜ o que estou acessando\n",
    "\n",
    "var ➜ K :\n",
    "\n",
    "var.values( ) ➜ : V\n",
    "\n",
    "var.keys( ) ➜ K :\n",
    "\n",
    "var.items( ) ➜ K : V\n",
    "\n",
    "como acessar um valor específico :\n",
    "var['k'] ➜ V"
   ]
  },
  {
   "cell_type": "code",
   "execution_count": 2,
   "id": "1073fc96",
   "metadata": {},
   "outputs": [
    {
     "ename": "IndentationError",
     "evalue": "expected an indented block (Temp/ipykernel_5368/1665152539.py, line 5)",
     "output_type": "error",
     "traceback": [
      "\u001b[1;36m  File \u001b[1;32m\"C:\\Users\\luigi\\AppData\\Local\\Temp/ipykernel_5368/1665152539.py\"\u001b[1;36m, line \u001b[1;32m5\u001b[0m\n\u001b[1;33m    for K,V in dicionario:\u001b[0m\n\u001b[1;37m    ^\u001b[0m\n\u001b[1;31mIndentationError\u001b[0m\u001b[1;31m:\u001b[0m expected an indented block\n"
     ]
    }
   ],
   "source": [
    "for i in dictionary:\n",
    "#    i = K\n",
    "\n",
    "for i in dictionary.values():\n",
    "#    i = V\n",
    "\n",
    "for i in dictionary:\n",
    "#    i = K\n",
    "#    var['K'] = V\n",
    "\n",
    "for i in dictionary.items():\n",
    "#    i = (K, V)\n",
    "\n",
    "for k, v in dictionary.items():\n",
    "#    K = K\n",
    "#    V = V"
   ]
  },
  {
   "cell_type": "code",
   "execution_count": 36,
   "id": "2b9a8662",
   "metadata": {},
   "outputs": [
    {
     "ename": "SyntaxError",
     "evalue": "invalid syntax (3349203994.py, line 1)",
     "output_type": "error",
     "traceback": [
      "\u001b[0;36m  Input \u001b[0;32mIn [36]\u001b[0;36m\u001b[0m\n\u001b[0;31m    essa é a melhor forma básica de se acessar itens de um dictionary\u001b[0m\n\u001b[0m         ^\u001b[0m\n\u001b[0;31mSyntaxError\u001b[0m\u001b[0;31m:\u001b[0m invalid syntax\n"
     ]
    }
   ],
   "source": [
    "# essa é a melhor forma básica de se acessar itens de um dictionary\n",
    "\n",
    "for k, v in dictionary.items():\n",
    "#    K = K\n",
    "#    V = V"
   ]
  },
  {
   "cell_type": "markdown",
   "id": "7f87bbd7",
   "metadata": {},
   "source": [
    "#### formas de copiar um dicionário\n",
    "dic1 = dic2 = forma errada!"
   ]
  },
  {
   "cell_type": "code",
   "execution_count": 37,
   "id": "b1bb9093",
   "metadata": {},
   "outputs": [
    {
     "name": "stdout",
     "output_type": "stream",
     "text": [
      "{'nome': 'veloses e furiosos', 'ano': 1977, 'diretor': 'carlinhos brown'}\n"
     ]
    }
   ],
   "source": [
    "dic1 = {\n",
    "    'nome' : 'star wars',\n",
    "    'ano' : 1977,\n",
    "    'diretor' : 'carlinhos brown'\n",
    "}\n",
    "dic2 = dic1\n",
    "# aqui eu digo que dic2 é equivalente a dic1 , logo se eu mudar algo em um deles eu altero o outro\n",
    "\n",
    "dic1 ['nome'] = 'veloses e furiosos'\n",
    "\n",
    "# teoricamente só o primeiro deveria mudar, mas os dois mudam pq eu criei um vincúlo entre eles\n",
    "print(dic2)"
   ]
  },
  {
   "cell_type": "markdown",
   "id": "aacb7f43",
   "metadata": {},
   "source": [
    "### forma correta de se fazer uma cópia de um dictionary"
   ]
  },
  {
   "cell_type": "code",
   "execution_count": 39,
   "id": "fb459864",
   "metadata": {},
   "outputs": [
    {
     "name": "stdout",
     "output_type": "stream",
     "text": [
      "{'nome': 'star wars', 'ano': 1977, 'diretor': 'carlinhos brown'}\n"
     ]
    }
   ],
   "source": [
    "from copy import deepcopy\n",
    "dic1 = {\n",
    "    'nome' : 'star wars',\n",
    "    'ano' : 1977,\n",
    "    'diretor' : 'carlinhos brown'\n",
    "}\n",
    "dic2 = deepcopy(dic1)\n",
    "\n",
    "dic1 ['nome'] = 'veloses e furiosos'\n",
    "# a modificação de um não altera o outro, pq foi feita uma cópia sem vincular um ao outro\n",
    "print(dic2)"
   ]
  },
  {
   "cell_type": "markdown",
   "id": "a0a4ee8c",
   "metadata": {},
   "source": [
    "### conversão de iterables em dict( )\n",
    "é possível converter:\n",
    "\n",
    "list com lists\n",
    "\n",
    "list com tuples\n",
    "\n",
    "tuple com tuples\n",
    "\n",
    "tuple com lists\n"
   ]
  },
  {
   "cell_type": "markdown",
   "id": "a8405cc1",
   "metadata": {},
   "source": [
    "##### lista = [\n",
    "    ['nome' , 'star wars'],\n",
    "    ['ano' , 1977],\n",
    "    ['diretor' , 'marcos alonso'],\n",
    "]\n",
    "\n",
    "print(dict(lista))"
   ]
  }
 ],
 "metadata": {
  "kernelspec": {
   "display_name": "Python 3 (ipykernel)",
   "language": "python",
   "name": "python3"
  },
  "language_info": {
   "codemirror_mode": {
    "name": "ipython",
    "version": 3
   },
   "file_extension": ".py",
   "mimetype": "text/x-python",
   "name": "python",
   "nbconvert_exporter": "python",
   "pygments_lexer": "ipython3",
   "version": "3.9.12"
  },
  "toc": {
   "base_numbering": 1,
   "nav_menu": {},
   "number_sections": true,
   "sideBar": true,
   "skip_h1_title": false,
   "title_cell": "Table of Contents",
   "title_sidebar": "Contents",
   "toc_cell": false,
   "toc_position": {},
   "toc_section_display": true,
   "toc_window_display": false
  },
  "varInspector": {
   "cols": {
    "lenName": 16,
    "lenType": 16,
    "lenVar": 40
   },
   "kernels_config": {
    "python": {
     "delete_cmd_postfix": "",
     "delete_cmd_prefix": "del ",
     "library": "var_list.py",
     "varRefreshCmd": "print(var_dic_list())"
    },
    "r": {
     "delete_cmd_postfix": ") ",
     "delete_cmd_prefix": "rm(",
     "library": "var_list.r",
     "varRefreshCmd": "cat(var_dic_list()) "
    }
   },
   "types_to_exclude": [
    "module",
    "function",
    "builtin_function_or_method",
    "instance",
    "_Feature"
   ],
   "window_display": false
  }
 },
 "nbformat": 4,
 "nbformat_minor": 5
}
