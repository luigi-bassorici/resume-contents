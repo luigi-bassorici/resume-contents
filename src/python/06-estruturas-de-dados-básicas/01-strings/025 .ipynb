{
 "cells": [
  {
   "cell_type": "code",
   "execution_count": null,
   "id": "b641520c",
   "metadata": {},
   "outputs": [],
   "source": [
    "nome = input(\"digite o seu nome: \")\n",
    "nome1 = nome.strip()\n",
    "nome2 = nome.title()\n",
    "x = nome2.find(\"Silva\")\n",
    "\n",
    "if x == -1:\n",
    "    print(\"\\nNo seu nome não há Silva. \")\n",
    "else:\n",
    "    print(\"\\n No seu nome há Silva. \")"
   ]
  }
 ],
 "metadata": {
  "kernelspec": {
   "display_name": "Python 3.10.4 64-bit",
   "language": "python",
   "name": "python3"
  },
  "language_info": {
   "codemirror_mode": {
    "name": "ipython",
    "version": 3
   },
   "file_extension": ".py",
   "mimetype": "text/x-python",
   "name": "python",
   "nbconvert_exporter": "python",
   "pygments_lexer": "ipython3",
   "version": "3.10.4"
  },
  "vscode": {
   "interpreter": {
    "hash": "916dbcbb3f70747c44a77c7bcd40155683ae19c65e1c03b4aa3499c5328201f1"
   }
  }
 },
 "nbformat": 4,
 "nbformat_minor": 5
}
