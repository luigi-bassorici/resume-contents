{
 "cells": [
  {
   "cell_type": "markdown",
   "id": "64e2febd",
   "metadata": {},
   "source": [
    "criar um programa que identifique se a cidade natal do individuo tem como o primeiro nome santo, e corrigir a má escrita"
   ]
  },
  {
   "cell_type": "code",
   "execution_count": null,
   "id": "6c8c0398",
   "metadata": {},
   "outputs": [],
   "source": [
    "cidade = input(\"digite o nome da sua cidade natal: \")\n",
    "\n",
    "cidade_corrigindo_espaços = cidade.strip()\n",
    "\n",
    "cidade_final = cidade_corrigindo_espaços.title()\n",
    "\n",
    "lista = cidade_final.split()\n",
    "\n",
    "if \"Santo\" in lista:\n",
    "    print(\"certo\")\n",
    "else:\n",
    "    print(\"essa não é a sa cidade natal\")"
   ]
  }
 ],
 "metadata": {
  "kernelspec": {
   "display_name": "Python 3 (ipykernel)",
   "language": "python",
   "name": "python3"
  },
  "language_info": {
   "codemirror_mode": {
    "name": "ipython",
    "version": 3
   },
   "file_extension": ".py",
   "mimetype": "text/x-python",
   "name": "python",
   "nbconvert_exporter": "python",
   "pygments_lexer": "ipython3",
   "version": "3.9.7"
  }
 },
 "nbformat": 4,
 "nbformat_minor": 5
}
