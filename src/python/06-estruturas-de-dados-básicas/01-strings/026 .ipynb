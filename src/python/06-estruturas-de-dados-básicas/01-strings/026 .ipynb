{
 "cells": [
  {
   "cell_type": "markdown",
   "id": "b197f753",
   "metadata": {},
   "source": [
    "criar um algoritimo que diga quantas vezes tal caracter se repete , qual a primeira e ultima vez que ele aparece"
   ]
  },
  {
   "cell_type": "code",
   "execution_count": null,
   "id": "c3497f03",
   "metadata": {},
   "outputs": [],
   "source": [
    "# receber e tratar a str\n",
    "f = input(\"digite uma frase\")\n",
    "f1 = f.strip()\n",
    "f2 = f1.casefold()\n",
    "\n",
    "# extrair os dados da str\n",
    "dado1 = f2.count(\" \")\n",
    "dado2 = f2.find(\" \")\n",
    "dado3 = f2.rfind(\" \")\n",
    "\n",
    "# mostrar os dados\n",
    "print(\"\\nhow many times: \",dado1)\n",
    "print(\"first time: \",dado2)\n",
    "print(\"last time: \",dado3)"
   ]
  }
 ],
 "metadata": {
  "kernelspec": {
   "display_name": "Python 3.10.4 64-bit",
   "language": "python",
   "name": "python3"
  },
  "language_info": {
   "codemirror_mode": {
    "name": "ipython",
    "version": 3
   },
   "file_extension": ".py",
   "mimetype": "text/x-python",
   "name": "python",
   "nbconvert_exporter": "python",
   "pygments_lexer": "ipython3",
   "version": "3.10.4"
  },
  "vscode": {
   "interpreter": {
    "hash": "916dbcbb3f70747c44a77c7bcd40155683ae19c65e1c03b4aa3499c5328201f1"
   }
  }
 },
 "nbformat": 4,
 "nbformat_minor": 5
}
