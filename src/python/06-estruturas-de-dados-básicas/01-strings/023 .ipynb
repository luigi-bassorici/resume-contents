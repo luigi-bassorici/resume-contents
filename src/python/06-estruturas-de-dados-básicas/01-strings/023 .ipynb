{
 "cells": [
  {
   "cell_type": "markdown",
   "id": "e8a57143",
   "metadata": {},
   "source": [
    "analisar o valor relativo de cada casa decimal de um número com até 4 casas"
   ]
  },
  {
   "cell_type": "code",
   "execution_count": 1,
   "id": "7204efb5",
   "metadata": {},
   "outputs": [
    {
     "name": "stdout",
     "output_type": "stream",
     "text": [
      "digite um número para ser analisado: 1548\n",
      "\n",
      "O número tem :\n",
      "\n",
      "8 unidades\n",
      "\n",
      "4 dezenas\n",
      "\n",
      "5 centenas\n",
      "\n",
      "1 unidades de milhar\n"
     ]
    }
   ],
   "source": [
    "n = int(input(\"digite um número para ser analisado: \"))\n",
    "\n",
    "print(\"\\nO número tem :\\n\")\n",
    "\n",
    "u = n // 1 % 10\n",
    "d = n // 10 % 10\n",
    "c = n // 100 % 10\n",
    "m = n // 1000 % 10\n",
    "\n",
    "print(f\"{u} unidades\\n\")\n",
    "print(f\"{d} dezenas\\n\")\n",
    "print(f\"{c} centenas\\n\")\n",
    "print(f\"{m} unidades de milhar\")"
   ]
  }
 ],
 "metadata": {
  "kernelspec": {
   "display_name": "Python 3 (ipykernel)",
   "language": "python",
   "name": "python3"
  },
  "language_info": {
   "codemirror_mode": {
    "name": "ipython",
    "version": 3
   },
   "file_extension": ".py",
   "mimetype": "text/x-python",
   "name": "python",
   "nbconvert_exporter": "python",
   "pygments_lexer": "ipython3",
   "version": "3.10.4"
  }
 },
 "nbformat": 4,
 "nbformat_minor": 5
}
