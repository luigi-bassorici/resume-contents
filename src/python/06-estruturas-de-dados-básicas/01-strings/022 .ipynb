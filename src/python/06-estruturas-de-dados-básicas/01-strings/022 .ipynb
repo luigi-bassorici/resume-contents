{
 "cells": [
  {
   "cell_type": "markdown",
   "id": "c7e439b5",
   "metadata": {},
   "source": [
    "criar um programa que analise o nome de uma pessoa"
   ]
  },
  {
   "cell_type": "code",
   "execution_count": 1,
   "id": "d86b0565",
   "metadata": {},
   "outputs": [
    {
     "name": "stdout",
     "output_type": "stream",
     "text": [
      "\n",
      "\n",
      "0\n",
      "0\n"
     ]
    }
   ],
   "source": [
    "nome = input(\"digite o seu nome: \")\n",
    "\n",
    "# nome todô maiúsculo\n",
    "nome_mai = nome.upper()\n",
    "\n",
    "print(nome_mai)\n",
    "\n",
    "# nome todô minúsculo\n",
    "nome_min = nome.casefold()\n",
    "\n",
    "print(nome_min)\n",
    "\n",
    "# quantas letras* tem nome\n",
    "comprimento_da_str_toda = len(nome)\n",
    "nespaços = nome.count(\" \")\n",
    "\n",
    "print(comprimento_da_str_toda-nespaços)\n",
    "\n",
    "# quantas letras tem o primeiro numero\n",
    "lista_de_palavras = nome.split(\" \")\n",
    "primeiro_nome = lista_de_palavras[0]\n",
    "\n",
    "print(len(primeiro_nome))"
   ]
  }
 ],
 "metadata": {
  "kernelspec": {
   "display_name": "Python 3.9.12 ('base')",
   "language": "python",
   "name": "python3"
  },
  "language_info": {
   "codemirror_mode": {
    "name": "ipython",
    "version": 3
   },
   "file_extension": ".py",
   "mimetype": "text/x-python",
   "name": "python",
   "nbconvert_exporter": "python",
   "pygments_lexer": "ipython3",
   "version": "3.9.12"
  },
  "vscode": {
   "interpreter": {
    "hash": "33b810481f1c9ddcdf4350e7b3277bcfdd865aba083de11948a72f0c94bfb615"
   }
  }
 },
 "nbformat": 4,
 "nbformat_minor": 5
}
