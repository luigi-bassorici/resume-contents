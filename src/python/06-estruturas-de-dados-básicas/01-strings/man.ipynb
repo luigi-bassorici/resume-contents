{
 "cells": [
  {
   "cell_type": "markdown",
   "id": "bfd37824",
   "metadata": {},
   "source": [
    "# Strings"
   ]
  },
  {
   "cell_type": "markdown",
   "id": "f296e425",
   "metadata": {},
   "source": [
    "##### 1°"
   ]
  },
  {
   "cell_type": "code",
   "execution_count": 4,
   "id": "38bc809d",
   "metadata": {},
   "outputs": [
    {
     "name": "stdout",
     "output_type": "stream",
     "text": [
      "string 1: lui\n",
      "string 2: lui\n",
      "as duas strings tem o mesmo tamanho > 3\n",
      "as duas strings são idênticas\n"
     ]
    }
   ],
   "source": [
    "string1 = input(\"string 1: \")\n",
    "string2 = input(\"string 2: \")\n",
    "\n",
    "if len(string1) == len(string2):\n",
    "    print(f\"as duas strings tem o mesmo tamanho > {len(string1)}\")\n",
    "else:\n",
    "    print(f\"A string 1 tem {len(string1)} me's\")\n",
    "    print(f\"A string 2 tem {len(string2)} me's\")\n",
    "    \n",
    "if string1 == string2:\n",
    "    print('as duas strings são idênticas')\n",
    "else:\n",
    "    print('as duas strings possuem informações diferentes')"
   ]
  },
  {
   "cell_type": "markdown",
   "id": "2748e25f",
   "metadata": {},
   "source": [
    "##### 2°"
   ]
  },
  {
   "cell_type": "code",
   "execution_count": 1,
   "id": "0cb64360",
   "metadata": {},
   "outputs": [
    {
     "name": "stdout",
     "output_type": "stream",
     "text": [
      "nome: luigi bassorici\n",
      "ICIROSSAB IGIUL\n"
     ]
    }
   ],
   "source": [
    "nome=str(input('nome: ')).upper()\n",
    "print(nome[::-1])"
   ]
  },
  {
   "cell_type": "markdown",
   "id": "45ea9488",
   "metadata": {},
   "source": [
    "##### 3° "
   ]
  },
  {
   "cell_type": "code",
   "execution_count": 15,
   "id": "ae5d1316",
   "metadata": {},
   "outputs": [
    {
     "name": "stdout",
     "output_type": "stream",
     "text": [
      "luigi bassorici\n",
      "l\n",
      "u\n",
      "i\n",
      "g\n",
      "i\n",
      " \n",
      "b\n",
      "a\n",
      "s\n",
      "s\n",
      "o\n",
      "r\n",
      "i\n",
      "c\n",
      "i\n"
     ]
    }
   ],
   "source": [
    "string=input()\n",
    "for me in string:\n",
    "    print(me)"
   ]
  },
  {
   "cell_type": "markdown",
   "id": "ef64df6c",
   "metadata": {},
   "source": [
    "##### 4 °"
   ]
  },
  {
   "cell_type": "code",
   "execution_count": 17,
   "id": "19628f87",
   "metadata": {},
   "outputs": [
    {
     "name": "stdout",
     "output_type": "stream",
     "text": [
      "luigi bassorici\n",
      "\n",
      "l\n",
      "lu\n",
      "lui\n",
      "luig\n",
      "luigi\n",
      "luigi \n",
      "luigi b\n",
      "luigi ba\n",
      "luigi bas\n",
      "luigi bass\n",
      "luigi basso\n",
      "luigi bassor\n",
      "luigi bassori\n",
      "luigi bassoric\n",
      "luigi bassorici\n"
     ]
    }
   ],
   "source": [
    "string=input()\n",
    "for i in range(len(string)+1):\n",
    "    print(string[:i])"
   ]
  },
  {
   "cell_type": "markdown",
   "id": "a8369bb8",
   "metadata": {},
   "source": [
    "#### 5 °\n"
   ]
  },
  {
   "cell_type": "code",
   "execution_count": 38,
   "id": "b3bf362e",
   "metadata": {},
   "outputs": [
    {
     "name": "stdout",
     "output_type": "stream",
     "text": [
      "nome : luigi\n",
      "luigi\n",
      "luig\n",
      "lui\n",
      "lu\n",
      "l\n"
     ]
    }
   ],
   "source": [
    "string=input('nome : ')\n",
    "for i in range(len(string),0,-1):\n",
    "    print(string[:i])"
   ]
  },
  {
   "cell_type": "markdown",
   "id": "c37a1720",
   "metadata": {},
   "source": [
    "##### 6°"
   ]
  },
  {
   "cell_type": "code",
   "execution_count": 5,
   "id": "87314e7f",
   "metadata": {},
   "outputs": [
    {
     "name": "stdout",
     "output_type": "stream",
     "text": [
      "digite a datano formato dd/mm/aaaa: 12/03/1999\n",
      "12 de março de 1999\n"
     ]
    }
   ],
   "source": [
    "# 0,0 no kernel\n",
    "meses=['janeiro','fevereiro','março','abril','maio','junho','julho','agosto','setembro','novembro','dezembro']\n",
    "\n",
    "string = input(\"digite a datano formato dd/mm/aaaa: \")\n",
    "lista = string.split(\"/\")\n",
    "mes=(int(lista[1])-1)\n",
    "\n",
    "print(f\"{lista[0]} de {meses[mes]} de {lista[2]}\")"
   ]
  },
  {
   "cell_type": "markdown",
   "id": "f87ad24d",
   "metadata": {},
   "source": [
    "##### 7°"
   ]
  },
  {
   "cell_type": "code",
   "execution_count": 10,
   "id": "80dff883",
   "metadata": {},
   "outputs": [
    {
     "name": "stdout",
     "output_type": "stream",
     "text": [
      "luigi bassorici foi a feira em uma sexta feira \n",
      "na sua str há 9 espaços e 21 vogais\n"
     ]
    }
   ],
   "source": [
    "vogais = 0\n",
    "palavra=input()\n",
    "\n",
    "espaços=palavra.count(' ')\n",
    "\n",
    "for i in 'aeiou':\n",
    "    vogais+=palavra.casefold().count(i)\n",
    "    \n",
    "print(f'na sua str há {espaços} espaços e {vogais} vogais')"
   ]
  },
  {
   "cell_type": "markdown",
   "id": "f2e72d8f",
   "metadata": {},
   "source": [
    "##### 8°"
   ]
  },
  {
   "cell_type": "code",
   "execution_count": null,
   "id": "5337bb7f",
   "metadata": {},
   "outputs": [],
   "source": [
    "a=input(\"digite a frase: \").strip().casefold()\n",
    "lista=a.split() # separando a \"str\" em varios itens \n",
    "junto=\"\".join(lista) # juntando a lista de itens em uma \"str\" só\n",
    "inverso=junto[::-1] # invertendo a ordem dos \"microspaces\"\n",
    "\n",
    "if junto==inverso: # comparing the sentence with its inverse (both without spaces and with all lowercase letters)\n",
    "    print(\"\\né um palíndromo \")\n",
    "else:\n",
    "    print(\"\\nnão é um palíndromo\")"
   ]
  },
  {
   "cell_type": "markdown",
   "id": "c58d28b0",
   "metadata": {},
   "source": [
    "##### 9°"
   ]
  },
  {
   "cell_type": "code",
   "execution_count": 1,
   "id": "0c7170ac",
   "metadata": {},
   "outputs": [
    {
     "name": "stdout",
     "output_type": "stream",
     "text": [
      "cpf : 123.456.789-10\n",
      "O cpf \u001b[1;31m123.456.789-10\u001b[m foi cadastrado\n"
     ]
    }
   ],
   "source": [
    "while True:\n",
    "    numeros=0\n",
    "    cpf=input(\"cpf : \")\n",
    "            \n",
    "    for i in cpf:\n",
    "        if i.isnumeric()== True:\n",
    "            numeros+=1\n",
    "            \n",
    "    if len(cpf) != 14:\n",
    "        print(\"\\nErro, cpf inválido, use o formato xxx.xxx.xxx-xx\\n\")\n",
    "        continue\n",
    "        \n",
    "    elif cpf[3] !='.' or cpf[7] !='.' or cpf[11]!='-':\n",
    "        print(\"\\nErro, cpf inválido, use o formato xxx.xxx.xxx-xx\\n\")\n",
    "        continue\n",
    "\n",
    "    elif numeros !=11:\n",
    "        print(\"\\nErro, cpf inválido, use o formato xxx.xxx.xxx-xx\\n\")\n",
    "        continue\n",
    "        \n",
    "    else:\n",
    "        print(f'O cpf \\033[1;31m{cpf}\\033[m foi cadastrado')\n",
    "        break"
   ]
  },
  {
   "cell_type": "markdown",
   "id": "5fd32620",
   "metadata": {},
   "source": [
    "##### 10°"
   ]
  },
  {
   "cell_type": "code",
   "execution_count": 69,
   "id": "b87821fe",
   "metadata": {},
   "outputs": [
    {
     "name": "stdout",
     "output_type": "stream",
     "text": [
      "digite um número até 99 : 12\n",
      "O número escrito por extenso é : doze\n"
     ]
    }
   ],
   "source": [
    "unidades=['um','dois','três','quatro','cinco','seis','sete','oito','nove','dez','onze','doze','treze','quatorze','quinze','dezesseis','dezesete','dezoito','dezenove']\n",
    "dezenas=['vinte','trinta','quarenta','cinquenta','sessenta','setenta','oitenta','noventa']\n",
    "\n",
    "while True:\n",
    "    numero=input(\"digite um número até 99 : \")\n",
    "    if int(numero) > 99:\n",
    "        print(\"\\n Erro! número maior que 99! \")\n",
    "        continue\n",
    "    if int(numero) <= 19:\n",
    "        print(f\"O número escrito por extenso é : {unidades[int(numero)-1]}\")\n",
    "        break\n",
    "    if len(numero) >1 and numero[1] == '0':\n",
    "        print(f\"O número escrito por extenso é : {dezenas[int(numero[0])-2]}\")\n",
    "        break\n",
    "    else: \n",
    "        print(f\"O número escrito por extenso é : {dezenas[int(numero[0])-2]} e {unidades[int(numero[1])-1]} \")\n",
    "        break"
   ]
  },
  {
   "cell_type": "markdown",
   "id": "bf617fd2",
   "metadata": {},
   "source": [
    "##### 11°"
   ]
  },
  {
   "cell_type": "code",
   "execution_count": null,
   "id": "f1bc44df",
   "metadata": {},
   "outputs": [
    {
     "name": "stdout",
     "output_type": "stream",
     "text": [
      "\n",
      "[1] Frutas\n",
      "[2] Animais\n",
      "escolha um tema: 1\n",
      "\n",
      "A palavra tem 4 letras\n",
      "\n",
      "digite uma letra: b\n",
      "\n",
      "\n",
      "você errou \u001b[2;31m1/5\u001b[m vezes\n",
      "\n",
      "\u001b[2;31m☐ \u001b[m\u001b[2;31m☐ \u001b[m\u001b[2;31m☐ \u001b[m\u001b[2;31m☐ \u001b[m\n",
      "digite uma letra: r\n",
      "\n",
      "\n",
      "você errou \u001b[2;31m2/5\u001b[m vezes\n",
      "\n",
      "\u001b[2;31m☐ \u001b[m\u001b[2;31m☐ \u001b[m\u001b[2;31m☐ \u001b[m\u001b[2;31m☐ \u001b[m\n",
      "digite uma letra: s\n",
      "\n",
      "\n",
      "você errou \u001b[2;31m3/5\u001b[m vezes\n",
      "\n",
      "\u001b[2;31m☐ \u001b[m\u001b[2;31m☐ \u001b[m\u001b[2;31m☐ \u001b[m\u001b[2;31m☐ \u001b[m\n",
      "digite uma letra: d\n",
      "\n",
      "\n",
      "você errou \u001b[2;31m4/5\u001b[m vezes\n",
      "\n",
      "\u001b[2;31m☐ \u001b[m\u001b[2;31m☐ \u001b[m\u001b[2;31m☐ \u001b[m\u001b[2;31m☐ \u001b[m"
     ]
    }
   ],
   "source": [
    "from random import *\n",
    "lista=[['caju','laranja','bergamota','tangerina','tucuma','lima',\n",
    "        'banana','amora','uva','ata'],\n",
    "       ['cachorro','onca','macaco','gaivota','hipopotamo','galinha'\n",
    "        ,'cobra','cisne','aguia','gamba']]\n",
    "\n",
    "tema=int(input(\"\"\"\n",
    "[1] Frutas\n",
    "[2] Animais\n",
    "escolha um tema: \"\"\"))\n",
    "\n",
    "palavra = lista[tema-1][randint(0,(len(lista[tema-1])-1))].upper()\n",
    "\n",
    "incognita = ['☐'for i in range(len(palavra))]\n",
    "\n",
    "cont=0\n",
    "print(f'\\nA palavra tem {len(palavra)} letras')\n",
    "while True:\n",
    "    letra = input(\"\\ndigite uma letra: \").upper()\n",
    "    \n",
    "    for pos,me in enumerate(palavra):\n",
    "        if letra == me: \n",
    "            incognita[pos]=letra\n",
    "            \n",
    "    if letra in palavra:\n",
    "        print(f'\\na palavra tem {letra}!\\n')\n",
    "              \n",
    "    if letra not in palavra:\n",
    "        cont+=1\n",
    "        print(f'\\n\\nvocê errou \\033[2;31m{cont}/5\\033[m vezes\\n')\n",
    "              \n",
    "    if cont ==5:\n",
    "        print(f'\\nGAME OVER')\n",
    "        print(f'\\na palavra era {palavra}')\n",
    "        break\n",
    "              \n",
    "    for i in incognita:\n",
    "        print(f'\\033[2;31m{i} \\033[m',end='')\n",
    "\n",
    "    if '☐' not in incognita:\n",
    "        print(f'\\nvc  ganhou PARABÉNS')\n",
    "        break"
   ]
  },
  {
   "cell_type": "markdown",
   "id": "a03ad4b5",
   "metadata": {},
   "source": [
    "##### 12°\n",
    "Faça um programa que leia um número de telefone, e corrija o número no caso deste conter \n",
    "somente 7 dígitos, acrescentando o '3' na frente. O usuário pode informar o número com ou sem \n",
    "o traço separador.\n",
    "\n",
    "Valida e corrige número de telefone\n",
    "Telefone: 461-0133\n",
    "Telefone possui 7 dígitos. Vou acrescentar o digito três na frente.\n",
    "Telefone corrigido sem formatação: 34610133\n",
    "Telefone corrigido com formatação: 3461-0133"
   ]
  },
  {
   "cell_type": "code",
   "execution_count": 1,
   "id": "a461532b",
   "metadata": {},
   "outputs": [
    {
     "name": "stdout",
     "output_type": "stream",
     "text": [
      "número com ou sem traço: 1234-5678\n",
      " o número \u001b[2;31m1234-5678\u001b[m\n"
     ]
    }
   ],
   "source": [
    "numero = input('número com ou sem traço: ')\n",
    "\n",
    "if '-' in numero:\n",
    "    numero = numero.replace('-','')\n",
    "\n",
    "if len(numero)==7:\n",
    "    numero='3'+ numero\n",
    "    \n",
    "print(f' o número \\033[2;31m{numero[:4]}-{numero[4:]}\\033[m')"
   ]
  },
  {
   "cell_type": "markdown",
   "id": "70eb886b",
   "metadata": {},
   "source": [
    "##### 13°"
   ]
  },
  {
   "cell_type": "code",
   "execution_count": 197,
   "id": "958e3959",
   "metadata": {},
   "outputs": [
    {
     "name": "stdout",
     "output_type": "stream",
     "text": [
      "áifrc\n",
      "a palavra é: fricá\n",
      "vc errou 1/6\n",
      "\n",
      "a palavra é: crifá\n",
      "vc errou 2/6\n",
      "\n",
      "a palavra é: cirfá\n",
      "vc errou 3/6\n",
      "\n",
      "a palavra é: ficrá\n",
      "vc errou 4/6\n",
      "\n",
      "a palavra é: fácri\n",
      "vc errou 5/6\n",
      "\n",
      "a palavra é: ss\n",
      "vc errou 6/6\n",
      "vc perdeu a palavra era cifrá\n"
     ]
    }
   ],
   "source": [
    "from random import *\n",
    "cont=0\n",
    "\n",
    "with open(\"palavras.txt\", encoding=\"utf8\") as arquivo:\n",
    "    palavras = arquivo.read()\n",
    "\n",
    "lista=palavras.split('\\n')\n",
    "palavra = lista[randint(0,(len(lista)-1))].casefold()\n",
    "\n",
    "for i in sample(palavra,len(palavra)):\n",
    "    print(f'{i}',end='')\n",
    "\n",
    "while True:\n",
    "    palpite=input('\\na palavra é: ')\n",
    "    \n",
    "    if palpite == palavra:\n",
    "        print(\"\\nganhou\")\n",
    "        break\n",
    "    else:\n",
    "        cont+=1\n",
    "        print(f'vc errou {cont}/6')\n",
    "        if cont == 6:\n",
    "            print(f'vc perdeu a palavra era {palavra}')\n",
    "            break    "
   ]
  }
 ],
 "metadata": {
  "kernelspec": {
   "display_name": "Python 3 (ipykernel)",
   "language": "python",
   "name": "python3"
  },
  "language_info": {
   "codemirror_mode": {
    "name": "ipython",
    "version": 3
   },
   "file_extension": ".py",
   "mimetype": "text/x-python",
   "name": "python",
   "nbconvert_exporter": "python",
   "pygments_lexer": "ipython3",
   "version": "3.10.4"
  },
  "vscode": {
   "interpreter": {
    "hash": "916dbcbb3f70747c44a77c7bcd40155683ae19c65e1c03b4aa3499c5328201f1"
   }
  }
 },
 "nbformat": 4,
 "nbformat_minor": 5
}
