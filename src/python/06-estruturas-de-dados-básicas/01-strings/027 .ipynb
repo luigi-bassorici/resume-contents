{
 "cells": [
  {
   "cell_type": "code",
   "execution_count": 1,
   "id": "1bd6661a",
   "metadata": {},
   "outputs": [
    {
     "name": "stdout",
     "output_type": "stream",
     "text": [
      "digite o seu nome completo: luigi bassorici\n",
      "o seu primeiro nome é:Luigi\n",
      "o seu último nome é:Bassorici\n"
     ]
    }
   ],
   "source": [
    "# recebendo e trantando a str\n",
    "n1 = input(\"digite o seu nome completo: \")\n",
    "n2 = n1.strip()\n",
    "n3 = n2.title()\n",
    "\n",
    "# extrair os dados\n",
    "a = n3.find(\" \")\n",
    "dado1 = n3[:a] # a contagem do python fez o trabalho\n",
    "\n",
    "b = n3.rfind(\" \")\n",
    "dado2 = n3[b + 1:] # o primeiro número é levado ao pé da letra\n",
    "\n",
    "# mostrar os dados extraidos\n",
    "print(f\"o seu primeiro nome é:{dado1}\")\n",
    "print(f\"o seu último nome é:{dado2}\")\n"
   ]
  }
 ],
 "metadata": {
  "kernelspec": {
   "display_name": "Python 3 (ipykernel)",
   "language": "python",
   "name": "python3"
  },
  "language_info": {
   "codemirror_mode": {
    "name": "ipython",
    "version": 3
   },
   "file_extension": ".py",
   "mimetype": "text/x-python",
   "name": "python",
   "nbconvert_exporter": "python",
   "pygments_lexer": "ipython3",
   "version": "3.9.7"
  }
 },
 "nbformat": 4,
 "nbformat_minor": 5
}
