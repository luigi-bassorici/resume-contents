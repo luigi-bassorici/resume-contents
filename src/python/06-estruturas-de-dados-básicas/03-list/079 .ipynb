{
 "cells": [
  {
   "cell_type": "markdown",
   "id": "a8579af7",
   "metadata": {},
   "source": [
    "079: Crie um programa onde o usuário possa digitar vários valores numéricos e cadastre-os em uma lista. Caso o número já exista lá dentro, ele não será adicionado. No final, serão exibidos todos os valores únicos digitados, em ordem crescente. "
   ]
  },
  {
   "cell_type": "code",
   "execution_count": 1,
   "id": "05423f4d",
   "metadata": {},
   "outputs": [
    {
     "name": "stdout",
     "output_type": "stream",
     "text": [
      "\n",
      "número: 15\n",
      "quer continuar? [s/n]: n\n",
      "\n",
      "15\n"
     ]
    }
   ],
   "source": [
    "lista=[]\n",
    "\n",
    "while True:\n",
    "    x=int(input(\"\\nnúmero: \"))\n",
    "    \n",
    "    # caso seja repetido\n",
    "    if x not in lista:\n",
    "        lista.append(x)\n",
    "    \n",
    "    #saída\n",
    "    s=input(\"quer continuar? [s/n]: \")\n",
    "    if s in 'Nn':\n",
    "        print(\"\")\n",
    "        break\n",
    "\n",
    "        \n",
    "# mostrar a list i a i (a-z) em um for        \n",
    "lista.sort()\n",
    "for i in lista:\n",
    "    print(i)"
   ]
  }
 ],
 "metadata": {
  "kernelspec": {
   "display_name": "Python 3 (ipykernel)",
   "language": "python",
   "name": "python3"
  },
  "language_info": {
   "codemirror_mode": {
    "name": "ipython",
    "version": 3
   },
   "file_extension": ".py",
   "mimetype": "text/x-python",
   "name": "python",
   "nbconvert_exporter": "python",
   "pygments_lexer": "ipython3",
   "version": "3.9.7"
  }
 },
 "nbformat": 4,
 "nbformat_minor": 5
}
