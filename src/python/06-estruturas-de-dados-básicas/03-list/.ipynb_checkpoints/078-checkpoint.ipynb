{
 "cells": [
  {
   "cell_type": "markdown",
   "id": "87f77039",
   "metadata": {},
   "source": [
    "078: Faça um programa que leia 5 valores numéricos e guarde-os em uma lista. No final, mostre qual foi o maior e o menor valor digitado e as suas respectivas posições na lista."
   ]
  },
  {
   "cell_type": "code",
   "execution_count": null,
   "id": "45670047",
   "metadata": {},
   "outputs": [],
   "source": [
    "lista=[]\n",
    "for i in range(5):\n",
    "    lista.append(int(input(\"digite um valor: \")))\n",
    "print(f\"Maior número: {min(lista)}\\nMenor número: {max(lista)}\")"
   ]
  }
 ],
 "metadata": {
  "kernelspec": {
   "display_name": "Python 3 (ipykernel)",
   "language": "python",
   "name": "python3"
  },
  "language_info": {
   "codemirror_mode": {
    "name": "ipython",
    "version": 3
   },
   "file_extension": ".py",
   "mimetype": "text/x-python",
   "name": "python",
   "nbconvert_exporter": "python",
   "pygments_lexer": "ipython3",
   "version": "3.9.7"
  }
 },
 "nbformat": 4,
 "nbformat_minor": 5
}
