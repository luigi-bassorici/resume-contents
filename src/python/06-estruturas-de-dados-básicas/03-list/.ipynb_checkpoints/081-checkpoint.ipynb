{
 "cells": [
  {
   "cell_type": "markdown",
   "id": "3a4854d7",
   "metadata": {},
   "source": [
    "081: Crie um programa que vai ler vários números e colocar em uma lista. Depois disso, mostre:\n",
    "\n",
    "A) Quantos números foram digitados.\n",
    "\n",
    "B) A lista de valores, ordenada de forma decrescente.\n",
    "\n",
    "C) Se o valor 5 foi digitado e está ou não na lista."
   ]
  },
  {
   "cell_type": "code",
   "execution_count": null,
   "id": "4fed6142",
   "metadata": {},
   "outputs": [],
   "source": [
    "lista=[]\n",
    "\n",
    "while True:\n",
    "    lista.append(int(input(\"\\ndigite um valor: \")))\n",
    "    \n",
    "    saida=input(\"\\ndeseja sair s/n: \").casefold()\n",
    "    if saida == 's':\n",
    "        break\n",
    "\n",
    "print(f\"\\nforam digitados {len(lista)} valores\")\n",
    "\n",
    "if 5 in lista:\n",
    "    print(\"\\n5 foi digitado.\")\n",
    "else:\n",
    "    print(\"\\n5 não foi digitado\")\n",
    "lista.sort(reverse=True)\n",
    "print(\"\\nlista\")"
   ]
  }
 ],
 "metadata": {
  "kernelspec": {
   "display_name": "Python 3 (ipykernel)",
   "language": "python",
   "name": "python3"
  },
  "language_info": {
   "codemirror_mode": {
    "name": "ipython",
    "version": 3
   },
   "file_extension": ".py",
   "mimetype": "text/x-python",
   "name": "python",
   "nbconvert_exporter": "python",
   "pygments_lexer": "ipython3",
   "version": "3.9.7"
  }
 },
 "nbformat": 4,
 "nbformat_minor": 5
}
