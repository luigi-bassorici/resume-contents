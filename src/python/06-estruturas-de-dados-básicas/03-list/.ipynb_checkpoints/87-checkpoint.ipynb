{
 "cells": [
  {
   "cell_type": "code",
   "execution_count": null,
   "id": "1f9fad71",
   "metadata": {},
   "outputs": [],
   "source": [
    "lista=[[],[],[]]\n",
    "somapares=somac3=0\n",
    "\n",
    "for pos,s in enumerate(lista):\n",
    "    for i in range(3):\n",
    "        x=int(input(f\"O número da posição [{pos}, {i}] ⇾ \"))\n",
    "        s.append(x)\n",
    "        if x %2==0:\n",
    "            somapares+=x\n",
    "print()\n",
    "for s in lista:\n",
    "    for pos,i in enumerate(s):\n",
    "        print(f\"({i})\",end=\"\")\n",
    "        if pos == 2:\n",
    "            somac3+=i\n",
    "    print()\n",
    "    \n",
    "\n",
    "    \n",
    "maiorl2=max(lista[1])\n",
    "\n",
    "print(f'''\\nA soma dos números pares é: {somapares}\n",
    "A soma dos números da 2° linha é: {maiorl2}\n",
    "A soma dos números  da 3° coluna é: {somac3}''')"
   ]
  }
 ],
 "metadata": {
  "kernelspec": {
   "display_name": "Python 3 (ipykernel)",
   "language": "python",
   "name": "python3"
  },
  "language_info": {
   "codemirror_mode": {
    "name": "ipython",
    "version": 3
   },
   "file_extension": ".py",
   "mimetype": "text/x-python",
   "name": "python",
   "nbconvert_exporter": "python",
   "pygments_lexer": "ipython3",
   "version": "3.9.7"
  }
 },
 "nbformat": 4,
 "nbformat_minor": 5
}
