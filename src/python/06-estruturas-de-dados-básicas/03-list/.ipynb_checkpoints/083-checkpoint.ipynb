{
 "cells": [
  {
   "cell_type": "markdown",
   "id": "a4df7388",
   "metadata": {},
   "source": [
    " 083: Crie um programa onde o usuário digite uma expressão qualquer que use parênteses. Seu aplicativo deverá analisar se a expressão passada está com os parênteses abertos e fechados na ordem correta."
   ]
  },
  {
   "cell_type": "code",
   "execution_count": 17,
   "id": "f830e2f0",
   "metadata": {},
   "outputs": [
    {
     "name": "stdout",
     "output_type": "stream",
     "text": [
      "(())()\n",
      "certo\n"
     ]
    }
   ],
   "source": [
    "lista=[]\n",
    "\n",
    "x=input()\n",
    "\n",
    "for i in x:\n",
    "\n",
    "    if i =='(':\n",
    "        lista.append(i)\n",
    "    if i ==')':\n",
    "        if len(lista)>0:\n",
    "            lista.pop()\n",
    "        else:\n",
    "            lista.append(i)\n",
    "            break\n",
    "    \n",
    "if len(lista)!=0:\n",
    "    print(\"errado\")\n",
    "    \n",
    "else:\n",
    "    print(\"certo\")\n"
   ]
  }
 ],
 "metadata": {
  "kernelspec": {
   "display_name": "Python 3 (ipykernel)",
   "language": "python",
   "name": "python3"
  },
  "language_info": {
   "codemirror_mode": {
    "name": "ipython",
    "version": 3
   },
   "file_extension": ".py",
   "mimetype": "text/x-python",
   "name": "python",
   "nbconvert_exporter": "python",
   "pygments_lexer": "ipython3",
   "version": "3.9.7"
  }
 },
 "nbformat": 4,
 "nbformat_minor": 5
}
