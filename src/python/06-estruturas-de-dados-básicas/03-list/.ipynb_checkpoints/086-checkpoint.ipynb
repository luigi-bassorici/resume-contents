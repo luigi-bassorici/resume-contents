{
 "cells": [
  {
   "cell_type": "markdown",
   "id": "4441bb37",
   "metadata": {},
   "source": [
    "Crie um programa que declare uma matriz de dimensão 3x3(pedir a dimensão do user) e preencha com valores lidos pelo teclado. No final, mostre a matriz na tela, com a formatação correta.'"
   ]
  },
  {
   "cell_type": "code",
   "execution_count": 44,
   "id": "31ff61c3",
   "metadata": {},
   "outputs": [
    {
     "name": "stdout",
     "output_type": "stream",
     "text": [
      "O número da posição [0, 0] ⇾ 1\n",
      "O número da posição [0, 1] ⇾ 2\n",
      "O número da posição [0, 2] ⇾ 3\n",
      "O número da posição [1, 0] ⇾ 4\n",
      "O número da posição [1, 1] ⇾ 5\n",
      "O número da posição [1, 2] ⇾ 6\n",
      "O número da posição [2, 0] ⇾ 7\n",
      "O número da posição [2, 1] ⇾ 8\n",
      "O número da posição [2, 2] ⇾ 9\n",
      "\n",
      "(1)(2)(3)\n",
      "(4)(5)(6)\n",
      "(7)(8)(9)\n",
      "\n",
      "Digite a dimensão da matriz: 4\n",
      "O número da posição [0, 0] ⇾ 1\n",
      "O número da posição [0, 1] ⇾ 2\n",
      "O número da posição [0, 2] ⇾ 3\n",
      "O número da posição [0, 3] ⇾ 4\n",
      "O número da posição [1, 0] ⇾ 5\n",
      "O número da posição [1, 1] ⇾ 6\n",
      "O número da posição [1, 2] ⇾ 7\n",
      "O número da posição [1, 3] ⇾ 8\n",
      "O número da posição [2, 0] ⇾ 9\n",
      "O número da posição [2, 1] ⇾ 10\n",
      "O número da posição [2, 2] ⇾ 11\n",
      "O número da posição [2, 3] ⇾ 12\n",
      "O número da posição [3, 0] ⇾ 13\n",
      "O número da posição [3, 1] ⇾ 14\n",
      "O número da posição [3, 2] ⇾ 15\n",
      "O número da posição [3, 3] ⇾ 16\n",
      "\n",
      "(1)(2)(3)(4)\n",
      "(5)(6)(7)(8)\n",
      "(9)(10)(11)(12)\n",
      "(13)(14)(15)(16)\n"
     ]
    }
   ],
   "source": [
    "# s = sub-lista\n",
    "# i = item de lista\n",
    "\n",
    "\n",
    "# dimensão da matriz fixa\n",
    "\n",
    "lista=[[],[],[]]\n",
    "\n",
    "for pos,s in enumerate(lista):\n",
    "    for i in range(3):\n",
    "        s.append(int(input(f\"O número da posição [{pos}, {i}] ⇾ \")))\n",
    "\n",
    "print()\n",
    "for s in lista:\n",
    "    for i in s:\n",
    "        print(f\"({i})\",end=\"\")\n",
    "    print()\n",
    "    \n",
    "# dimensão da matriz escolhida\n",
    "lista=[]\n",
    "vazio=[]\n",
    "dimensão=int(input(\"\\nDigite a dimensão da matriz: \"))\n",
    "\n",
    "for i in range(dimensão):\n",
    "    lista.append(vazio[:])\n",
    "\n",
    "for pos,sl in enumerate(lista):\n",
    "    for i in range(dimensão):\n",
    "        sl.append(int(input(f\"O número da posição [{pos}, {i}] ⇾ \")))\n",
    "print()\n",
    "for sl in lista:\n",
    "    for i in sl:\n",
    "        print(f\"({i})\",end=\"\")\n",
    "    print()"
   ]
  },
  {
   "cell_type": "code",
   "execution_count": null,
   "id": "9542d315",
   "metadata": {},
   "outputs": [],
   "source": []
  }
 ],
 "metadata": {
  "kernelspec": {
   "display_name": "Python 3 (ipykernel)",
   "language": "python",
   "name": "python3"
  },
  "language_info": {
   "codemirror_mode": {
    "name": "ipython",
    "version": 3
   },
   "file_extension": ".py",
   "mimetype": "text/x-python",
   "name": "python",
   "nbconvert_exporter": "python",
   "pygments_lexer": "ipython3",
   "version": "3.9.7"
  }
 },
 "nbformat": 4,
 "nbformat_minor": 5
}
