{
 "cells": [
  {
   "cell_type": "code",
   "execution_count": null,
   "id": "8a257bae",
   "metadata": {},
   "outputs": [],
   "source": [
    "lista=[[],[]]\n",
    "\n",
    "contadorvisual=1\n",
    "\n",
    "for i in range(7):\n",
    "    \n",
    "    num=int(input(f\"digite o {contadorvisual}º numero: \"))\n",
    "    contadorvisual+=1\n",
    "    \n",
    "    if num %2==0:\n",
    "        lista[0].append(num)\n",
    "    if num %2==1:\n",
    "        lista[1].append(num)\n",
    "        \n",
    "for sl in lista:\n",
    "    sl.sort()\n",
    "\n",
    "if len(lista[0])>0:\n",
    "    print(f\"a lista de números par em ordem crescente é {lista[0]}\")\n",
    "if len(lista[1])>0:\n",
    "    print(f\"a lista de números ímpar em ordem crescente é {lista[1]}\")"
   ]
  }
 ],
 "metadata": {
  "kernelspec": {
   "display_name": "Python 3 (ipykernel)",
   "language": "python",
   "name": "python3"
  },
  "language_info": {
   "codemirror_mode": {
    "name": "ipython",
    "version": 3
   },
   "file_extension": ".py",
   "mimetype": "text/x-python",
   "name": "python",
   "nbconvert_exporter": "python",
   "pygments_lexer": "ipython3",
   "version": "3.9.7"
  }
 },
 "nbformat": 4,
 "nbformat_minor": 5
}
