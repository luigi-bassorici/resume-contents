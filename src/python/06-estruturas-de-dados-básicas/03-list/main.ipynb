{
 "cells": [
  {
   "cell_type": "markdown",
   "id": "1ebebfa8",
   "metadata": {},
   "source": [
    "# -LISTA\n",
    "Listas são como tuplas, porém:\n",
    "\n",
    "-usam [colchetes] \n",
    "\n",
    "-são modificáveis\n",
    "\n",
    "(posso transformar uma tupla em uma lista e vice-versa)"
   ]
  },
  {
   "cell_type": "code",
   "execution_count": 2,
   "id": "6ac757d5",
   "metadata": {},
   "outputs": [],
   "source": [
    "tupla=('luigi','bassorici','123.456.789.10')\n",
    "\n",
    "lista=['luigi','bassorici','123.456.789.10']"
   ]
  },
  {
   "cell_type": "markdown",
   "id": "1d335e8e",
   "metadata": {},
   "source": [
    "os itens da lista são acessados pela sua posição no índice py: luigi = posição [0]"
   ]
  },
  {
   "cell_type": "code",
   "execution_count": 3,
   "id": "8d3dddeb",
   "metadata": {},
   "outputs": [
    {
     "name": "stdout",
     "output_type": "stream",
     "text": [
      "luigi\n"
     ]
    }
   ],
   "source": [
    "print(lista[0])"
   ]
  },
  {
   "cell_type": "markdown",
   "id": "04870665",
   "metadata": {},
   "source": [
    "# -ADICIONAR"
   ]
  },
  {
   "cell_type": "markdown",
   "id": "a00bc629",
   "metadata": {},
   "source": [
    "# .append(i)\n",
    "o método append serve para adicionar um novo item ao fim da lista (obviamente que ele precisa criar o espaço de memória onde o pc lerá esse item"
   ]
  },
  {
   "cell_type": "code",
   "execution_count": 8,
   "id": "ee865f62",
   "metadata": {},
   "outputs": [
    {
     "name": "stdout",
     "output_type": "stream",
     "text": [
      "digitei...5\n",
      "[1, 2, 3, 4, 5]\n"
     ]
    }
   ],
   "source": [
    "lista=[1,2,3,4] \n",
    "\n",
    "\n",
    "lista.append(int(input(\"digitei...\")))\n",
    "print(lista)"
   ]
  },
  {
   "cell_type": "markdown",
   "id": "67800ab2",
   "metadata": {},
   "source": [
    "# .insert(pos,i)\n",
    "o método insert serve para adicionar um novo item em determinada posição, \"jogando\" os demais (a sua direita) para a sua posição + 1 e criando um novo espaço no final"
   ]
  },
  {
   "cell_type": "code",
   "execution_count": 9,
   "id": "ab6604fd",
   "metadata": {},
   "outputs": [
    {
     "name": "stdout",
     "output_type": "stream",
     "text": [
      "digite o sobrenome do elemento: bassorici\n",
      "['Luigi', 'bassorici', '123.456.789-10']\n"
     ]
    }
   ],
   "source": [
    "lista=['Luigi','123.456.789-10']\n",
    "\n",
    "\n",
    "lista.insert(1,input(\"digite o sobrenome do elemento: \"))\n",
    "print(lista)\n",
    "\n",
    "# agora \"bassorici\" é o item 1 e \"123.456.789-10\" é o item 2"
   ]
  },
  {
   "cell_type": "markdown",
   "id": "87b2eccb",
   "metadata": {},
   "source": [
    "# - REMOVER"
   ]
  },
  {
   "cell_type": "markdown",
   "id": "e363b897",
   "metadata": {},
   "source": [
    "# del lista [:]\n",
    "serve para deletar o i's que se enontram dentro desse intervalo"
   ]
  },
  {
   "cell_type": "code",
   "execution_count": 35,
   "id": "c55b5b16",
   "metadata": {},
   "outputs": [
    {
     "data": {
      "text/plain": [
       "[3, 4, 5, 6, 7, 8, 9, 10]"
      ]
     },
     "execution_count": 35,
     "metadata": {},
     "output_type": "execute_result"
    }
   ],
   "source": [
    "lista=[0,1,2,3,4,5,6,7,8,9,10]\n",
    "del lista [0:3] # 0,1,2\n",
    "lista"
   ]
  },
  {
   "cell_type": "markdown",
   "id": "6c7f6479",
   "metadata": {},
   "source": [
    "# lista.pop()\n",
    "assim ele remove o último i da lista, já se eu coloca a posição dentro ele vai específico"
   ]
  },
  {
   "cell_type": "code",
   "execution_count": 36,
   "id": "292e7af6",
   "metadata": {},
   "outputs": [
    {
     "name": "stdout",
     "output_type": "stream",
     "text": [
      "6\n",
      "10\n",
      "[3, 4, 5, 7, 8, 9]\n"
     ]
    }
   ],
   "source": [
    "print(lista.pop(3)) # list.pop() é o número retirado, não a nova lista atualizada\n",
    "print(lista.pop())\n",
    "print(lista)"
   ]
  },
  {
   "cell_type": "code",
   "execution_count": 17,
   "id": "0eb900dd",
   "metadata": {},
   "outputs": [
    {
     "name": "stdout",
     "output_type": "stream",
     "text": [
      "518\n",
      "[1, 2, 3, 4, 518, 5]\n"
     ]
    }
   ],
   "source": [
    "lista=[1,2,3,4,518,5]\n",
    "\n",
    "lixeira=[]\n",
    "\n",
    "lixeira= lista.pop(4)# como pop() é o recorte da lista e não apenas a função para apagar, eu posso manipular com isso \n",
    "\n",
    "print(lixeira)\n",
    "print(lista)"
   ]
  },
  {
   "cell_type": "markdown",
   "id": "25a24261",
   "metadata": {},
   "source": [
    "# remove.lista(\"i\")\n",
    "serve para remover um item como ele é de fato\n",
    "\n"
   ]
  },
  {
   "cell_type": "code",
   "execution_count": 64,
   "id": "1396df5c",
   "metadata": {},
   "outputs": [
    {
     "name": "stdout",
     "output_type": "stream",
     "text": [
      "['luigi', '123.456.789-10']\n"
     ]
    }
   ],
   "source": [
    "lista=['luigi','bassorici','123.456.789-10']\n",
    "lista.remove('bassorici')\n",
    "print(lista)"
   ]
  },
  {
   "cell_type": "markdown",
   "id": "4d4ff8ce",
   "metadata": {},
   "source": [
    "# .sort()\n",
    "sort é um method dedicado a organização de listas\n",
    "\n",
    "lista.sort() organiza os itens por ordem crescente-alfabetica\n"
   ]
  },
  {
   "cell_type": "code",
   "execution_count": 80,
   "id": "7b275513",
   "metadata": {},
   "outputs": [
    {
     "name": "stdout",
     "output_type": "stream",
     "text": [
      "[1, 3, 6, 7, 9, 23]\n"
     ]
    }
   ],
   "source": [
    "lista=[3,6,1,7,9,23]\n",
    "lista.sort()\n",
    "print(lista)"
   ]
  },
  {
   "cell_type": "markdown",
   "id": "9645e8c9",
   "metadata": {},
   "source": [
    "# .sort(reverse=True)"
   ]
  },
  {
   "cell_type": "code",
   "execution_count": 81,
   "id": "dd0ffe3c",
   "metadata": {},
   "outputs": [
    {
     "name": "stdout",
     "output_type": "stream",
     "text": [
      "[23, 9, 7, 6, 3, 1]\n"
     ]
    }
   ],
   "source": [
    "lista=[3,6,1,7,9,23]\n",
    "lista.sort(reverse=True)\n",
    "print(lista)"
   ]
  },
  {
   "cell_type": "markdown",
   "id": "20b5bd14",
   "metadata": {},
   "source": [
    "# -RELACIONAR LISTAS"
   ]
  },
  {
   "cell_type": "code",
   "execution_count": 113,
   "id": "d74faeca",
   "metadata": {},
   "outputs": [
    {
     "data": {
      "text/plain": [
       "[1, 2, 3, 4, 5, 6, 7, 8, 9, 10]"
      ]
     },
     "execution_count": 113,
     "metadata": {},
     "output_type": "execute_result"
    }
   ],
   "source": [
    "lista1=[1,3,5,7,9]\n",
    "lista2=[2,4,6,8,10]\n",
    "\n",
    "lista1+=lista2\n",
    "lista1.sort()\n",
    "\n",
    "lista1"
   ]
  },
  {
   "cell_type": "code",
   "execution_count": 114,
   "id": "083d2141",
   "metadata": {},
   "outputs": [
    {
     "name": "stdout",
     "output_type": "stream",
     "text": [
      "[5, 4, 3, 2, 1]\n"
     ]
    }
   ],
   "source": [
    "lista1=[1,2,3,4,5]\n",
    "lista2=[]\n",
    "\n",
    "lista2=lista1 # estou dizendo que a lista dois é igual a um, logo a 1 agr está atrelada a dois\n",
    "\n",
    "lista2.sort(reverse=True)  # faço mudanças na 2\n",
    "\n",
    "print(lista1) # isso agr afeta a lista1\n"
   ]
  },
  {
   "cell_type": "code",
   "execution_count": 115,
   "id": "eaa66724",
   "metadata": {},
   "outputs": [
    {
     "name": "stdout",
     "output_type": "stream",
     "text": [
      "[10, 9, 8, 7, 6, 5, 3, 2, 2, 1]\n",
      "[1, 2, 3, 2, 5, 6, 7, 8, 9, 10]\n"
     ]
    }
   ],
   "source": [
    "lista1=[1,2,3,2,5,6,7,8,9,10]\n",
    "lista2=[]\n",
    "\n",
    "lista2=lista1[:] # copio os i's da lista 1 para a dois sem criar qualquer vinculo\n",
    "\n",
    "lista2.sort(reverse=True) # mudei a lista 2 e isso mudou a lista 1 pq eu disse que elas são a mesma coisa e vice-versa\n",
    "print(lista2)\n",
    "print(lista1)"
   ]
  }
 ],
 "metadata": {
  "kernelspec": {
   "display_name": "Python 3 (ipykernel)",
   "language": "python",
   "name": "python3"
  },
  "language_info": {
   "codemirror_mode": {
    "name": "ipython",
    "version": 3
   },
   "file_extension": ".py",
   "mimetype": "text/x-python",
   "name": "python",
   "nbconvert_exporter": "python",
   "pygments_lexer": "ipython3",
   "version": "3.9.12"
  },
  "toc": {
   "base_numbering": 1,
   "nav_menu": {},
   "number_sections": true,
   "sideBar": true,
   "skip_h1_title": false,
   "title_cell": "Table of Contents",
   "title_sidebar": "Contents",
   "toc_cell": false,
   "toc_position": {},
   "toc_section_display": true,
   "toc_window_display": false
  },
  "varInspector": {
   "cols": {
    "lenName": 16,
    "lenType": 16,
    "lenVar": 40
   },
   "kernels_config": {
    "python": {
     "delete_cmd_postfix": "",
     "delete_cmd_prefix": "del ",
     "library": "var_list.py",
     "varRefreshCmd": "print(var_dic_list())"
    },
    "r": {
     "delete_cmd_postfix": ") ",
     "delete_cmd_prefix": "rm(",
     "library": "var_list.r",
     "varRefreshCmd": "cat(var_dic_list()) "
    }
   },
   "types_to_exclude": [
    "module",
    "function",
    "builtin_function_or_method",
    "instance",
    "_Feature"
   ],
   "window_display": false
  }
 },
 "nbformat": 4,
 "nbformat_minor": 5
}
