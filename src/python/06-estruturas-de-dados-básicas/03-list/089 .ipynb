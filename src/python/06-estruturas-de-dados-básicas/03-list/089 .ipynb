{
 "cells": [
  {
   "cell_type": "markdown",
   "id": "7c30f59e",
   "metadata": {},
   "source": [
    "criar um programa que cadastre o nome e duas notas de alunos, depois mostre o número de cadastro, o nome e a média dessas duas notas, dando a opção de pesquisar as duas notas só pelo número de cadastro"
   ]
  },
  {
   "cell_type": "code",
   "execution_count": null,
   "id": "d87fa71c",
   "metadata": {},
   "outputs": [
    {
     "name": "stdout",
     "output_type": "stream",
     "text": [
      "nome : luigi\n",
      "nota 1 : 56\n",
      "nota 2 : 87\n",
      "deseja sair ? s/nn\n",
      "nome : luiza\n",
      "nota 1 : 23324\n",
      "nota 2 : 0\n",
      "deseja sair ? s/ns\n",
      "\n",
      "1     luigi    71.5\n",
      "2     luiza    11662.0\n",
      "\n",
      "\n",
      "pesquise as notas pelo numero da matrícula [999 para sair]: 2\n",
      "\n",
      "as notas de luiza foram respectivamente: 23324.0 e 0.0\n"
     ]
    }
   ],
   "source": [
    "macrolista=[]\n",
    "microlista=[]\n",
    "cadastro=1\n",
    "\n",
    "while True:\n",
    "    # appendando 4 dados por sub-lista\n",
    "    microlista.append(cadastro)\n",
    "    microlista.append(input(\"nome : \"))\n",
    "    microlista.append(float(input(\"nota 1 : \")))\n",
    "    microlista.append(float(input(\"nota 2 : \")))\n",
    "    microlista.append((microlista[2]+microlista[3])/2)\n",
    "    \n",
    "    # passando para a lista\n",
    "    macrolista.append(microlista[:])\n",
    "    microlista.clear()\n",
    "    cadastro+=1\n",
    "    \n",
    "    # saida\n",
    "    if input(\"deseja sair ? s/n\") in's':\n",
    "        break\n",
    "print()\n",
    "# exibindo a tabela    \n",
    "for s in macrolista:\n",
    "    print(f\"{s[0]}     {s[1]}    {s[4]}\")\n",
    "\n",
    "print()\n",
    "# caixa de pesquisa dos dados de cada aluno pelo numero de cadastro\n",
    "while True:\n",
    "    \n",
    "    x=int(input(\"\\npesquise as notas pelo numero da matrícula [999 para sair]: \"))\n",
    "    if x == 999:\n",
    "        break\n",
    "    # exibir as notas daquela sublista\n",
    "    for s in macrolista:\n",
    "        if s[0] == x:\n",
    "            print(f\"\\nas notas de {s[1]} foram respectivamente: {s[2]} e {s[3]}\")\n",
    "            \n",
    "print(\"\\n fim!\")"
   ]
  },
  {
   "cell_type": "code",
   "execution_count": null,
   "id": "55867f90",
   "metadata": {},
   "outputs": [],
   "source": []
  }
 ],
 "metadata": {
  "kernelspec": {
   "display_name": "Python 3 (ipykernel)",
   "language": "python",
   "name": "python3"
  },
  "language_info": {
   "codemirror_mode": {
    "name": "ipython",
    "version": 3
   },
   "file_extension": ".py",
   "mimetype": "text/x-python",
   "name": "python",
   "nbconvert_exporter": "python",
   "pygments_lexer": "ipython3",
   "version": "3.9.7"
  }
 },
 "nbformat": 4,
 "nbformat_minor": 5
}
