{
 "cells": [
  {
   "cell_type": "markdown",
   "id": "7280f5a0",
   "metadata": {},
   "source": [
    "Faça um programa que ajude um jogador da MEGA SENA a criar palpites.O programa vai perguntar quantos jogos serão gerados e vai sortear 6 números entre 1 e 60 para cada jogo, cadastrando tudo em uma lista composta."
   ]
  },
  {
   "cell_type": "code",
   "execution_count": 5,
   "id": "9aac37fc",
   "metadata": {},
   "outputs": [
    {
     "name": "stdout",
     "output_type": "stream",
     "text": [
      "n jogos: 6\n",
      "1° jogo é: [19, 10, 58, 38, 41, 20]\n",
      "2° jogo é: [42, 52, 44, 57, 35, 1]\n",
      "3° jogo é: [23, 6, 25, 31, 58, 8]\n",
      "4° jogo é: [7, 2, 58, 25, 5, 27]\n",
      "5° jogo é: [51, 45, 47, 55, 4, 38]\n",
      "6° jogo é: [19, 12, 36, 9, 58, 46]\n"
     ]
    }
   ],
   "source": [
    "macrolista=[]\n",
    "microlista=[]\n",
    "\n",
    "from random import *\n",
    "\n",
    "njogos=int(input(\"n jogos: \"))\n",
    "for i in range(njogos):\n",
    "    for i in range(6):\n",
    "        microlista.append(randint(1,60))\n",
    "    macrolista.append(microlista[:])\n",
    "    \n",
    "    microlista.clear()\n",
    "c=1\n",
    "for i in macrolista:\n",
    "    print(f\"{c}° jogo é: {i}\")\n",
    "    c+=1"
   ]
  }
 ],
 "metadata": {
  "kernelspec": {
   "display_name": "Python 3 (ipykernel)",
   "language": "python",
   "name": "python3"
  },
  "language_info": {
   "codemirror_mode": {
    "name": "ipython",
    "version": 3
   },
   "file_extension": ".py",
   "mimetype": "text/x-python",
   "name": "python",
   "nbconvert_exporter": "python",
   "pygments_lexer": "ipython3",
   "version": "3.9.7"
  }
 },
 "nbformat": 4,
 "nbformat_minor": 5
}
