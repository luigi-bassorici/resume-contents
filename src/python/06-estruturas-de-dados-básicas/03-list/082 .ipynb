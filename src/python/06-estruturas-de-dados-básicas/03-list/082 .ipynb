{
 "cells": [
  {
   "cell_type": "markdown",
   "id": "05edec34",
   "metadata": {},
   "source": [
    "082: Crie um programa que vai ler vários números e colocar em uma lista. Depois disso, crie duas listas extras que vão conter apenas os valores pares e os valores ímpares digitados, respectivamente. Ao final, mostre o conteúdo das três listas geradas."
   ]
  },
  {
   "cell_type": "code",
   "execution_count": 14,
   "id": "5573987a",
   "metadata": {},
   "outputs": [
    {
     "name": "stdout",
     "output_type": "stream",
     "text": [
      "\n",
      "digite um valor: 2\n",
      "deseja sair s/n: 2\n",
      "\n",
      "digite um valor: 4\n",
      "deseja sair s/n: 4\n",
      "\n",
      "digite um valor: 6\n",
      "deseja sair s/n: s\n",
      "\n",
      "a lista completa é [2, 4, 6]\n",
      "a lista de pares é [2, 4, 6]\n",
      "a lista de impares é []\n"
     ]
    }
   ],
   "source": [
    "lista_total=[]\n",
    "lista_pares=[]\n",
    "lista_impares=[]\n",
    "while True:\n",
    "    lista_total.append(int(input(\"\\ndigite um valor: \")))\n",
    "    saida=input(\"deseja sair s/n: \").casefold()\n",
    "    if saida==\"s\":\n",
    "        break\n",
    "    \n",
    "for i in lista_total:\n",
    "    if i%2==0:\n",
    "        lista_pares.append(i)\n",
    "    else:\n",
    "        lista_impares.append(i)\n",
    "        \n",
    "        \n",
    "print(f\"\\na lista completa é {lista_total}\\na lista de pares é {lista_pares}\\na lista de impares é {lista_impares}\")\n",
    "      \n",
    "\n",
    "if len(lista_pares)<1:\n",
    "    print(\"olá\")"
   ]
  },
  {
   "cell_type": "code",
   "execution_count": 13,
   "id": "74ecc7e9",
   "metadata": {},
   "outputs": [
    {
     "ename": "SyntaxError",
     "evalue": "EOL while scanning string literal (Temp/ipykernel_10208/2676045889.py, line 1)",
     "output_type": "error",
     "traceback": [
      "\u001b[1;36m  File \u001b[1;32m\"C:\\Users\\luigi\\AppData\\Local\\Temp/ipykernel_10208/2676045889.py\"\u001b[1;36m, line \u001b[1;32m1\u001b[0m\n\u001b[1;33m    print(f\"\\na lista completa é {lista_total}\\na lista de pares é {lista_pares}\\na lista de impares é {lista_impares})\u001b[0m\n\u001b[1;37m                                                                                                                       ^\u001b[0m\n\u001b[1;31mSyntaxError\u001b[0m\u001b[1;31m:\u001b[0m EOL while scanning string literal\n"
     ]
    }
   ],
   "source": [
    "print(f\"\\na lista completa é {lista_total}\\na lista de pares é {lista_pares}\\na lista de impares é {lista_impares})"
   ]
  }
 ],
 "metadata": {
  "kernelspec": {
   "display_name": "Python 3 (ipykernel)",
   "language": "python",
   "name": "python3"
  },
  "language_info": {
   "codemirror_mode": {
    "name": "ipython",
    "version": 3
   },
   "file_extension": ".py",
   "mimetype": "text/x-python",
   "name": "python",
   "nbconvert_exporter": "python",
   "pygments_lexer": "ipython3",
   "version": "3.9.7"
  }
 },
 "nbformat": 4,
 "nbformat_minor": 5
}
