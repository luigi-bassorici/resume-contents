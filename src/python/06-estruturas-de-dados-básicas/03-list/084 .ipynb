{
 "cells": [
  {
   "cell_type": "code",
   "execution_count": null,
   "id": "b6b48474",
   "metadata": {
    "collapsed": true
   },
   "outputs": [],
   "source": [
    "lista=[]\n",
    "dado=[]\n",
    "\n",
    "while True:\n",
    "    dado.append(str(input(\"Nome: \")))\n",
    "    dado.append(int(input(\"Peso: \")))\n",
    "    lista.append(dado[:])\n",
    "    dado.clear()\n",
    "    saida=input(\"deseja sair ? s/n :\").casefold()\n",
    "    if saida in 's':\n",
    "        break\n",
    "\n",
    "maior = lista[0][1] # 120\n",
    "menor = lista[0][1] # 70\n",
    "\n",
    "nomemaior=[]\n",
    "nomemenor=[]\n",
    "\n",
    "for sl in lista:\n",
    "    if sl[1] == menor:\n",
    "        nomemenor.append(sl[0])\n",
    "        \n",
    "    if sl[1] == maior:\n",
    "        nomemaior.append(sl[0])\n",
    "        continue\n",
    "    if sl[1] > maior:\n",
    "        maior = sl[1]\n",
    "        nomemaior.clear()\n",
    "        nomemaior.append(sl[0])\n",
    "        continue\n",
    "    if sl[1] < menor:\n",
    "        menor = sl[1]\n",
    "        nomemenor.clear()\n",
    "        nomemenor.append(sl[0])\n",
    "        continue\n",
    "    \n",
    "print(f\"foram cadastradas {len(lista)} pessoas\")\n",
    "print(f\"Mais pesado : {maior}Kg - {nomemaior}\")\n",
    "print(f\"Menos pesado : {menor}Kg - {nomemenor}\")"
   ]
  },
  {
   "cell_type": "code",
   "execution_count": 5,
   "id": "f644e17f",
   "metadata": {},
   "outputs": [
    {
     "name": "stdout",
     "output_type": "stream",
     "text": [
      "Nome: luigi bassorici\n",
      "Peso: 110\n",
      "deseja sair ? s/n :n\n",
      "Nome: luiza bassorici\n",
      "Peso: 78\n",
      "deseja sair ? s/n :n\n",
      "Nome: esmeralda bassorici\n",
      "Peso: 88\n",
      "deseja sair ? s/n :n\n",
      "Nome: huan barros\n",
      "Peso: 55\n",
      "deseja sair ? s/n :adroir\n",
      "Nome: adroir\n",
      "Peso: 110\n",
      "deseja sair ? s/n :s\n",
      "O maior peso foi 110Kg por  luigi bassoriciadroirO menor peso foi 110Kg por  "
     ]
    }
   ],
   "source": [
    "lista=[]\n",
    "dado=[]\n",
    "peso=[]\n",
    "while True:\n",
    "    dado.append(str(input(\"Nome: \")))\n",
    "    dado.append(int(input(\"Peso: \")))\n",
    "    peso.append(dado[1])\n",
    "    lista.append(dado[:])\n",
    "    dado.clear()\n",
    "    saida=input(\"deseja sair ? s/n :\").casefold()\n",
    "    if saida in 's':\n",
    "        break\n",
    "\n",
    "maior = max(peso)\n",
    "peso = min(peso)\n",
    "                \n",
    "print(f\"O maior peso foi {maior}Kg por  \",end=\"\")\n",
    "for sl in lista:\n",
    "    if sl[1]==maior:\n",
    "        print(sl[0],end=\"\")\n",
    "print(f\"\\nO menor peso foi {maior}Kg por  \",end=\"\")\n",
    "for sl in lista:\n",
    "    if sl[1]==menor:\n",
    "        print(sl[0],end=\"\")"
   ]
  }
 ],
 "metadata": {
  "kernelspec": {
   "display_name": "Python 3 (ipykernel)",
   "language": "python",
   "name": "python3"
  },
  "language_info": {
   "codemirror_mode": {
    "name": "ipython",
    "version": 3
   },
   "file_extension": ".py",
   "mimetype": "text/x-python",
   "name": "python",
   "nbconvert_exporter": "python",
   "pygments_lexer": "ipython3",
   "version": "3.9.7"
  }
 },
 "nbformat": 4,
 "nbformat_minor": 5
}
