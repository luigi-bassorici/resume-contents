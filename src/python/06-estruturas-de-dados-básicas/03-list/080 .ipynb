{
 "cells": [
  {
   "cell_type": "markdown",
   "id": "87ff75a0",
   "metadata": {},
   "source": [
    "080: Crie um programa onde o usuário possa digitar cinco valores numéricos e cadastre-os em uma lista, já na posição correta de inserção (sem usar o sort()). No final, mostre a lista ordenada na tela."
   ]
  },
  {
   "cell_type": "code",
   "execution_count": 40,
   "id": "d7434efc",
   "metadata": {},
   "outputs": [
    {
     "name": "stdout",
     "output_type": "stream",
     "text": [
      "digite um valor: 2\n",
      "[2]\n",
      "digite um valor: 0\n",
      "[0, 2]\n",
      "digite um valor: 9\n",
      "[0, 2, 9]\n",
      "digite um valor: 1\n",
      "[0, 1, 2, 9]\n",
      "digite um valor: 7\n",
      "[0, 1, 2, 7, 9]\n"
     ]
    }
   ],
   "source": [
    "lista=[int(input('digite um valor: '))]\n",
    "\n",
    "for i in range (4):\n",
    "    valor=int(input(\"digite um valor: \"))\n",
    "    \n",
    "    if valor < lista[0]:\n",
    "        lista.insert(0,valor)\n",
    "        continue\n",
    "        \n",
    "    for c in lista:\n",
    "        if c > valor:\n",
    "            lista.insert(lista.index(c),valor)\n",
    "            break\n",
    "    \n",
    "    if valor > lista[-1]:\n",
    "        lista.append(valor)\n",
    "            \n",
    "print(lista)        "
   ]
  }
 ],
 "metadata": {
  "kernelspec": {
   "display_name": "Python 3 (ipykernel)",
   "language": "python",
   "name": "python3"
  },
  "language_info": {
   "codemirror_mode": {
    "name": "ipython",
    "version": 3
   },
   "file_extension": ".py",
   "mimetype": "text/x-python",
   "name": "python",
   "nbconvert_exporter": "python",
   "pygments_lexer": "ipython3",
   "version": "3.9.7"
  }
 },
 "nbformat": 4,
 "nbformat_minor": 5
}
