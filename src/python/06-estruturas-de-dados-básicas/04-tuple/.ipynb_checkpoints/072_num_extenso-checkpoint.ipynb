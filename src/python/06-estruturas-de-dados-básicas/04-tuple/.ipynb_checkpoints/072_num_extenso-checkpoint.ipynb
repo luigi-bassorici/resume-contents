{
 "cells": [
  {
   "cell_type": "code",
   "execution_count": null,
   "id": "6347f4ee",
   "metadata": {
    "scrolled": true
   },
   "outputs": [],
   "source": [
    "tupla = ('Zero','Um','Dois','Três','Quatro','Cinco','Seis','Sete','Oito','Nove','Dez')\n"
   ]
  },
  {
   "cell_type": "code",
   "execution_count": 10,
   "id": "9c63d627",
   "metadata": {},
   "outputs": [
    {
     "name": "stdout",
     "output_type": "stream",
     "text": [
      "digite um número entre 0 e 10: 15\n",
      "\n",
      "ERRO\n",
      "\n",
      "digite um número entre o e 10: 8\n",
      "\n",
      "você digitou o número \u001b[;34mOito\u001b[m\n"
     ]
    }
   ],
   "source": [
    "x=int(input(\"digite um número entre 0 e 10: \"))\n",
    "\n",
    "while x>10 or x<0:\n",
    "    x=int(input(\"\\nERRO\\n\\ndigite um número entre o e 10: \"))\n",
    "    \n",
    "print(f\"\\nvocê digitou o número \\033[;34m{tupla[x]}\\033[m\")"
   ]
  }
 ],
 "metadata": {
  "kernelspec": {
   "display_name": "Python 3 (ipykernel)",
   "language": "python",
   "name": "python3"
  },
  "language_info": {
   "codemirror_mode": {
    "name": "ipython",
    "version": 3
   },
   "file_extension": ".py",
   "mimetype": "text/x-python",
   "name": "python",
   "nbconvert_exporter": "python",
   "pygments_lexer": "ipython3",
   "version": "3.9.7"
  }
 },
 "nbformat": 4,
 "nbformat_minor": 5
}
