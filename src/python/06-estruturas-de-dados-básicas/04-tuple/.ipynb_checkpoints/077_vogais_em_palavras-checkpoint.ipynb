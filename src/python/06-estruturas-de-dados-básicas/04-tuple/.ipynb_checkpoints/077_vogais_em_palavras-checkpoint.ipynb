{
 "cells": [
  {
   "cell_type": "markdown",
   "id": "3d87f525",
   "metadata": {},
   "source": [
    "para cada palavra na tupla mostrar apenas as vogais\n"
   ]
  },
  {
   "cell_type": "code",
   "execution_count": 16,
   "id": "964bb192",
   "metadata": {},
   "outputs": [
    {
     "name": "stdout",
     "output_type": "stream",
     "text": [
      "\n",
      "Na palavra \u001b[1;34mcAsa\u001b[m temos \u001b[1;31mA\u001b[m \u001b[1;31ma\u001b[m\n",
      "Na palavra \u001b[1;34mjardim\u001b[m temos \u001b[1;31ma\u001b[m \u001b[1;31mi\u001b[m\n",
      "Na palavra \u001b[1;34mgramado\u001b[m temos \u001b[1;31ma\u001b[m \u001b[1;31ma\u001b[m \u001b[1;31mo\u001b[m\n",
      "Na palavra \u001b[1;34medicula\u001b[m temos \u001b[1;31me\u001b[m \u001b[1;31mi\u001b[m \u001b[1;31mu\u001b[m \u001b[1;31ma\u001b[m\n",
      "Na palavra \u001b[1;34mcaminho\u001b[m temos \u001b[1;31ma\u001b[m \u001b[1;31mi\u001b[m \u001b[1;31mo\u001b[m"
     ]
    }
   ],
   "source": [
    "tupla='cAsa','jardim','gramado','edicula','caminho'\n",
    "\n",
    "for palavra in tupla:\n",
    "    \n",
    "    print(f\"\\nNa palavra \\033[1;34m{palavra}\\033[m temos\",end='')\n",
    "    \n",
    "    for letra in palavra:\n",
    "        \n",
    "        if letra in 'AaEeIiOoUu':\n",
    "            print(f\" \\033[1;31m{letra}\\033[m\",end='')"
   ]
  }
 ],
 "metadata": {
  "kernelspec": {
   "display_name": "Python 3 (ipykernel)",
   "language": "python",
   "name": "python3"
  },
  "language_info": {
   "codemirror_mode": {
    "name": "ipython",
    "version": 3
   },
   "file_extension": ".py",
   "mimetype": "text/x-python",
   "name": "python",
   "nbconvert_exporter": "python",
   "pygments_lexer": "ipython3",
   "version": "3.9.7"
  }
 },
 "nbformat": 4,
 "nbformat_minor": 5
}
