{
 "cells": [
  {
   "cell_type": "markdown",
   "id": "4cf6ea6f",
   "metadata": {},
   "source": [
    "076: Crie um programa que tenha uma tupla única com nomes de produtos e seus respectivos preços, na sequência. No final, mostre uma listagem de preços, organizando os dados em forma tabular."
   ]
  },
  {
   "cell_type": "code",
   "execution_count": 50,
   "id": "78b43757",
   "metadata": {},
   "outputs": [
    {
     "name": "stdout",
     "output_type": "stream",
     "text": [
      "Lápis--------------- R$   1.75\n",
      "Borracha------------ R$   2.50\n",
      "Caderno------------- R$  22.50\n",
      "Apontador----------- R$   4.50\n"
     ]
    }
   ],
   "source": [
    "tupla='Lápis','1.75','Borracha','2.50','Caderno','22.50','Apontador','4.50'\n",
    "z=20\n",
    "z2=6\n",
    "for i in tupla[::2]:\n",
    "    print(i,end='')\n",
    "    print(\"-\"*(z-len(i)),'R$ ',end='')\n",
    "    print(\" \"*(z2-len(tupla[tupla.index(i)+1])),end='')\n",
    "    print(tupla[tupla.index(i)+1])\n",
    "    "
   ]
  }
 ],
 "metadata": {
  "kernelspec": {
   "display_name": "Python 3 (ipykernel)",
   "language": "python",
   "name": "python3"
  },
  "language_info": {
   "codemirror_mode": {
    "name": "ipython",
    "version": 3
   },
   "file_extension": ".py",
   "mimetype": "text/x-python",
   "name": "python",
   "nbconvert_exporter": "python",
   "pygments_lexer": "ipython3",
   "version": "3.9.7"
  }
 },
 "nbformat": 4,
 "nbformat_minor": 5
}
