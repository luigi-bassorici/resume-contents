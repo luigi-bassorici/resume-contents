{
 "cells": [
  {
   "cell_type": "markdown",
   "id": "6150755d",
   "metadata": {},
   "source": [
    "criar um programa que faça 6 inputs, armazenando  esses valores em uma tupla, e depois mostrando os seguintes dados\n",
    "\n",
    "- quantas vezes se repete o número nove\n",
    "- primeira vez que aparece o três\n",
    "- números pares\n"
   ]
  },
  {
   "cell_type": "code",
   "execution_count": 9,
   "id": "94bee5e1",
   "metadata": {},
   "outputs": [
    {
     "name": "stdout",
     "output_type": "stream",
     "text": [
      "12\n",
      "3\n",
      "3\n",
      "9\n",
      "45\n",
      "65\n",
      "69\n",
      "9\n",
      "9\n",
      "o número três aparece pela primeira vez na posição 2\n",
      "o número nove aparece 3 vezes\n",
      "existem 1 números pares\n"
     ]
    }
   ],
   "source": [
    "tupla=int(input()),int(input()),int(input()),int(input()),int(input()),int(input()),int(input()),int(input()),int(input())\n",
    "\n",
    "nove=0\n",
    "pares=0\n",
    "\n",
    "for i in tupla:\n",
    "    if i == 9 :\n",
    "        nove+=1\n",
    "    if i%2 ==0:\n",
    "        pares+=1\n",
    "        \n",
    "        \n",
    "print(f\"\\no número três aparece pela primeira vez na posição {tupla.index(3)+1}\")\n",
    "print(f\"o número nove aparece {nove} vezes\")    \n",
    "print(f\"existem {pares} números pares\")"
   ]
  }
 ],
 "metadata": {
  "kernelspec": {
   "display_name": "Python 3 (ipykernel)",
   "language": "python",
   "name": "python3"
  },
  "language_info": {
   "codemirror_mode": {
    "name": "ipython",
    "version": 3
   },
   "file_extension": ".py",
   "mimetype": "text/x-python",
   "name": "python",
   "nbconvert_exporter": "python",
   "pygments_lexer": "ipython3",
   "version": "3.9.7"
  }
 },
 "nbformat": 4,
 "nbformat_minor": 5
}
