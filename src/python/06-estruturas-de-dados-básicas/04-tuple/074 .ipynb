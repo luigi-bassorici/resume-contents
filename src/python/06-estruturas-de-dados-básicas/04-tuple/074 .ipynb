{
 "cells": [
  {
   "cell_type": "markdown",
   "id": "74e0907b",
   "metadata": {},
   "source": [
    "# sem tupla"
   ]
  },
  {
   "cell_type": "code",
   "execution_count": 17,
   "id": "706388bd",
   "metadata": {},
   "outputs": [
    {
     "name": "stdout",
     "output_type": "stream",
     "text": [
      "3 4 2 1 1 \n",
      "o maior valor foi: 4\n",
      "o menor valor foi: 1\n"
     ]
    }
   ],
   "source": [
    "from random import *\n",
    "\n",
    "men=9\n",
    "mai=1\n",
    "\n",
    "for i in range(5):\n",
    "    \n",
    "    x=randint(1,9)\n",
    "    print(f\"{x} \",end='')\n",
    "    \n",
    "    if x > mai:\n",
    "        mai=x\n",
    "    if x<men:\n",
    "        men=x\n",
    "        \n",
    "print(f\"\\no maior valor foi: {mai}\")\n",
    "print(f\"o menor valor foi: {men}\")\n"
   ]
  },
  {
   "cell_type": "markdown",
   "id": "efd4fcac",
   "metadata": {},
   "source": [
    "# com tupla"
   ]
  },
  {
   "cell_type": "code",
   "execution_count": 47,
   "id": "eef4914d",
   "metadata": {},
   "outputs": [
    {
     "name": "stdout",
     "output_type": "stream",
     "text": [
      "1\n",
      "36\n",
      "25\n",
      "120\n",
      "256\n",
      "\n",
      "o maior número foi:  256\n",
      "o menor número foi:  1\n"
     ]
    }
   ],
   "source": [
    "from random import*\n",
    "\n",
    "tupla=(int(input()),int(input()),int(input()),int(input()),int(input()))\n",
    "\n",
    "print(\"\\no maior número foi: \", max(tupla))\n",
    "print(\"o menor número foi: \", min(tupla))"
   ]
  }
 ],
 "metadata": {
  "kernelspec": {
   "display_name": "Python 3 (ipykernel)",
   "language": "python",
   "name": "python3"
  },
  "language_info": {
   "codemirror_mode": {
    "name": "ipython",
    "version": 3
   },
   "file_extension": ".py",
   "mimetype": "text/x-python",
   "name": "python",
   "nbconvert_exporter": "python",
   "pygments_lexer": "ipython3",
   "version": "3.9.7"
  }
 },
 "nbformat": 4,
 "nbformat_minor": 5
}
