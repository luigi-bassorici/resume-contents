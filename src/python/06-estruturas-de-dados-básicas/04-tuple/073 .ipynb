{
 "cells": [
  {
   "cell_type": "code",
   "execution_count": 7,
   "id": "d9f67eac",
   "metadata": {},
   "outputs": [],
   "source": [
    "tupla=('Corinthians','Palmeiras','Grêmio','Santos','Cruzeiro','Flamengo','Vasco da Gama','Botafogo','Chapecoense','Atlético-MG','Bahia','São Paulo','Athletico','Fluminense','Vitória','Coritiba','Sport Recife','Avaí','Ponte Preta','Atlético-GO')\n"
   ]
  },
  {
   "cell_type": "code",
   "execution_count": 28,
   "id": "e818c707",
   "metadata": {},
   "outputs": [
    {
     "name": "stdout",
     "output_type": "stream",
     "text": [
      "Brasileirão 2017\n",
      "\u001b[;34m-=-\u001b[m\u001b[;34m-=-\u001b[m\u001b[;34m-=-\u001b[m\u001b[;34m-=-\u001b[m\u001b[;34m-=-\u001b[m\u001b[;34m-=-\u001b[m\u001b[;34m-=-\u001b[m\u001b[;34m-=-\u001b[m\u001b[;34m-=-\u001b[m\u001b[;34m-=-\u001b[m\n",
      "Corinthians\n",
      "Palmeiras\n",
      "Grêmio\n",
      "Santos\n",
      "Cruzeiro\n",
      "Flamengo\n",
      "Vasco da Gama\n",
      "Botafogo\n",
      "Chapecoense\n",
      "Atlético-MG\n",
      "Bahia\n",
      "São Paulo\n",
      "Athletico\n",
      "Fluminense\n",
      "Vitória\n",
      "Coritiba\n",
      "Sport Recife\n",
      "Avaí\n",
      "Ponte Preta\n",
      "Atlético-GO\n",
      "\u001b[;34m-=-\u001b[m\u001b[;34m-=-\u001b[m\u001b[;34m-=-\u001b[m\u001b[;34m-=-\u001b[m\u001b[;34m-=-\u001b[m\u001b[;34m-=-\u001b[m\u001b[;34m-=-\u001b[m\u001b[;34m-=-\u001b[m\u001b[;34m-=-\u001b[m\u001b[;34m-=-\u001b[m\n",
      "LIBERTADORES\n",
      "\n",
      "Corinthians\n",
      "Palmeiras\n",
      "Grêmio\n",
      "Santos\n",
      "Cruzeiro\n",
      "\u001b[;34m-=-\u001b[m\u001b[;34m-=-\u001b[m\u001b[;34m-=-\u001b[m\u001b[;34m-=-\u001b[m\u001b[;34m-=-\u001b[m\u001b[;34m-=-\u001b[m\u001b[;34m-=-\u001b[m\u001b[;34m-=-\u001b[m\u001b[;34m-=-\u001b[m\u001b[;34m-=-\u001b[m\n",
      "REABAIXADOS\n",
      "\n",
      "Sport Recife\n",
      "Avaí\n",
      "Ponte Preta\n",
      "Atlético-GO\n",
      "\u001b[;34m-=-\u001b[m\u001b[;34m-=-\u001b[m\u001b[;34m-=-\u001b[m\u001b[;34m-=-\u001b[m\u001b[;34m-=-\u001b[m\u001b[;34m-=-\u001b[m\u001b[;34m-=-\u001b[m\u001b[;34m-=-\u001b[m\u001b[;34m-=-\u001b[m\u001b[;34m-=-\u001b[m\n",
      "Athletico\n",
      "Atlético-GO\n",
      "Atlético-MG\n",
      "Avaí\n",
      "Bahia\n",
      "Botafogo\n",
      "Chapecoense\n",
      "Corinthians\n",
      "Coritiba\n",
      "Cruzeiro\n",
      "Flamengo\n",
      "Fluminense\n",
      "Grêmio\n",
      "Palmeiras\n",
      "Ponte Preta\n",
      "Santos\n",
      "Sport Recife\n",
      "São Paulo\n",
      "Vasco da Gama\n",
      "Vitória\n"
     ]
    }
   ],
   "source": [
    "print(\"Brasileirão 2017\")\n",
    "print(\"\\033[;34m-=-\\033[m\"*10)\n",
    "\n",
    "\n",
    "# tabela final\n",
    "for i in tupla:\n",
    "    print(i)\n",
    "print(\"\\033[;34m-=-\\033[m\"*10)\n",
    "\n",
    "\n",
    "# 5 primeiros\n",
    "print(\"LIBERTADORES\\n\")\n",
    "for i in tupla[:5]:\n",
    "    print(i)\n",
    "print(\"\\033[;34m-=-\\033[m\"*10)\n",
    "\n",
    "\n",
    "# 4 rebaixados\n",
    "print(\"REABAIXADOS\\n\")\n",
    "for i in tupla[16:]:\n",
    "    print(i)\n",
    "print(\"\\033[;34m-=-\\033[m\"*10)\n",
    "\n",
    "# tabela antes do campeonato começar\n",
    "tupla2=sorted(tupla)\n",
    "for i in tupla2:\n",
    "    print(i)"
   ]
  }
 ],
 "metadata": {
  "kernelspec": {
   "display_name": "Python 3 (ipykernel)",
   "language": "python",
   "name": "python3"
  },
  "language_info": {
   "codemirror_mode": {
    "name": "ipython",
    "version": 3
   },
   "file_extension": ".py",
   "mimetype": "text/x-python",
   "name": "python",
   "nbconvert_exporter": "python",
   "pygments_lexer": "ipython3",
   "version": "3.9.7"
  }
 },
 "nbformat": 4,
 "nbformat_minor": 5
}
