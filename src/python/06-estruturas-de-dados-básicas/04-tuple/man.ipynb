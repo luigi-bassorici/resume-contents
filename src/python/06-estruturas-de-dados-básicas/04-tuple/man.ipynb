{
 "cells": [
  {
   "cell_type": "markdown",
   "id": "df6ebeb5",
   "metadata": {},
   "source": [
    "tupla é uma das opções de variável composta \n",
    "\n",
    "que é um espaço de memória que abriga informações de forma separada, sejam str , int ou float\n",
    "\n",
    "a sintaxe é: "
   ]
  },
  {
   "cell_type": "code",
   "execution_count": 1,
   "id": "55de1e21",
   "metadata": {},
   "outputs": [],
   "source": [
    "tupla=('Luigi','Bassorici',15486,120.9)"
   ]
  },
  {
   "cell_type": "markdown",
   "id": "9bc039a2",
   "metadata": {},
   "source": [
    "As tuplas são imutáveis, e essa é a ultilidade delas, dar segurança a um dado\n",
    "\n",
    "porém seus i são acessáveis por um indicie py\n",
    "\n",
    "a tupla também pode conter inputs, listas, e outras tuplas.\n",
    "\n",
    "É importante ressaltar que uma vez que um item é colocado na tupla em forma de váriavel simples, embora essa variável seja alterada mais tarde, a tupla conserva seu valor antigo.\n",
    "\n",
    "Exceto com listas, elas recebem a proteção dos colchetes, o que permite que elas conservem a sua propriedade de mutabilidade "
   ]
  },
  {
   "cell_type": "code",
   "execution_count": 16,
   "id": "d545103c",
   "metadata": {},
   "outputs": [
    {
     "name": "stdout",
     "output_type": "stream",
     "text": [
      "(10, 'luigi')\n",
      "(['luigi'], 'luigi')\n"
     ]
    }
   ],
   "source": [
    "# exemplo usando uma variável simples\n",
    "\n",
    "x=10\n",
    "\n",
    "tupla=(x,'luigi')\n",
    "\n",
    "x=20\n",
    "\n",
    "print(tupla)\n",
    "\n",
    "# exemplo usando a lista\n",
    "\n",
    "x=['luigi','bassorici']\n",
    "\n",
    "tupla=(x,'luigi')\n",
    "\n",
    "x.remove('bassorici')\n",
    "\n",
    "print(tupla)\n"
   ]
  },
  {
   "cell_type": "markdown",
   "id": "dd6a9caf",
   "metadata": {},
   "source": [
    "as tuplas podem ser manipuladas caso eu coloque os seus itens dentro de outra, assim posso diminuir ou aumentar a tupla, mas na verdade será outra tupla nova\n",
    "\n",
    "um uso comum das tuplas é para armazenar conteudos de forma sólida e subdividida dentro de listas que podem ser manuseadas\n",
    "ex.:"
   ]
  },
  {
   "cell_type": "code",
   "execution_count": 13,
   "id": "1d9c3399",
   "metadata": {},
   "outputs": [
    {
     "name": "stdout",
     "output_type": "stream",
     "text": [
      "\n",
      "luigi está aqui e disse que completará esse ano 18 primaveras nesta próxima\n",
      "\n",
      "julia está aqui e disse que completará esse ano 18 primaveras nesta próxima\n",
      "\n",
      "manuela está aqui e disse que completará esse ano 17 primaveras nesta próxima\n",
      "\n",
      "isabelle está aqui e disse que completará esse ano 19 primaveras nesta próxima\n",
      "\n",
      "clarise está aqui e disse que completará esse ano 19 primaveras nesta próxima\n"
     ]
    }
   ],
   "source": [
    "# lista=[(nome, idade), (nome, idade)]\n",
    "lista=[('luigi',18),('julia',18), ('manuela',17), ('isabelle',19), ('clarise',19)]\n",
    "\n",
    "for i in lista:\n",
    "    print(f\"\\n{i[0]} está aqui e disse que completará esse ano {i[1]} primaveras nesta próxima\")\n"
   ]
  },
  {
   "cell_type": "markdown",
   "id": "30f4c63c",
   "metadata": {},
   "source": [
    "É possivel transformar uma tupla em um lista usando transformação de variável \n",
    "\n",
    "ex.:"
   ]
  },
  {
   "cell_type": "code",
   "execution_count": 28,
   "id": "e0bea1ab",
   "metadata": {},
   "outputs": [
    {
     "name": "stdout",
     "output_type": "stream",
     "text": [
      "8\n",
      "['luigi', 'bassorici', 8]\n"
     ]
    }
   ],
   "source": [
    "var=('luigi','bassorici')\n",
    "\n",
    "#transformando essa tupla em uma lista\n",
    "a = list(var)\n",
    "\n",
    "#adicionar alco a variável que agr é uma lista\n",
    "a.append(int(input()))\n",
    "\n",
    "# transformando em tupla de volta\n",
    "tuple(a)\n",
    "\n",
    "# mostrar a var como uma tupla \n",
    "print(a)"
   ]
  },
  {
   "cell_type": "markdown",
   "id": "795db298",
   "metadata": {},
   "source": [
    "descompactar tuplas\n",
    "\n",
    "é possivel criar uma espécie de dicionario/ correspondencia em uma tupla\n",
    "\n",
    "onde cada nome relacionado com uma tupla se referirá a um i no indicie py , como se fossem chaves de um dicionário \n",
    "\n",
    "\n",
    "nome=[0]\n",
    "\n",
    "sobrenome=[1]\n",
    "\n",
    "numero_matricula[2]\n"
   ]
  },
  {
   "cell_type": "code",
   "execution_count": 31,
   "id": "c6fdce8a",
   "metadata": {},
   "outputs": [
    {
     "name": "stdout",
     "output_type": "stream",
     "text": [
      "o nome do aluno é Luigi Bassorici e o seu número de matricula é : 376234\n"
     ]
    }
   ],
   "source": [
    "tupla=('Luigi','Bassorici',376234)\n",
    "(nome,sobrenome,numero_matricula)=tupla\n",
    "\n",
    "print(f\"o nome do aluno é {nome} {sobrenome} e o seu número de matricula é: {numero_matricula}\")"
   ]
  },
  {
   "cell_type": "markdown",
   "id": "6960d41a",
   "metadata": {},
   "source": [
    "é possivel criar chaves apenas para os extremos e continuar lidando com o miolo como se fosse uma lista\n",
    "\n",
    "ex.:"
   ]
  },
  {
   "cell_type": "code",
   "execution_count": 40,
   "id": "c8635916",
   "metadata": {},
   "outputs": [
    {
     "name": "stdout",
     "output_type": "stream",
     "text": [
      "Luigi\n",
      "Bassorici\n",
      "miolo1 miolo2 miolo3 miolo4\n",
      "miolo5\n",
      "376234\n"
     ]
    }
   ],
   "source": [
    "tupla=('Luigi','Bassorici','miolo1','miolo2','miolo3','miolo4','miolo5',376234)\n",
    "\n",
    "(nome,sobrenome,*miolo,miolo5,numero_matricula)=tupla\n",
    "print(nome) # extremo\n",
    "print(sobrenome) # extremo\n",
    "print(*miolo) # miolo\n",
    "print(miolo5) # extremo\n",
    "print(numero_matricula) # extremo"
   ]
  }
 ],
 "metadata": {
  "kernelspec": {
   "display_name": "Python 3 (ipykernel)",
   "language": "python",
   "name": "python3"
  },
  "language_info": {
   "codemirror_mode": {
    "name": "ipython",
    "version": 3
   },
   "file_extension": ".py",
   "mimetype": "text/x-python",
   "name": "python",
   "nbconvert_exporter": "python",
   "pygments_lexer": "ipython3",
   "version": "3.9.7"
  }
 },
 "nbformat": 4,
 "nbformat_minor": 5
}
