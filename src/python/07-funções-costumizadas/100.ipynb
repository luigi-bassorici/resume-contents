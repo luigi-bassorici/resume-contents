{
 "cells": [
  {
   "cell_type": "markdown",
   "id": "bd6922fb",
   "metadata": {},
   "source": [
    "Faça um programa que tenha uma lista chamada números e duas funções chamadas sorteia() e somaPar(). A primeira função vai sortear 5 números e vai colocá-los dentro da lista e a segunda função vai mostrar a soma entre todos os valores pares sorteados pela função anterior."
   ]
  },
  {
   "cell_type": "code",
   "execution_count": 57,
   "id": "01c69cfd",
   "metadata": {},
   "outputs": [
    {
     "name": "stdout",
     "output_type": "stream",
     "text": [
      "[3, 7, 9, 2, 6]\n",
      "8\n"
     ]
    }
   ],
   "source": [
    "numeros=[]\n",
    "def sortear(a):\n",
    "    from random import randint\n",
    "    for i in range(5):\n",
    "        a.append(randint(1,9))\n",
    "        \n",
    "def somapar(a):\n",
    "    soma=0\n",
    "    for i in a:\n",
    "        if i%2==0:\n",
    "            soma+=i\n",
    "    print(soma)\n",
    "sortear(numeros)\n",
    "\n",
    "print(numeros)\n",
    "\n",
    "somapar(numeros)"
   ]
  }
 ],
 "metadata": {
  "kernelspec": {
   "display_name": "Python 3 (ipykernel)",
   "language": "python",
   "name": "python3"
  },
  "language_info": {
   "codemirror_mode": {
    "name": "ipython",
    "version": 3
   },
   "file_extension": ".py",
   "mimetype": "text/x-python",
   "name": "python",
   "nbconvert_exporter": "python",
   "pygments_lexer": "ipython3",
   "version": "3.9.7"
  }
 },
 "nbformat": 4,
 "nbformat_minor": 5
}
