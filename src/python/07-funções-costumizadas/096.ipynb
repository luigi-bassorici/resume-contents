{
 "cells": [
  {
   "cell_type": "markdown",
   "id": "42117f26",
   "metadata": {},
   "source": [
    "Faça um programa que tenha uma função chamada área(), que receba as dimensões de um terreno retangular (largura e comprimento) e mostre a área do terreno."
   ]
  },
  {
   "cell_type": "code",
   "execution_count": 7,
   "id": "b7382e9f",
   "metadata": {},
   "outputs": [
    {
     "name": "stdout",
     "output_type": "stream",
     "text": [
      "largura = 12\n",
      "comprimento = 14\n",
      "\n",
      "area = 168 m²\n",
      "\n",
      "largura = 150\n",
      "comprimento = 1000\n",
      "\n",
      "area = 150000 m²\n",
      "\n"
     ]
    }
   ],
   "source": [
    "def area(a,b):\n",
    "    print(f'\\narea = {a*b} m²\\n')\n",
    "    \n",
    "# variáveis como parâmetro\n",
    "\n",
    "x = int(input('largura = '))\n",
    "y = int(input('comprimento = '))\n",
    "\n",
    "area(x, y)\n",
    "\n",
    "# input como parâmetro\n",
    "area(int(input('largura = ')), int(input('comprimento = ')))"
   ]
  }
 ],
 "metadata": {
  "kernelspec": {
   "display_name": "Python 3 (ipykernel)",
   "language": "python",
   "name": "python3"
  },
  "language_info": {
   "codemirror_mode": {
    "name": "ipython",
    "version": 3
   },
   "file_extension": ".py",
   "mimetype": "text/x-python",
   "name": "python",
   "nbconvert_exporter": "python",
   "pygments_lexer": "ipython3",
   "version": "3.9.12"
  },
  "toc": {
   "base_numbering": 1,
   "nav_menu": {},
   "number_sections": true,
   "sideBar": true,
   "skip_h1_title": false,
   "title_cell": "Table of Contents",
   "title_sidebar": "Contents",
   "toc_cell": false,
   "toc_position": {},
   "toc_section_display": true,
   "toc_window_display": false
  },
  "varInspector": {
   "cols": {
    "lenName": 16,
    "lenType": 16,
    "lenVar": 40
   },
   "kernels_config": {
    "python": {
     "delete_cmd_postfix": "",
     "delete_cmd_prefix": "del ",
     "library": "var_list.py",
     "varRefreshCmd": "print(var_dic_list())"
    },
    "r": {
     "delete_cmd_postfix": ") ",
     "delete_cmd_prefix": "rm(",
     "library": "var_list.r",
     "varRefreshCmd": "cat(var_dic_list()) "
    }
   },
   "types_to_exclude": [
    "module",
    "function",
    "builtin_function_or_method",
    "instance",
    "_Feature"
   ],
   "window_display": false
  }
 },
 "nbformat": 4,
 "nbformat_minor": 5
}
