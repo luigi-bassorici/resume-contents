{
 "cells": [
  {
   "cell_type": "code",
   "execution_count": 15,
   "id": "abe6cd4f",
   "metadata": {},
   "outputs": [
    {
     "name": "stdout",
     "output_type": "stream",
     "text": [
      "inicio da contagem: 12\n",
      "fim da contagem: 0\n",
      "padrão da contagem (2 = 2-4-6-8): 3\n",
      "12 9 6 3 0 "
     ]
    }
   ],
   "source": [
    "def contador(a,b,c):\n",
    "    from time import sleep\n",
    "    b+=1\n",
    "    if a>b:\n",
    "        c*=-1\n",
    "        b-=2\n",
    "    for i in range(a,b,c):\n",
    "        print(f'{i} ',end='')\n",
    "        sleep(0.5)\n",
    "        \n",
    "inicio=int(input(\"inicio da contagem: \"))\n",
    "fim=int(input(\"fim da contagem: \"))\n",
    "passo=int(input(\"padrão da contagem : \"))\n",
    "contador(inicio,fim,passo)"
   ]
  }
 ],
 "metadata": {
  "kernelspec": {
   "display_name": "Python 3 (ipykernel)",
   "language": "python",
   "name": "python3"
  },
  "language_info": {
   "codemirror_mode": {
    "name": "ipython",
    "version": 3
   },
   "file_extension": ".py",
   "mimetype": "text/x-python",
   "name": "python",
   "nbconvert_exporter": "python",
   "pygments_lexer": "ipython3",
   "version": "3.9.7"
  }
 },
 "nbformat": 4,
 "nbformat_minor": 5
}
