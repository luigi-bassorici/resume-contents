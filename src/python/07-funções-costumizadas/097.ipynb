{
 "cells": [
  {
   "cell_type": "markdown",
   "id": "206cc9eb",
   "metadata": {},
   "source": [
    "Faça um programa que tenha uma função chamada escreva(), que receba um texto qualquer como parâmetro e mostre uma mensagem com tamanho adaptável."
   ]
  },
  {
   "cell_type": "code",
   "execution_count": 17,
   "id": "6dc42c30",
   "metadata": {},
   "outputs": [
    {
     "name": "stdout",
     "output_type": "stream",
     "text": [
      "---------------\n",
      "luigi bassorici\n",
      "---------------\n",
      "===================\n",
      "copa do brasil 2022\n",
      "===================\n"
     ]
    }
   ],
   "source": [
    "def frufru(x):\n",
    "    print('-'*len(x))\n",
    "    print(x)\n",
    "    print('-'*len(x))\n",
    "\n",
    "frufru('luigi bassorici')\n",
    "\n",
    "def frufru2(x,y):\n",
    "    print(y*len(x))\n",
    "    print(x)\n",
    "    print(y*len(x))\n",
    "        \n",
    "frufru2('copa do brasil 2022','=')"
   ]
  }
 ],
 "metadata": {
  "kernelspec": {
   "display_name": "Python 3 (ipykernel)",
   "language": "python",
   "name": "python3"
  },
  "language_info": {
   "codemirror_mode": {
    "name": "ipython",
    "version": 3
   },
   "file_extension": ".py",
   "mimetype": "text/x-python",
   "name": "python",
   "nbconvert_exporter": "python",
   "pygments_lexer": "ipython3",
   "version": "3.9.7"
  }
 },
 "nbformat": 4,
 "nbformat_minor": 5
}
