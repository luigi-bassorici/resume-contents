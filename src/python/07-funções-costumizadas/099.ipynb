{
 "cells": [
  {
   "cell_type": "markdown",
   "id": "02ba5858",
   "metadata": {},
   "source": [
    "Faça um programa que tenha uma função chamada maior(), que receba vários parâmetros com valores inteiros. Seu programa tem que analisar todos os valores e dizer qual deles é o maior."
   ]
  },
  {
   "cell_type": "code",
   "execution_count": 23,
   "id": "1839dfd7",
   "metadata": {},
   "outputs": [
    {
     "name": "stdout",
     "output_type": "stream",
     "text": [
      "1 2 3 4 5 6 7 8 9 \n",
      "foram analisados 9\n",
      "o maior número foi 9\n",
      "1\n",
      "2\n",
      "3\n",
      "4\n",
      "0\n",
      "1 2 3 4 \n",
      "foram analisados 4\n",
      "o maior número foi 4\n"
     ]
    }
   ],
   "source": [
    "def analise(*numeros):\n",
    "    from time import sleep\n",
    "    if type(numeros[0])==list\n",
    "    for i in numeros:\n",
    "        print(f\"{i} \",end='')\n",
    "        sleep(0.5)\n",
    "    print(f'\\nforam analisados {len(numeros)}')\n",
    "    print(f'o maior número foi {max(numeros)}')\n",
    "    \n",
    "analise(1,2,3,4,5,6,7,8,9)\n",
    "\n",
    "def analise2(numeros):\n",
    "    from time import sleep\n",
    "    for i in numeros:\n",
    "        print(f\"{i} \",end='')\n",
    "        sleep(0.5)\n",
    "    print(f'\\nforam analisados {len(numeros)}')\n",
    "    print(f'o maior número foi {max(numeros)}')\n",
    "\n",
    "lista=[]\n",
    "while True:\n",
    "    a=int(input())\n",
    "    if a ==0:\n",
    "        break\n",
    "    lista.append(a)\n",
    "\n",
    "analise2(lista)"
   ]
  }
 ],
 "metadata": {
  "kernelspec": {
   "display_name": "Python 3 (ipykernel)",
   "language": "python",
   "name": "python3"
  },
  "language_info": {
   "codemirror_mode": {
    "name": "ipython",
    "version": 3
   },
   "file_extension": ".py",
   "mimetype": "text/x-python",
   "name": "python",
   "nbconvert_exporter": "python",
   "pygments_lexer": "ipython3",
   "version": "3.9.7"
  }
 },
 "nbformat": 4,
 "nbformat_minor": 5
}
