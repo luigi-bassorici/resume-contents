{
 "cells": [
  {
   "cell_type": "markdown",
   "id": "f7df6324",
   "metadata": {},
   "source": [
    "# Repetição com while\n",
    "\n",
    "while é uma estrutura de repetição atrelada a uma condição:\n",
    "\n",
    "while significa: enquanto\n",
    "\n",
    "a sintaxe é simples:\n",
    "\n",
    "\n"
   ]
  },
  {
   "cell_type": "code",
   "execution_count": null,
   "id": "e89e99e3",
   "metadata": {},
   "outputs": [],
   "source": [
    "x=0\n",
    "\n",
    "while x>9:  # enquanto (minha condição/afirmativa) for verdadeira ➡ entrar na identação , executar todos os comandos e ao fim retornar a condição\n",
    "    comando 1\n",
    "    comando 2\n",
    "    comando n\n",
    "    \n",
    "comando sem ligação ao while  # comando que não tem nada a ver com o while\n",
    "\n",
    "# se x for maior que 9 ele executará os comandos repetindoos para sempre , portanto é preciso falsear essa afirmativa\n",
    "\n",
    "# se a afirmativa for falsa inicialmente o computador nem entra na identação , passando direto pelo meu while\n",
    "\n",
    "# while não tem início ou fim, diferente do for"
   ]
  },
  {
   "cell_type": "markdown",
   "id": "8d299588",
   "metadata": {},
   "source": [
    "# break e continue\n",
    "essas duas instruções são aplicáveis dentro da estrutura while, podem ser usadas como uma exceção para a saída do while ou um voltador de etapas\n",
    "\n",
    "# break\n",
    "serve para sair do bloco de comandos e do laço de repetição, ele falseia a cndição na marra e também anula os comandos abaixo dele\n",
    "\n",
    "# continue\n",
    "serve para voltar o pc para a condição do while e reentrar ou não no loop\n",
    "\n",
    "o comando que vier antes dessas duas intruções será acatado mesmo sem o ciclo de repetição chegar ao fim"
   ]
  }
 ],
 "metadata": {
  "kernelspec": {
   "display_name": "Python 3 (ipykernel)",
   "language": "python",
   "name": "python3"
  },
  "language_info": {
   "codemirror_mode": {
    "name": "ipython",
    "version": 3
   },
   "file_extension": ".py",
   "mimetype": "text/x-python",
   "name": "python",
   "nbconvert_exporter": "python",
   "pygments_lexer": "ipython3",
   "version": "3.9.7"
  }
 },
 "nbformat": 4,
 "nbformat_minor": 5
}
