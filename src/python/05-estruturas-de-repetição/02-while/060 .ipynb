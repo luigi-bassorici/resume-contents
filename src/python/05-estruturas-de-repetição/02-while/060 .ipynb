{
 "cells": [
  {
   "cell_type": "markdown",
   "id": "06df31ed",
   "metadata": {},
   "source": [
    "criar um programa que mostre o fatorial de um numero\n",
    "fatorial de 5 = 5x4x3x2x1 = 120"
   ]
  },
  {
   "cell_type": "code",
   "execution_count": 6,
   "id": "cd94432a",
   "metadata": {},
   "outputs": [
    {
     "name": "stdout",
     "output_type": "stream",
     "text": [
      "digite um número: 6\n",
      "o fatorial de 6 = 6 x 5 x 4 x 3 x 2 x 1 = \u001b[4;34m720\u001b[m\n"
     ]
    }
   ],
   "source": [
    "n=int(input(\"digite um número: \"))\n",
    "n1=n\n",
    "s=n\n",
    "x=\"\"\n",
    "while n>1:\n",
    "    x+=(f\" {n} x\")\n",
    "    s=s*(n-1)\n",
    "    n-=1\n",
    "print(f\"o fatorial de {n1} ={x} 1 = \\033[4;34m{s}\\033[m\")"
   ]
  }
 ],
 "metadata": {
  "kernelspec": {
   "display_name": "Python 3 (ipykernel)",
   "language": "python",
   "name": "python3"
  },
  "language_info": {
   "codemirror_mode": {
    "name": "ipython",
    "version": 3
   },
   "file_extension": ".py",
   "mimetype": "text/x-python",
   "name": "python",
   "nbconvert_exporter": "python",
   "pygments_lexer": "ipython3",
   "version": "3.9.7"
  }
 },
 "nbformat": 4,
 "nbformat_minor": 5
}
