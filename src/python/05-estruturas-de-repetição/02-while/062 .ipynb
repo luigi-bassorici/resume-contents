{
 "cells": [
  {
   "cell_type": "markdown",
   "id": "72a4fd8f",
   "metadata": {},
   "source": [
    "desenvolver um programa que funcione como o ex.62, porém ao final perguntar se o usuário quer saber mais alguns termos, se 0 fechar o prog e mostrar quantos termos foram exibidos"
   ]
  },
  {
   "cell_type": "code",
   "execution_count": 50,
   "id": "bd61cc23",
   "metadata": {},
   "outputs": [
    {
     "name": "stdout",
     "output_type": "stream",
     "text": [
      "digite o primeiro termo da p.a: 0\n",
      "digite a razão dessa p.a: 2\n",
      "0 ⇾ 2 ⇾ 4 ⇾ 6 ⇾ 8 ⇾ 10 ⇾ 12 ⇾ 14 ⇾ 16 ⇾ 18\n",
      "\n",
      "gostaria de ver mais alguns termos, quantos? 2\n",
      "\n",
      "20 ⇾ 22\n",
      "\n",
      "gostaria de ver mais alguns termos, quantos? 0\n",
      "\n",
      "\n",
      "foram exibidos 12 termos\n"
     ]
    }
   ],
   "source": [
    "t = int(input(\"digite o primeiro termo da p.a: \"))\n",
    "\n",
    "r = int(input(\"digite a razão dessa p.a: \"))\n",
    "vt = 9 # inicialmente\n",
    "\n",
    "ult = t + vt * r\n",
    "\n",
    "te = 10\n",
    "\n",
    "while vt > 0:\n",
    "    while t!= ult:\n",
    "        print(f\"{t} ⇾ \", end=\"\")\n",
    "        t += r\n",
    "    print(f\"{ult}\", end=\"\")\n",
    "    \n",
    "    vt = int(input(\"\\n\\ngostaria de ver mais alguns termos, quantos? \"))\n",
    "    print()\n",
    "    ult = t + vt * r\n",
    "    \n",
    "    t += r\n",
    "    te += vt\n",
    "    \n",
    "print(f\"\\nforam exibidos {te} termos\")"
   ]
  }
 ],
 "metadata": {
  "kernelspec": {
   "display_name": "Python 3 (ipykernel)",
   "language": "python",
   "name": "python3"
  },
  "language_info": {
   "codemirror_mode": {
    "name": "ipython",
    "version": 3
   },
   "file_extension": ".py",
   "mimetype": "text/x-python",
   "name": "python",
   "nbconvert_exporter": "python",
   "pygments_lexer": "ipython3",
   "version": "3.9.12"
  }
 },
 "nbformat": 4,
 "nbformat_minor": 5
}
