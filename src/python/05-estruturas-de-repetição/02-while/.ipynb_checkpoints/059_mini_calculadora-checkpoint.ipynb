{
 "cells": [
  {
   "cell_type": "code",
   "execution_count": null,
   "id": "2ef2e48b",
   "metadata": {},
   "outputs": [],
   "source": [
    "n1=int(input(\"digite um número: \"))\n",
    "n2=int(input(\"digite um número: \"))\n",
    "x=1\n",
    "while x!=5:\n",
    "    x=int(input(\"\"\"\n",
    "[1]somar\n",
    "[2]multiplicar\n",
    "[3]mostrar o maior\n",
    "[4]novos números\n",
    "[5]sair do programa\n",
    "\"\"\"))\n",
    "    if x==1:\n",
    "        print(f'a soma é = {n1+n2}')\n",
    "        print(\"***********************************\")\n",
    "    if x==2:\n",
    "        print(f'o produto é = {n1*n2}')\n",
    "        print(\"***********************************\")\n",
    "    if x==3:\n",
    "        if n1>n2:\n",
    "            print(f'o maior é {n1}')\n",
    "            print(\"***********************************\")\n",
    "        if n1<n2:\n",
    "            print(f'o maior é {n2}')\n",
    "            print(\"***********************************\")\n",
    "        if n1==n2:\n",
    "            print('os dois números são iguais')\n",
    "    if x==4:\n",
    "        n1=int(input(\"digite um número: \"))\n",
    "        n2=int(input(\"digite um número: \"))\n",
    "    if x>5 or x<1:\n",
    "        print(\"opção inválida. \")\n",
    "        print(\"***********************************\")\n",
    "        \n",
    "print(\"fim do programa\")"
   ]
  }
 ],
 "metadata": {
  "kernelspec": {
   "display_name": "Python 3 (ipykernel)",
   "language": "python",
   "name": "python3"
  },
  "language_info": {
   "codemirror_mode": {
    "name": "ipython",
    "version": 3
   },
   "file_extension": ".py",
   "mimetype": "text/x-python",
   "name": "python",
   "nbconvert_exporter": "python",
   "pygments_lexer": "ipython3",
   "version": "3.9.7"
  }
 },
 "nbformat": 4,
 "nbformat_minor": 5
}
