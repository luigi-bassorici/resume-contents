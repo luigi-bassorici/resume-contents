{
 "cells": [
  {
   "cell_type": "markdown",
   "id": "e3ec12b7",
   "metadata": {},
   "source": [
    "criar um programa que calcule os 10 primeiros termos de uma p.a apartir da sua lei de formação e exiba todos os 10\n"
   ]
  },
  {
   "cell_type": "code",
   "execution_count": 6,
   "id": "99ce2a3b",
   "metadata": {},
   "outputs": [
    {
     "name": "stdout",
     "output_type": "stream",
     "text": [
      "digite o primeiro termo da P.A: 3\n",
      "digite a razão da P.A: 15\n",
      "os 10 primeiros termos dessa p.a são: 3 ⇾ 18 ⇾ 33 ⇾ 48 ⇾ 63 ⇾ 78 ⇾ 93 ⇾ 108 ⇾ 123 ⇾  138\n"
     ]
    }
   ],
   "source": [
    "t=int(input(\"digite o primeiro termo da P.A: \"))\n",
    "r=int(input(\"digite a razão da P.A: \"))\n",
    "t10=t+9*r\n",
    "x=\"\"\n",
    "\n",
    "while t != t10:\n",
    "    x+=f\"{t} ⇾ \"\n",
    "    t+=r\n",
    "    \n",
    "print(f\"os 10 primeiros termos dessa p.a são: {x} {t10}\")"
   ]
  }
 ],
 "metadata": {
  "kernelspec": {
   "display_name": "Python 3 (ipykernel)",
   "language": "python",
   "name": "python3"
  },
  "language_info": {
   "codemirror_mode": {
    "name": "ipython",
    "version": 3
   },
   "file_extension": ".py",
   "mimetype": "text/x-python",
   "name": "python",
   "nbconvert_exporter": "python",
   "pygments_lexer": "ipython3",
   "version": "3.9.7"
  }
 },
 "nbformat": 4,
 "nbformat_minor": 5
}
