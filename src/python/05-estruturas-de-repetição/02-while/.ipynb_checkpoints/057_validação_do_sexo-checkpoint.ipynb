{
 "cells": [
  {
   "cell_type": "markdown",
   "id": "5adfa133",
   "metadata": {},
   "source": [
    "criar um programa que leia o sexo do usuário e valide se for m/f"
   ]
  },
  {
   "cell_type": "code",
   "execution_count": 4,
   "id": "a8c98e57",
   "metadata": {},
   "outputs": [
    {
     "name": "stdout",
     "output_type": "stream",
     "text": [
      "digite o seu sexo: m\n",
      "fim\n"
     ]
    }
   ],
   "source": [
    "s=input(\"digite o seu sexo: \").upper().strip()\n",
    "\n",
    "while s not in \"MF\":\n",
    "    s=input(\"sexo inválido tente novamente: \").upper().strip()\n",
    "print(\"fim\")"
   ]
  }
 ],
 "metadata": {
  "kernelspec": {
   "display_name": "Python 3 (ipykernel)",
   "language": "python",
   "name": "python3"
  },
  "language_info": {
   "codemirror_mode": {
    "name": "ipython",
    "version": 3
   },
   "file_extension": ".py",
   "mimetype": "text/x-python",
   "name": "python",
   "nbconvert_exporter": "python",
   "pygments_lexer": "ipython3",
   "version": "3.9.7"
  }
 },
 "nbformat": 4,
 "nbformat_minor": 5
}
