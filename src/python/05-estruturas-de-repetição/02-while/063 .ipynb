{
 "cells": [
  {
   "cell_type": "markdown",
   "id": "8ef4c386",
   "metadata": {},
   "source": [
    "mostrar n termos da sequancia de finonacci\n",
    "a sequencia de fibonacci é a soma do anterior com o am"
   ]
  },
  {
   "cell_type": "code",
   "execution_count": 66,
   "id": "b3c6ee14",
   "metadata": {},
   "outputs": [
    {
     "name": "stdout",
     "output_type": "stream",
     "text": [
      "0 > 1 > 1 > 2 > 3 > 5 > 8 > 13 > 21 > 34 > FIM \n",
      "\n",
      "quanto termos vc quer ver? 10\n",
      "\n",
      "55 > 89 > 144 > 233 > 377 > 610 > 987 > 1597 > 2584 > 4181 > FIM \n",
      "\n",
      "quanto termos vc quer ver? 0\n",
      "\n",
      "fechando o prog.\n"
     ]
    }
   ],
   "source": [
    "n=8\n",
    "t1=0\n",
    "t2=1\n",
    "t3=t1+t2\n",
    "print(f'{t1} > {t2 } > ',end=\"\")\n",
    "while n > 0:\n",
    "    n+=1\n",
    "    while n>1:\n",
    "        print(f\"{t3} > \",end=\"\")\n",
    "        t1=t2\n",
    "        t2=t3\n",
    "        t3=t1+t2\n",
    "        n-=1    \n",
    "    print(\"FIM \")\n",
    "    n=int(input(\"\\nquanto termos vc quer ver? \"))\n",
    "    print()\n",
    "print(\"fechando o prog.\")"
   ]
  }
 ],
 "metadata": {
  "kernelspec": {
   "display_name": "Python 3 (ipykernel)",
   "language": "python",
   "name": "python3"
  },
  "language_info": {
   "codemirror_mode": {
    "name": "ipython",
    "version": 3
   },
   "file_extension": ".py",
   "mimetype": "text/x-python",
   "name": "python",
   "nbconvert_exporter": "python",
   "pygments_lexer": "ipython3",
   "version": "3.9.7"
  }
 },
 "nbformat": 4,
 "nbformat_minor": 5
}
