{
 "cells": [
  {
   "cell_type": "markdown",
   "id": "9d0f42be",
   "metadata": {},
   "source": [
    "criar um programa que exiba a média dos números inputados e a cada novo input pergunte se o usuário ainda quer inputar"
   ]
  },
  {
   "cell_type": "code",
   "execution_count": 5,
   "id": "e32a605d",
   "metadata": {},
   "outputs": [
    {
     "name": "stdout",
     "output_type": "stream",
     "text": [
      "digite um número: 15487\n",
      "quer continuar[s/n]: s\n",
      "digite um número: -1548\n",
      "quer continuar[s/n]: s\n",
      "digite um número: 10\n",
      "quer continuar[s/n]: n\n",
      "você digitou \u001b[;32m2\u001b[m e a média entre eles é de: \u001b[;32m-769.00\u001b[m\n",
      "o menor número é \u001b[;32m-1548\u001b[m e o maior é \u001b[;32m15487\u001b[m\n"
     ]
    }
   ],
   "source": [
    "s=0\n",
    "n=0\n",
    "c=\"s\"\n",
    "x=int(input(\"digite um número: \"))\n",
    "max=x\n",
    "min=x\n",
    "c=input(\"quer continuar[s/n]: \")\n",
    "while c in \"SIMsim\":\n",
    "    x=int(input(\"digite um número: \"))\n",
    "    if x>max:\n",
    "        max = x\n",
    "    if x < min:\n",
    "        min = x\n",
    "    s+=x\n",
    "    n+=1\n",
    "    c=input(\"quer continuar[s/n]: \")\n",
    "print(f\"você digitou \\033[;32m{n}\\033[m e a média entre eles é de: \\033[;32m{s/n:.2f}\\033[m\")\n",
    "print(f\"o menor número é \\033[;32m{min}\\033[m e o maior é \\033[;32m{max}\\033[m\")"
   ]
  }
 ],
 "metadata": {
  "kernelspec": {
   "display_name": "Python 3 (ipykernel)",
   "language": "python",
   "name": "python3"
  },
  "language_info": {
   "codemirror_mode": {
    "name": "ipython",
    "version": 3
   },
   "file_extension": ".py",
   "mimetype": "text/x-python",
   "name": "python",
   "nbconvert_exporter": "python",
   "pygments_lexer": "ipython3",
   "version": "3.9.7"
  }
 },
 "nbformat": 4,
 "nbformat_minor": 5
}
