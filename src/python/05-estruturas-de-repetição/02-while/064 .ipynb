{
 "cells": [
  {
   "cell_type": "code",
   "execution_count": 5,
   "id": "49597ac0",
   "metadata": {},
   "outputs": [
    {
     "name": "stdout",
     "output_type": "stream",
     "text": [
      "digite um número [999 para sair]: 1548\n",
      "\n",
      "digite um número [999 para sair]: 1548\n",
      "\n",
      "digite um número [999 para sair]: 999\n",
      "\n",
      "a soma é \u001b[4;36m3096\u001b[m\n",
      "\n",
      "fim do programa\n"
     ]
    }
   ],
   "source": [
    "x=int(input(\"digite um número [999 para sair]: \"))\n",
    "s=0\n",
    "while x != 999:\n",
    "    s+=x\n",
    "    x=int(input(\"\\ndigite um número [999 para sair]: \"))\n",
    "if s==0:\n",
    "    print(\"\\na soma é zero.\")\n",
    "else:\n",
    "    print(f\"\\na soma é \\033[4;36m{s}\\033[m.\")\n",
    "print(\"\\nfim do programa.\")"
   ]
  }
 ],
 "metadata": {
  "kernelspec": {
   "display_name": "Python 3 (ipykernel)",
   "language": "python",
   "name": "python3"
  },
  "language_info": {
   "codemirror_mode": {
    "name": "ipython",
    "version": 3
   },
   "file_extension": ".py",
   "mimetype": "text/x-python",
   "name": "python",
   "nbconvert_exporter": "python",
   "pygments_lexer": "ipython3",
   "version": "3.9.7"
  }
 },
 "nbformat": 4,
 "nbformat_minor": 5
}
