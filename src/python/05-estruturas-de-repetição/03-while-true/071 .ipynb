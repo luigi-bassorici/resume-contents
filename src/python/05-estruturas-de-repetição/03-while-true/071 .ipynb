{
 "cells": [
  {
   "cell_type": "markdown",
   "id": "dc4486fc",
   "metadata": {},
   "source": [
    "criar um prog que receba o valor que o user quer sacar e entregue esse valor nota por nota com a menor quantidade de notas possíveis\n"
   ]
  },
  {
   "cell_type": "code",
   "execution_count": null,
   "id": "b0b89778",
   "metadata": {},
   "outputs": [],
   "source": [
    "saq=int(input(\"digite o valor a sacar: \"))\n",
    "\n",
    "cem=cinq=vinte=dez=cinco=dois=um=0\n",
    "\n",
    "\n",
    "while saq >=100:\n",
    "    saq-=100\n",
    "    cem+=1\n",
    "print(saq)\n",
    "while saq >= 50:\n",
    "    saq-=50\n",
    "    cinq+=1\n",
    "print(saq)\n",
    "while saq >=20:\n",
    "    saq-=20\n",
    "    vinte+=1\n",
    "print(saq)\n",
    "while saq >=10:\n",
    "    saq-=10\n",
    "    dez+=1\n",
    "print(saq)\n",
    "while saq >=5:\n",
    "    saq-=5\n",
    "    cinco+=1\n",
    "print(saq)\n",
    "while saq >= 2:\n",
    "    saq-=2\n",
    "    dois+=1\n",
    "print(saq)\n",
    "if saq ==1:\n",
    "    um=1\n",
    "\n",
    "\n",
    "if cem >0:\n",
    "    print(f\" vc receberá {cem} notas de R$100,00\")\n",
    "if cinq >0:\n",
    "    print(f\" vc receberá {cinq} notas de R$50,00\")\n",
    "if vinte >0:\n",
    "    print(f\" vc receberá {vinte} notas de R$20,00\")\n",
    "if dez >0:\n",
    "    print(f\" vc receberá {dez} notas de R$10,00\")\n",
    "if cinco >0:\n",
    "    print(f\" vc receberá {cinco} notas de R$5,00\")\n",
    "if dois >0:\n",
    "    print(f\" vc receberá {dois} notas de R$2,00\")\n",
    "if um >0:\n",
    "    print(f\" vc receberá {um} notas de R$1,00\")"
   ]
  }
 ],
 "metadata": {
  "kernelspec": {
   "display_name": "Python 3 (ipykernel)",
   "language": "python",
   "name": "python3"
  },
  "language_info": {
   "codemirror_mode": {
    "name": "ipython",
    "version": 3
   },
   "file_extension": ".py",
   "mimetype": "text/x-python",
   "name": "python",
   "nbconvert_exporter": "python",
   "pygments_lexer": "ipython3",
   "version": "3.9.7"
  }
 },
 "nbformat": 4,
 "nbformat_minor": 5
}
