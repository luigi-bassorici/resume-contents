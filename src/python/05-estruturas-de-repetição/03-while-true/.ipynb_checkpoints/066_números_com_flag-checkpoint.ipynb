{
 "cells": [
  {
   "cell_type": "markdown",
   "id": "faf9259b",
   "metadata": {},
   "source": [
    "inputar n números e exibir a soma deles depois da repetição, sendo 999 comando de parada"
   ]
  },
  {
   "cell_type": "code",
   "execution_count": 2,
   "id": "0f46a8c8",
   "metadata": {},
   "outputs": [
    {
     "name": "stdout",
     "output_type": "stream",
     "text": [
      "digite um número [0 para sair]: 1548\n",
      "digite um número [0 para sair]: 211248\n",
      "digite um número [0 para sair]: 121548\n",
      "digite um número [0 para sair]: -121548\n",
      "digite um número [0 para sair]: 0\n",
      "a soma dos números digitados é de 212796\n"
     ]
    }
   ],
   "source": [
    "n=s=0\n",
    "\n",
    "while True:\n",
    "    n=int(input(\"digite um número [0 para sair]: \"))\n",
    "    if n == 0:\n",
    "        break\n",
    "    s+=n\n",
    "print(f\"a soma dos números digitados é de {s}\")"
   ]
  }
 ],
 "metadata": {
  "kernelspec": {
   "display_name": "Python 3 (ipykernel)",
   "language": "python",
   "name": "python3"
  },
  "language_info": {
   "codemirror_mode": {
    "name": "ipython",
    "version": 3
   },
   "file_extension": ".py",
   "mimetype": "text/x-python",
   "name": "python",
   "nbconvert_exporter": "python",
   "pygments_lexer": "ipython3",
   "version": "3.9.7"
  }
 },
 "nbformat": 4,
 "nbformat_minor": 5
}
