{
 "cells": [
  {
   "cell_type": "markdown",
   "id": "02a7e2ff",
   "metadata": {},
   "source": [
    "criar um programa que toda vez que o usuario inputar um número ele mostre a tabuada de multiplicação 1-10 daquele número, se ele digitar um negativo o pc mostra um print de erro volta para o topo"
   ]
  },
  {
   "cell_type": "code",
   "execution_count": 11,
   "id": "4a0d59da",
   "metadata": {},
   "outputs": [
    {
     "name": "stdout",
     "output_type": "stream",
     "text": [
      "\n",
      "digite um número [0 para encerrar] ↧\n",
      "\n",
      "0\n",
      "\n",
      "\n",
      "\n",
      "fim\n"
     ]
    }
   ],
   "source": [
    "while True:\n",
    "    \n",
    "    \n",
    "    n=int(input(\"\\ndigite um número [0 para encerrar] ↧\\n\\n\"))\n",
    "    \n",
    "    \n",
    "    # caso se houver um erro, voltar ao input\n",
    "    if n <0:\n",
    "        print(\"\\nERRO_404\\n\\npor favor digite apenas números positivos\")\n",
    "        continue\n",
    "        \n",
    "    # se a condição de parada seja atendida, sair do loop\n",
    "    if n ==0:\n",
    "        break\n",
    "        \n",
    "    # se for aceitável exibir a tabuada e voltar ao input\n",
    "    for i in range(1,11):\n",
    "        print(f\"{n} x {i} = {n*i}\")\n",
    "        \n",
    "        \n",
    "        \n",
    "        \n",
    "        \n",
    "        \n",
    "print(\"\\n\\n\\nfim\")"
   ]
  }
 ],
 "metadata": {
  "kernelspec": {
   "display_name": "Python 3 (ipykernel)",
   "language": "python",
   "name": "python3"
  },
  "language_info": {
   "codemirror_mode": {
    "name": "ipython",
    "version": 3
   },
   "file_extension": ".py",
   "mimetype": "text/x-python",
   "name": "python",
   "nbconvert_exporter": "python",
   "pygments_lexer": "ipython3",
   "version": "3.9.7"
  }
 },
 "nbformat": 4,
 "nbformat_minor": 5
}
