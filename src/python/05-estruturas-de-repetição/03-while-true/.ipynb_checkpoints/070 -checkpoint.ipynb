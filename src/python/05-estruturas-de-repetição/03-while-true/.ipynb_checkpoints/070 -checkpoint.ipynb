{
 "cells": [
  {
   "cell_type": "markdown",
   "id": "eac869f4",
   "metadata": {},
   "source": [
    "receber o nome do produto e o custo\n",
    "\n",
    "exibir:\n",
    "\n",
    "-quantos produtos custam mais de R$1000\n",
    "\n",
    "- o produto mais barato e quanto custou"
   ]
  },
  {
   "cell_type": "code",
   "execution_count": null,
   "id": "65fa930e",
   "metadata": {},
   "outputs": [],
   "source": [
    "mil=0\n",
    "nome=input(\"\\nnome do produto: \")\n",
    "custo=int(input(\"\\nvalor do produto: \"))\n",
    "menor=custo\n",
    "nome_menor=nome\n",
    "\n",
    "breaker=input(\"\\nquer continuar ? [s/n ]  \").casefold().strip()[0]\n",
    "while breaker != \"s\" and breaker!=\"n\":\n",
    "    breaker=input(\"\\nERRO!\\n\\ndigite apenas 's' ou 'n'\").casefold().strip()[0]\n",
    "    continue\n",
    "    \n",
    "while breaker ==\"s\":\n",
    "    nome=input(\"\\nnome do produto: \")\n",
    "    custo=int(input(\"\\nvalor do produto: \"))\n",
    "    if custo >1000:\n",
    "        mil+=1\n",
    "    if custo < menor:\n",
    "        menor=custo\n",
    "        nome_menor=nome\n",
    "        \n",
    "    breaker=input(\"\\nquer continuar ? [s/n ]  \").casefold().strip()[0]\n",
    "    while breaker != \"s\" and breaker!=\"n\":\n",
    "        breaker=input(\"\\nERRO!\\n\\ndigite apenas 's' ou 'n'\").casefold().strip()[0]\n",
    "        continue\n",
    "if mil>0:\n",
    "    print(f\"\\n\\033[1;34m{mil}\\033[m produtos custaram mais de R$1.000\")\n",
    "print(f\"\\no produto mais barato foi \\033[1;34m'{nome_menor}'\\033[m e custou \\033[1;34mR${menor}\")"
   ]
  }
 ],
 "metadata": {
  "kernelspec": {
   "display_name": "Python 3 (ipykernel)",
   "language": "python",
   "name": "python3"
  },
  "language_info": {
   "codemirror_mode": {
    "name": "ipython",
    "version": 3
   },
   "file_extension": ".py",
   "mimetype": "text/x-python",
   "name": "python",
   "nbconvert_exporter": "python",
   "pygments_lexer": "ipython3",
   "version": "3.9.7"
  }
 },
 "nbformat": 4,
 "nbformat_minor": 5
}
