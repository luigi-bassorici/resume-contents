{
 "cells": [
  {
   "cell_type": "markdown",
   "id": "e4bc48d3",
   "metadata": {},
   "source": [
    "desenvolver um algorítimo que jogue par ou ímpar com o user, repetir o jogo enquanto o usuário ganhar"
   ]
  },
  {
   "cell_type": "code",
   "execution_count": 7,
   "id": "0b71410d",
   "metadata": {},
   "outputs": [
    {
     "name": "stdout",
     "output_type": "stream",
     "text": [
      "\n",
      "\n",
      "par ou ímpar[i/p]p\n",
      "\n",
      "jogue um número de 1 á 10: 4\n",
      "\n",
      "o computador jogou: 4\n",
      "\n",
      "8 é par\n",
      "\n",
      "você ganhou !\n",
      "\n",
      "\n",
      "par ou ímpar[i/p]i\n",
      "\n",
      "jogue um número de 1 á 10: 5\n",
      "\n",
      "o computador jogou: 9\n",
      "\n",
      "14 é par\n",
      "\n",
      "você perdeu !\n",
      "\n",
      "bom jogo, você ganhou 1 vezes.\n"
     ]
    }
   ],
   "source": [
    "v=s=c=j=0\n",
    "\n",
    "from random import*\n",
    "\n",
    "\n",
    "while True:\n",
    "    \n",
    "    e=input(\"\\n\\npar ou ímpar[i/p]\")\n",
    "    j=int(input(\"\\njogue um número de 1 á 10: \"))\n",
    "    c=randint(1,10)\n",
    "    s=j+c\n",
    "    \n",
    "# erros\n",
    "    if e != 'p' and e != 'i':\n",
    "        print('Error. Digite Par ou Impar!')\n",
    "        continue\n",
    "    if j >10 or j <1:\n",
    "        print('Error. Digite um número entre 1 e 10!')\n",
    "        continue\n",
    "# prévia\n",
    "    print(f\"\\no computador jogou: {c}\")\n",
    "    \n",
    "    \n",
    "# jogador escolher par\n",
    "    if e ==\"p\":\n",
    "        if s %2==1:\n",
    "            print(f\"\\n{s} é ímpar\")\n",
    "            print(\"\\nvocê perdeu !\")\n",
    "            break\n",
    "        else:\n",
    "            print(f\"\\n{s} é par\")\n",
    "            print(\"\\nvocê ganhou !\")\n",
    "            v+=1\n",
    "\n",
    "# jogador escolher ímpar\n",
    "    if e == \"i\":\n",
    "        \n",
    "        if s %2==0:\n",
    "            print(f\"\\n{s} é par\")\n",
    "            print(\"\\nvocê perdeu !\") # der par\n",
    "            break\n",
    "            \n",
    "        else:\n",
    "            print(f\"\\n{s} é ímpar\")\n",
    "            print(\"\\nvocê ganhou !\") # der ímpar\n",
    "            v+=1\n",
    "            \n",
    "# depois do user perder uma\n",
    "if v !=0:\n",
    "   \n",
    "    print(f\"\\nbom jogo, você ganhou {v} vezes.\")\n",
    "else:\n",
    "    print(\"**************\")\n",
    "    print(\"\\nmeu pato !\")"
   ]
  }
 ],
 "metadata": {
  "kernelspec": {
   "display_name": "Python 3 (ipykernel)",
   "language": "python",
   "name": "python3"
  },
  "language_info": {
   "codemirror_mode": {
    "name": "ipython",
    "version": 3
   },
   "file_extension": ".py",
   "mimetype": "text/x-python",
   "name": "python",
   "nbconvert_exporter": "python",
   "pygments_lexer": "ipython3",
   "version": "3.9.7"
  }
 },
 "nbformat": 4,
 "nbformat_minor": 5
}
