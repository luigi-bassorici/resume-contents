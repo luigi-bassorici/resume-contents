{
 "cells": [
  {
   "cell_type": "markdown",
   "id": "f42432f4",
   "metadata": {},
   "source": [
    "inputar a idade e o sexo de pessoas até o user digitar a cond. de saída\n",
    "\n",
    "dados á apresentar:\n",
    "\n",
    "quant. homens\n",
    "\n",
    "quant. mulheres < 20\n",
    "\n",
    "quant. >18"
   ]
  },
  {
   "cell_type": "code",
   "execution_count": null,
   "id": "2c7ee8e7",
   "metadata": {
    "collapsed": true
   },
   "outputs": [
    {
     "name": "stdout",
     "output_type": "stream",
     "text": [
      "idade: 15\n",
      "sexo [m/f]a\n",
      "\n",
      "ERRO\n",
      "\n",
      "digite apenas 'm ou 'f.\n",
      "sexo [m/f]m\n",
      "quer continuar? [s/n]j\n",
      "\n",
      "ERRO\n",
      "\n",
      "digite apenas 's' ou 'n'\n"
     ]
    }
   ],
   "source": [
    "dado1=dado2=dado3=0\n",
    "\n",
    "while True:\n",
    "    idade=int(input(\"idade: \"))\n",
    "\n",
    "    \n",
    "# input e reinput da variável sexo\n",
    "    sexo=input(\"sexo [m/f]\").casefold().strip()[0]\n",
    "    \n",
    "    while sexo!=\"m\"and sexo!=\"f\":\n",
    "        sexo=(\"\\nERRO\\n\\ndigite apenas 'm ou 'f.\")\n",
    "            \n",
    "            \n",
    "# coleta dos dados\n",
    "    if idade > 18:\n",
    "        dado1+=1\n",
    "    \n",
    "    if sexo==\"m\":\n",
    "        dado2+=1\n",
    "        \n",
    "    elif idade<20:\n",
    "        dado3+=1\n",
    "\n",
    "        \n",
    "        \n",
    "# condição de saída\n",
    "\n",
    "    breaker=input(\"quer continuar? [s/n]\").casefold().strip()[0]\n",
    "\n",
    "    while breaker != \"s\" and breaker !=\"n\":\n",
    "        breaker=input(\"\\nERRO\\n\\ndigite apenas 's' ou 'n'\").casefold().strip()[0]\n",
    "\n",
    "    if breaker==\"n\":\n",
    "        break\n",
    "        \n",
    "print(f\"\\nmais de 18 : {dado1}\\nhomens: {dado2}\\nmulheres com menos de 20: {dado3}\")          "
   ]
  }
 ],
 "metadata": {
  "kernelspec": {
   "display_name": "Python 3 (ipykernel)",
   "language": "python",
   "name": "python3"
  },
  "language_info": {
   "codemirror_mode": {
    "name": "ipython",
    "version": 3
   },
   "file_extension": ".py",
   "mimetype": "text/x-python",
   "name": "python",
   "nbconvert_exporter": "python",
   "pygments_lexer": "ipython3",
   "version": "3.9.7"
  }
 },
 "nbformat": 4,
 "nbformat_minor": 5
}
