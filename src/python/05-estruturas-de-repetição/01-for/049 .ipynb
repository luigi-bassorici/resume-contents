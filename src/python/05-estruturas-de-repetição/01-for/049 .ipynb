{
 "cells": [
  {
   "cell_type": "code",
   "execution_count": null,
   "id": "999c0083",
   "metadata": {},
   "outputs": [],
   "source": [
    "# inputting the number the number that will be used to build the multiplication table\n",
    "n=int(input(\"enter a number and i'll show you the whole multiplication table :\"))\n",
    "\n",
    "# building multiplication tables with native python calculator and repetitions\n",
    "for i in range(1,11):\n",
    "    print(f\"\\n{i} x {n} = {n*i}\")"
   ]
  }
 ],
 "metadata": {
  "kernelspec": {
   "display_name": "Python 3 (ipykernel)",
   "language": "python",
   "name": "python3"
  },
  "language_info": {
   "codemirror_mode": {
    "name": "ipython",
    "version": 3
   },
   "file_extension": ".py",
   "mimetype": "text/x-python",
   "name": "python",
   "nbconvert_exporter": "python",
   "pygments_lexer": "ipython3",
   "version": "3.9.7"
  }
 },
 "nbformat": 4,
 "nbformat_minor": 5
}
