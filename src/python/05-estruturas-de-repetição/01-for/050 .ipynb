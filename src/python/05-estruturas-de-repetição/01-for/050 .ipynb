{
 "cells": [
  {
   "cell_type": "code",
   "execution_count": null,
   "id": "2e6bdb12",
   "metadata": {},
   "outputs": [],
   "source": [
    "s=0\n",
    "for i in range(6):\n",
    "    a=int(input(\"type a number: \"))\n",
    "    if a %2==0: # if the \"a\" is pair\n",
    "        s+=a # add the \"a\" to the amount \"s\"\n",
    "# printing + redundancy\n",
    "if s !=0:\n",
    "     print(f\"the sum of pair numubers is{s}\") # displaying the variable that contains the sum of the pairs\n",
    "else:\n",
    "    print(\"none of the numbers entered are pair\")"
   ]
  }
 ],
 "metadata": {
  "kernelspec": {
   "display_name": "Python 3 (ipykernel)",
   "language": "python",
   "name": "python3"
  },
  "language_info": {
   "codemirror_mode": {
    "name": "ipython",
    "version": 3
   },
   "file_extension": ".py",
   "mimetype": "text/x-python",
   "name": "python",
   "nbconvert_exporter": "python",
   "pygments_lexer": "ipython3",
   "version": "3.9.7"
  }
 },
 "nbformat": 4,
 "nbformat_minor": 5
}
