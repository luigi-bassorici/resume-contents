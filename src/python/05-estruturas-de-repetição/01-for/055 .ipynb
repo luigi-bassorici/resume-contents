{
 "cells": [
  {
   "cell_type": "markdown",
   "id": "7697fc7a",
   "metadata": {},
   "source": [
    "receba o peso de diferentes pessoas e dizer o mais leve e o mais pesado"
   ]
  },
  {
   "cell_type": "code",
   "execution_count": 2,
   "id": "ac9e8e11",
   "metadata": {},
   "outputs": [
    {
     "name": "stdout",
     "output_type": "stream",
     "text": [
      "digite o número de pesssoas a serem comparadas: 7\n",
      "peso: 152\n",
      "peso: 120\n",
      "peso: 11\n",
      "peso: 145\n",
      "peso: 100\n",
      "o maior é : 152.0\n",
      "o maior é : 11.0\n"
     ]
    }
   ],
   "source": [
    "npessoas=int(input(\"digite o número de pesssoas a serem comparadas: \"))\n",
    "primeiro=float(input(\"peso: \"))\n",
    "mais=primeiro\n",
    "menos=primeiro\n",
    "for i in range(4):\n",
    "    a=float(input(\"peso: \"))\n",
    "    if a > mais:\n",
    "        mais=a\n",
    "    if a < menos:\n",
    "        menos=a\n",
    "print(f\"o maior é : {mais}\")\n",
    "print(f\"o maior é : {menos}\")"
   ]
  }
 ],
 "metadata": {
  "kernelspec": {
   "display_name": "Python 3 (ipykernel)",
   "language": "python",
   "name": "python3"
  },
  "language_info": {
   "codemirror_mode": {
    "name": "ipython",
    "version": 3
   },
   "file_extension": ".py",
   "mimetype": "text/x-python",
   "name": "python",
   "nbconvert_exporter": "python",
   "pygments_lexer": "ipython3",
   "version": "3.9.7"
  }
 },
 "nbformat": 4,
 "nbformat_minor": 5
}
