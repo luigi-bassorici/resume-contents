{
 "cells": [
  {
   "cell_type": "markdown",
   "id": "ba028c20",
   "metadata": {},
   "source": [
    "# For"
   ]
  },
  {
   "cell_type": "markdown",
   "id": "f9a78477",
   "metadata": {},
   "source": [
    "serve para repetir comandos dentro de um ciclo de repetição fechado\n",
    "\n",
    "for ⇿ \"for each\" ⇿ \"para cada\" ⇾ para cada \"item\" na lista"
   ]
  },
  {
   "cell_type": "code",
   "execution_count": null,
   "id": "a458679d",
   "metadata": {
    "collapsed": true
   },
   "outputs": [],
   "source": [
    "for i in variável: # str ⇿ lista ⇿ dicionário ⇿ tupla\n",
    "for i in range(5): # range é um intervalo criado pelo sistema de contagem do python"
   ]
  },
  {
   "cell_type": "markdown",
   "id": "934b1afd",
   "metadata": {},
   "source": [
    "# for com lista:"
   ]
  },
  {
   "cell_type": "code",
   "execution_count": 80,
   "id": "2141af09",
   "metadata": {},
   "outputs": [
    {
     "name": "stdout",
     "output_type": "stream",
     "text": [
      "camisa do gremio\n",
      "calça moletom\n",
      "calção\n",
      "meia de futsal\n"
     ]
    }
   ],
   "source": [
    "lista_de_produtos=[\"camisa do gremio\",\"calça moletom\",\"calção\",\"meia de futsal\"]\n",
    "\n",
    "for i in lista_de_produtos:\n",
    "    print(i)"
   ]
  },
  {
   "cell_type": "markdown",
   "id": "523eff27",
   "metadata": {},
   "source": [
    "# for com str"
   ]
  },
  {
   "cell_type": "markdown",
   "id": "ecd3ab3b",
   "metadata": {},
   "source": [
    "cada str é um conjunto de microespaços e esses microespaços funcionam como itens de uma lista"
   ]
  },
  {
   "cell_type": "code",
   "execution_count": 101,
   "id": "6420ff8d",
   "metadata": {},
   "outputs": [
    {
     "name": "stdout",
     "output_type": "stream",
     "text": [
      "L\n",
      "U\n",
      "I\n",
      "G\n",
      "I\n",
      " \n",
      "B\n",
      "A\n",
      "S\n",
      "S\n",
      "O\n",
      "R\n",
      "I\n",
      "C\n",
      "I\n"
     ]
    }
   ],
   "source": [
    "x=\"luigi bassorici\"\n",
    "for i in x:\n",
    "    print(i.upper())"
   ]
  },
  {
   "cell_type": "markdown",
   "id": "79b215d1",
   "metadata": {},
   "source": [
    "# for com dicionário"
   ]
  },
  {
   "cell_type": "code",
   "execution_count": 79,
   "id": "ec54c864",
   "metadata": {
    "scrolled": true
   },
   "outputs": [
    {
     "name": "stdout",
     "output_type": "stream",
     "text": [
      "camisa do gremio\n",
      "banana\n",
      "calça moletom\n",
      "100\n",
      "calção\n",
      "60\n",
      "meia de futsal\n",
      "50\n"
     ]
    }
   ],
   "source": [
    "dicionario={\"camisa do gremio\" :250,\"calça moletom\":100,\"calção\":60,\"meia de futsal\":50}\n",
    "s=0\n",
    "for i in dicionario:\n",
    "    print(i)\n",
    "    print(dicionario[i])"
   ]
  },
  {
   "cell_type": "markdown",
   "id": "b3ac751b",
   "metadata": {},
   "source": [
    "# for com range"
   ]
  },
  {
   "cell_type": "markdown",
   "id": "37b9af97",
   "metadata": {},
   "source": [
    "range ⇾ intervalo criado imediatamente pelo sistema de contagem do python"
   ]
  },
  {
   "cell_type": "code",
   "execution_count": 104,
   "id": "8f8ea2da",
   "metadata": {},
   "outputs": [
    {
     "name": "stdout",
     "output_type": "stream",
     "text": [
      "2\n",
      "4\n",
      "6\n",
      "8\n",
      "10\n"
     ]
    }
   ],
   "source": [
    "for i in range(2,11,2):\n",
    "    print(i)"
   ]
  },
  {
   "cell_type": "markdown",
   "id": "8e875df4",
   "metadata": {},
   "source": [
    "(n,m,x) \n",
    "n ⇾ é levado ao pé da letra\n",
    "m ⇾ não é considerado, apenas o seu antecessor, por isso usa-se muito m+1 na fonte\n",
    "x ⇾ é a razão desse sistema de contagem, oq diz quais numeros ignorar ou não deuma contagem de 1 in 1"
   ]
  },
  {
   "cell_type": "markdown",
   "id": "60f39a95",
   "metadata": {},
   "source": [
    "# break e continue\n",
    "essas duas instruções são aplicáveis dentro da estrutura for, podem ser usadas como uma exceção para a saída do for ou um pulador de etapas\n",
    "\n",
    "# break\n",
    "serve para sair do bloco de comandos e do laço de repetição , ele faz o pc ignorar o resto do ciclo de repetição do for e também os comandos que viriam depois do break\n",
    "\n",
    "# continue\n",
    "serve para \n",
    "o comando que vier antes dessas duas intruções será acatado mesmo sem o ciclo de repetição chegar ao fim"
   ]
  }
 ],
 "metadata": {
  "kernelspec": {
   "display_name": "Python 3 (ipykernel)",
   "language": "python",
   "name": "python3"
  },
  "language_info": {
   "codemirror_mode": {
    "name": "ipython",
    "version": 3
   },
   "file_extension": ".py",
   "mimetype": "text/x-python",
   "name": "python",
   "nbconvert_exporter": "python",
   "pygments_lexer": "ipython3",
   "version": "3.9.7"
  }
 },
 "nbformat": 4,
 "nbformat_minor": 5
}
