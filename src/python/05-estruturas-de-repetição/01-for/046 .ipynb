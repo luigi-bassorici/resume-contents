{
 "cells": [
  {
   "cell_type": "code",
   "execution_count": null,
   "id": "306a4768",
   "metadata": {},
   "outputs": [],
   "source": [
    "#Crie uma contagem regressiva\n",
    "\n",
    "from time import *\n",
    "\n",
    "for i in range(10,0,-1) : # intervalo de 10 á 1\n",
    "    print(i)\n",
    "    sleep(1)\n",
    "print(\"lançar\")"
   ]
  }
 ],
 "metadata": {
  "kernelspec": {
   "display_name": "Python 3 (ipykernel)",
   "language": "python",
   "name": "python3"
  },
  "language_info": {
   "codemirror_mode": {
    "name": "ipython",
    "version": 3
   },
   "file_extension": ".py",
   "mimetype": "text/x-python",
   "name": "python",
   "nbconvert_exporter": "python",
   "pygments_lexer": "ipython3",
   "version": "3.9.7"
  }
 },
 "nbformat": 4,
 "nbformat_minor": 5
}
