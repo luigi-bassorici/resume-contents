{
 "cells": [
  {
   "cell_type": "code",
   "execution_count": 5,
   "id": "8810b08c",
   "metadata": {},
   "outputs": [
    {
     "name": "stdout",
     "output_type": "stream",
     "text": [
      "digite o prmeiro termo da P.A: 0\n",
      "digite a razão da P.A: 5\n",
      "0\n",
      "5\n",
      "10\n",
      "15\n",
      "20\n",
      "25\n",
      "30\n",
      "35\n",
      "40\n",
      "45\n"
     ]
    }
   ],
   "source": [
    "# fazer um algorítimo que receba o primeiro e termo de uma P.A e a razão e mostre os 10 primeirs termos\n",
    "# pesquisar as leis de formação da p.a e o processo para descubrir um termo n\n",
    "\n",
    "# inputando a lei de formação da P.A\n",
    "termo1=int(input(\"digite o prmeiro termo da P.A: \"))\n",
    "razão=int(input(\"digite a razão da P.A: \"))\n",
    "# extraindo os dados\n",
    "for i in range(0,10):\n",
    "    print(termo1+i*razão)"
   ]
  }
 ],
 "metadata": {
  "kernelspec": {
   "display_name": "Python 3 (ipykernel)",
   "language": "python",
   "name": "python3"
  },
  "language_info": {
   "codemirror_mode": {
    "name": "ipython",
    "version": 3
   },
   "file_extension": ".py",
   "mimetype": "text/x-python",
   "name": "python",
   "nbconvert_exporter": "python",
   "pygments_lexer": "ipython3",
   "version": "3.9.7"
  }
 },
 "nbformat": 4,
 "nbformat_minor": 5
}
