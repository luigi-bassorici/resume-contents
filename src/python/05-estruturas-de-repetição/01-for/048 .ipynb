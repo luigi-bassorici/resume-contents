{
 "cells": [
  {
   "cell_type": "code",
   "execution_count": null,
   "id": "682128cf",
   "metadata": {},
   "outputs": [],
   "source": [
    "# inputting the \"range formation commands\"\n",
    "x=int(input(\"digite onde o intervalo começa \"))\n",
    "z=int(input(\"digite onde o intervalo termina \"))\n",
    "\n",
    "# extract data\n",
    "for i in range(x,z+1):\n",
    "    if i %3==0: # if it is multiple of 3\n",
    "        if i%2==1: # if isn't pair\n",
    "            print(i)"
   ]
  }
 ],
 "metadata": {
  "kernelspec": {
   "display_name": "Python 3 (ipykernel)",
   "language": "python",
   "name": "python3"
  },
  "language_info": {
   "codemirror_mode": {
    "name": "ipython",
    "version": 3
   },
   "file_extension": ".py",
   "mimetype": "text/x-python",
   "name": "python",
   "nbconvert_exporter": "python",
   "pygments_lexer": "ipython3",
   "version": "3.9.7"
  }
 },
 "nbformat": 4,
 "nbformat_minor": 5
}
