{
 "cells": [
  {
   "cell_type": "code",
   "execution_count": null,
   "id": "899eef7d",
   "metadata": {},
   "outputs": [],
   "source": [
    "# exibir se uma palavra é um palindromo ou não, palindromo é quando  a palavra ou frase ao contrário dá no mesmo\n",
    "\n",
    "a=input(\"digite a frase: \").strip().casefold()\n",
    "lista=a.split() # separando a \"str\" em varios itens \n",
    "junto=\"\".join(lista) # juntando a lista de itens em uma \"str\" só\n",
    "inverso=junto[::-1] # invertendo a ordem dos \"microspaces\"\n",
    "\n",
    "if junto==inverso: # comparing the sentence with its inverse (both without spaces and with all lowercase letters)\n",
    "    print(\"\\né um palíndromo \")\n",
    "else:\n",
    "    print(\"\\nnão é um palíndromo\")"
   ]
  }
 ],
 "metadata": {
  "kernelspec": {
   "display_name": "Python 3 (ipykernel)",
   "language": "python",
   "name": "python3"
  },
  "language_info": {
   "codemirror_mode": {
    "name": "ipython",
    "version": 3
   },
   "file_extension": ".py",
   "mimetype": "text/x-python",
   "name": "python",
   "nbconvert_exporter": "python",
   "pygments_lexer": "ipython3",
   "version": "3.9.7"
  }
 },
 "nbformat": 4,
 "nbformat_minor": 5
}
