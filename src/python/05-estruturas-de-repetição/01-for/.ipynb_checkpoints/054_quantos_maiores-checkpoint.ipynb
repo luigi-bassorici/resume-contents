{
 "cells": [
  {
   "cell_type": "markdown",
   "id": "b28bc651",
   "metadata": {},
   "source": [
    "coletar datas de nascimento e dizer quantas pessoas são maiores de idade e quantas ainda são menores de idade"
   ]
  },
  {
   "cell_type": "code",
   "execution_count": 7,
   "id": "837caf71",
   "metadata": {},
   "outputs": [
    {
     "name": "stdout",
     "output_type": "stream",
     "text": [
      "quantas pessoas você quer analisar ? 6\n",
      "\n",
      "digite a idade da pessoa: 15\n",
      "\n",
      "digite a idade da pessoa: 15\n",
      "\n",
      "digite a idade da pessoa: 15\n",
      "\n",
      "digite a idade da pessoa: 15\n",
      "\n",
      "digite a idade da pessoa: 15\n",
      "\n",
      "digite a idade da pessoa: 15\n",
      "6 são menores de idade\n",
      "nenhuma das pessoas é maior de idade\n"
     ]
    }
   ],
   "source": [
    "vezes=int(input(\"quantas pessoas você quer analisar ? \"))\n",
    "maiores=0\n",
    "menores=0\n",
    "\n",
    "for i in range(vezes):\n",
    "    idade=int(input(\"\\ndigite a idade da pessoa: \"))\n",
    "    if idade >17:\n",
    "        maiores+=1\n",
    "    else: \n",
    "        menores+=1\n",
    "if menores > 0:\n",
    "    print(f\"{menores} são menores de idade\")\n",
    "\n",
    "if menores == 0:\n",
    "    print(\"nenhuma das pessoas é menor de idade\")\n",
    "    \n",
    "if maiores >0:\n",
    "    print(f\"{maiores} são maiores de idade\")\n",
    "\n",
    "if maiores == 0:\n",
    "    print(\"nenhuma das pessoas é maior de idade\")\n"
   ]
  }
 ],
 "metadata": {
  "kernelspec": {
   "display_name": "Python 3 (ipykernel)",
   "language": "python",
   "name": "python3"
  },
  "language_info": {
   "codemirror_mode": {
    "name": "ipython",
    "version": 3
   },
   "file_extension": ".py",
   "mimetype": "text/x-python",
   "name": "python",
   "nbconvert_exporter": "python",
   "pygments_lexer": "ipython3",
   "version": "3.9.7"
  }
 },
 "nbformat": 4,
 "nbformat_minor": 5
}
