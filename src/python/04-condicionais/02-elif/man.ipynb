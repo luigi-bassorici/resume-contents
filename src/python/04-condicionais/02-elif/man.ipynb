{
 "cells": [
  {
   "cell_type": "markdown",
   "id": "11e131e7",
   "metadata": {},
   "source": [
    "# condicionais if - else - elif"
   ]
  },
  {
   "cell_type": "markdown",
   "id": "ea1ae2ec",
   "metadata": {},
   "source": [
    "if/else/elif são elementos de sintaxe que precedem uma condição seja ela explícita ou não\n",
    "\n",
    "if (condição):\n",
    "se a condição que sucede o if for verdadeira o if quebra a identação e executa o que estiver no bloco de comandos\n",
    "\n",
    "else (a condição é que o if acima seja falso )\n",
    "se a condição de cima não for identada essa será\n",
    "\n",
    "elif (condição):\n",
    "elif é a contração de else + if, significa que se a condição de cima for falsa ele impõe uma nova condição\n",
    "*aninhadas*"
   ]
  },
  {
   "cell_type": "code",
   "execution_count": 1,
   "id": "45835d89",
   "metadata": {},
   "outputs": [
    {
     "name": "stdout",
     "output_type": "stream",
     "text": [
      "Digite sua nota: 100\n",
      "Parabéns você foi aprovado\n"
     ]
    }
   ],
   "source": [
    "# explicação atrevés de um exercicio\n",
    "\n",
    "# criar um algoritmo que pede a nota do aluno e diz se ele está reprovado, de recuperação ou aprovado.\n",
    "# nota >= 7  (APROVADO)\n",
    "# nota < 7  (RECUPERAÇÃO)\n",
    "# nota <= 4  (REPROVADO) \n",
    "\n",
    "nota = float(input(\"Digite sua nota: \"))\n",
    "\n",
    "# exemplo com elif\n",
    "\n",
    "if 0<= nota <= 4:\n",
    "  print(\"Você foi reprovado\")\n",
    "elif nota < 7:                   # O comando elif serve para realizar a verificação de outra expressão caso a primeira condição seja falsa.\n",
    "  print(\"Você está de recuperação\")\n",
    "else:\n",
    "  print(\"Parabéns você foi aprovado\")"
   ]
  }
 ],
 "metadata": {
  "kernelspec": {
   "display_name": "Python 3 (ipykernel)",
   "language": "python",
   "name": "python3"
  },
  "language_info": {
   "codemirror_mode": {
    "name": "ipython",
    "version": 3
   },
   "file_extension": ".py",
   "mimetype": "text/x-python",
   "name": "python",
   "nbconvert_exporter": "python",
   "pygments_lexer": "ipython3",
   "version": "3.9.7"
  }
 },
 "nbformat": 4,
 "nbformat_minor": 5
}
