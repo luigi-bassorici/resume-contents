{
 "cells": [
  {
   "cell_type": "markdown",
   "id": "0325814c",
   "metadata": {},
   "source": [
    "calssificar um atleta em uma categoria de acordo com a sua faixa etária (mirim, infantil, junior, senior ou master)"
   ]
  },
  {
   "cell_type": "code",
   "execution_count": 2,
   "id": "7da1993f",
   "metadata": {},
   "outputs": [
    {
     "name": "stdout",
     "output_type": "stream",
     "text": [
      "digite a sua idade: 29\n",
      "\n",
      "você pertence a categoria master\n"
     ]
    }
   ],
   "source": [
    "idade = int(input(\"digite a sua idade: \"))\n",
    "\n",
    "if idade <= 9:\n",
    "    print(\"\\nvocê pertence a categoria mirim\" )\n",
    "elif idade <= 14:\n",
    "    print(\"\\nvocê pertence a categoria infantil\")\n",
    "elif idade <= 19:\n",
    "    print(\"\\nvocê pertence a categoria junior\")\n",
    "elif idade <= 25:\n",
    "    print(\"\\nvocê pertence a categoria sênior\")\n",
    "else:\n",
    "    print(\"\\nvocê pertence a categoria master\")"
   ]
  }
 ],
 "metadata": {
  "kernelspec": {
   "display_name": "Python 3 (ipykernel)",
   "language": "python",
   "name": "python3"
  },
  "language_info": {
   "codemirror_mode": {
    "name": "ipython",
    "version": 3
   },
   "file_extension": ".py",
   "mimetype": "text/x-python",
   "name": "python",
   "nbconvert_exporter": "python",
   "pygments_lexer": "ipython3",
   "version": "3.9.7"
  }
 },
 "nbformat": 4,
 "nbformat_minor": 5
}
