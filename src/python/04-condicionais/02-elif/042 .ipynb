{
 "cells": [
  {
   "cell_type": "markdown",
   "id": "4250bdba",
   "metadata": {},
   "source": [
    "ex do triangulo + classificar diacordo com a comparação dos lados"
   ]
  },
  {
   "cell_type": "code",
   "execution_count": 1,
   "id": "4e176dd4",
   "metadata": {},
   "outputs": [
    {
     "name": "stdout",
     "output_type": "stream",
     "text": [
      "enter the value of the firts side: 154\n",
      "enter the value of the second side: 1326\n",
      "enter the value of third side: 15548\n",
      "this values do not form a triangle\n"
     ]
    }
   ],
   "source": [
    "a = float(input(\"enter the value of the firts side: \"))\n",
    "b = float(input(\"enter the value of the second side: \"))\n",
    "c = float(input(\"enter the value of third side: \"))\n",
    "\n",
    "if a < b + c and b < a + c and c < a + b:\n",
    "    if a==b==c:\n",
    "     print(\"this values form a equilateral triangle\")\n",
    "    elif a==b and a!=c or a==c and a!=b or b==c and a!=c:\n",
    "     print(\"this values form a isosceles triangle\")\n",
    "    elif a!=b!=c and a!=c:\n",
    "     print(\"this values form a scalen triagle\")\n",
    "else:\n",
    "  print(\"this values do not form a triangle\")"
   ]
  }
 ],
 "metadata": {
  "kernelspec": {
   "display_name": "Python 3 (ipykernel)",
   "language": "python",
   "name": "python3"
  },
  "language_info": {
   "codemirror_mode": {
    "name": "ipython",
    "version": 3
   },
   "file_extension": ".py",
   "mimetype": "text/x-python",
   "name": "python",
   "nbconvert_exporter": "python",
   "pygments_lexer": "ipython3",
   "version": "3.9.7"
  }
 },
 "nbformat": 4,
 "nbformat_minor": 5
}
