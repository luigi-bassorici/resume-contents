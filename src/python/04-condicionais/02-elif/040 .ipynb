{
 "cells": [
  {
   "cell_type": "markdown",
   "id": "2da52960",
   "metadata": {},
   "source": [
    "receber as duas notas semestrais de um estudante e diagnosticar se ele está reprovado de recuperçaãoou aprovado"
   ]
  },
  {
   "cell_type": "code",
   "execution_count": 1,
   "id": "8d4bf589",
   "metadata": {},
   "outputs": [
    {
     "name": "stdout",
     "output_type": "stream",
     "text": [
      "digite a nota do primeiro semestre: 100\n",
      "digite a nota do segundo semestre: 65\n",
      "Aprovado \n"
     ]
    }
   ],
   "source": [
    "n1 = float(input(\"digite a nota do primeiro semestre: \"))\n",
    "n2 = float(input(\"digite a nota do segundo semestre: \"))\n",
    "média = (n1 + n2) / 2\n",
    "\n",
    "if média < 5:\n",
    "    print(\"Reprovado direto .\")\n",
    "elif média < 7:\n",
    "    print(\"Recuperação \")\n",
    "else:\n",
    "    print(\"Aprovado \")"
   ]
  }
 ],
 "metadata": {
  "kernelspec": {
   "display_name": "Python 3 (ipykernel)",
   "language": "python",
   "name": "python3"
  },
  "language_info": {
   "codemirror_mode": {
    "name": "ipython",
    "version": 3
   },
   "file_extension": ".py",
   "mimetype": "text/x-python",
   "name": "python",
   "nbconvert_exporter": "python",
   "pygments_lexer": "ipython3",
   "version": "3.9.7"
  }
 },
 "nbformat": 4,
 "nbformat_minor": 5
}
