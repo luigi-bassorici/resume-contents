{
 "cells": [
  {
   "cell_type": "code",
   "execution_count": 6,
   "id": "d4cb414e",
   "metadata": {},
   "outputs": [
    {
     "name": "stdout",
     "output_type": "stream",
     "text": [
      "preço do produto: 6000\n",
      "\n",
      "***formas de pagamento***\n",
      "[1] 1x dinheiro ou pix\n",
      "[2] 1x crédito\n",
      "[3] 2x crédito\n",
      "[4] 3x ou mais no crédito\n",
      "Qual a opção: 4\n",
      "\n",
      "quantas parcelas: 9\n",
      "\n",
      "O valor do produto será de R$7200.00 e a paercela será de R$800.00\n"
     ]
    }
   ],
   "source": [
    "a = float(input(\"preço do produto: \" ))\n",
    "\n",
    "print('\\n***formas de pagamento***\\n[1] 1x dinheiro ou pix\\n[2] 1x crédito\\n[3] 2x crédito\\n[4] 3x ou mais no crédito')\n",
    "f = float(input(\"Qual a opção: \" ))\n",
    "\n",
    "desc_dinheiro= a*0.1\n",
    "desc_cartão = a*0.05\n",
    "juros_cartão=1.2\n",
    "if f == 1:\n",
    "    print(f\"\\nvc ganhou um desconto de 10% o preço do produto será de R${a-desc_dinheiro:.2f}\")\n",
    "    \n",
    "elif f == 2:\n",
    "    print(f\"\\nvc ganhou um desconto de 5% o preço do produto será de R${a-desc_cartão:.2f}\")\n",
    "\n",
    "elif f == 3:\n",
    "    print(f\"\\nO valor do produto é R${a} e a parcela será de R${a/2:.2f} *sem juros*\")\n",
    "\n",
    "elif f == 4:\n",
    "    p=float(input(\"\\nquantas parcelas: \" ))\n",
    "    print(f\"\\nO valor do produto será de R${a*juros_cartão:.2f} e a paercela será de R${a*juros_cartão/p:.2f}\")\n",
    "\n"
   ]
  }
 ],
 "metadata": {
  "kernelspec": {
   "display_name": "Python 3 (ipykernel)",
   "language": "python",
   "name": "python3"
  },
  "language_info": {
   "codemirror_mode": {
    "name": "ipython",
    "version": 3
   },
   "file_extension": ".py",
   "mimetype": "text/x-python",
   "name": "python",
   "nbconvert_exporter": "python",
   "pygments_lexer": "ipython3",
   "version": "3.9.7"
  }
 },
 "nbformat": 4,
 "nbformat_minor": 5
}
