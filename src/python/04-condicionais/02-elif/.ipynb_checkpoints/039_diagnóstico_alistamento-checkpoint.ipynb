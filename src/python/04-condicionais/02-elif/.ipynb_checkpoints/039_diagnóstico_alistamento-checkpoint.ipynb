{
 "cells": [
  {
   "cell_type": "markdown",
   "id": "390e9f14",
   "metadata": {},
   "source": [
    "receber a idade de um garoto e diagnosticar sobre o seu alistamento"
   ]
  },
  {
   "cell_type": "code",
   "execution_count": 4,
   "id": "5a96ba6b",
   "metadata": {},
   "outputs": [
    {
     "name": "stdout",
     "output_type": "stream",
     "text": [
      "digite o seu ano de nascimento: 2002\n",
      "\n",
      "quem nasceu em 2002 tem 20 anos em 2022 \n",
      "\n",
      "você deveria ter se alistado em 2020\n",
      "\n",
      "procure uma junta de serviço militar urgentemente!\n"
     ]
    }
   ],
   "source": [
    "x=int(input(\"digite o seu ano de nascimento: \"))\n",
    "ano_atual=2022\n",
    "print(f\"\\nquem nasceu em {x} tem {ano_atual-x} anos em {ano_atual} \")\n",
    "if ano_atual-x <18:\n",
    "    print(f\"\\nainda faltam {ano18-ano_atual} anos para o seu alistamento\")\n",
    "    print(f\"\\no seu alistamento será em {x+18}!\")\n",
    "elif ano_atual-x >18:\n",
    "    print(f\"\\nvocê deveria ter se alistado em {x+18}\")\n",
    "    \n",
    "    print(\"\\nprocure uma junta de serviço militar urgentemente!\")\n",
    "else:\n",
    "    print(f\"\\nvocê deve se alistar nesse ano !\")"
   ]
  }
 ],
 "metadata": {
  "kernelspec": {
   "display_name": "Python 3 (ipykernel)",
   "language": "python",
   "name": "python3"
  },
  "language_info": {
   "codemirror_mode": {
    "name": "ipython",
    "version": 3
   },
   "file_extension": ".py",
   "mimetype": "text/x-python",
   "name": "python",
   "nbconvert_exporter": "python",
   "pygments_lexer": "ipython3",
   "version": "3.9.7"
  }
 },
 "nbformat": 4,
 "nbformat_minor": 5
}
