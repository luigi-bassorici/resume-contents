{
 "cells": [
  {
   "cell_type": "code",
   "execution_count": 3,
   "id": "83dec964",
   "metadata": {},
   "outputs": [
    {
     "name": "stdout",
     "output_type": "stream",
     "text": [
      "digite um número : 1548\n",
      "\n",
      "[1] Binario\n",
      "[2] Hexadecimal\n",
      "[3] Octadecimal\n",
      "\n",
      "escolha o sistema a converter: 3\n",
      "\n",
      "o 1548 convertido para \u001b[4;34mHexadecimal\u001b[m fica 60c\n"
     ]
    }
   ],
   "source": [
    "number = int(input(\"digite um número : \" ))\n",
    "\n",
    "print('\\n[1] Binario\\n[2] Hexadecimal\\n[3] Octadecimal')\n",
    "\n",
    "b = int(input(\"\\nescolha o sistema a converter: \"))\n",
    "\n",
    "if b == 1:\n",
    "     print(f\"\\no {number} convertido para \\033[4;34mBinário\\033[m fica {bin(number) [2:]}\")\n",
    "\n",
    "elif b == 2:\n",
    "    print(f\"\\no {number} convertido para \\033[4;34mOctal\\033[m fica {oct(number) [2:]}\")\n",
    "\n",
    "elif b == 3:\n",
    "    print(f\"\\no {number} convertido para \\033[4;34mHexadecimal\\033[m fica {hex(number) [2:]}\")\n",
    "\n",
    "else:\n",
    "    print(\"O numero está errado, tente novamente\")"
   ]
  }
 ],
 "metadata": {
  "kernelspec": {
   "display_name": "Python 3 (ipykernel)",
   "language": "python",
   "name": "python3"
  },
  "language_info": {
   "codemirror_mode": {
    "name": "ipython",
    "version": 3
   },
   "file_extension": ".py",
   "mimetype": "text/x-python",
   "name": "python",
   "nbconvert_exporter": "python",
   "pygments_lexer": "ipython3",
   "version": "3.9.7"
  }
 },
 "nbformat": 4,
 "nbformat_minor": 5
}
