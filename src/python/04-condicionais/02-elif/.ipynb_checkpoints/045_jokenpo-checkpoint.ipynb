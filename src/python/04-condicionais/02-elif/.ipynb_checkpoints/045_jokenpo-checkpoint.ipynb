{
 "cells": [
  {
   "cell_type": "code",
   "execution_count": 14,
   "id": "42bf096b",
   "metadata": {},
   "outputs": [
    {
     "name": "stdout",
     "output_type": "stream",
     "text": [
      "suas opções:\n",
      "\n",
      "[0] pedra\n",
      "[1] papel\n",
      "[2] tesoura\n",
      "\n",
      " qual a sua jogada ? 2\n",
      "*****************************\n",
      " o computador escolheu papel\n",
      " o jogador escolheu tesoura\n",
      "**************************\n",
      "\n",
      "ganhou\n"
     ]
    }
   ],
   "source": [
    "from random import *\n",
    "\n",
    "maquina = randint(0,2)\n",
    "itens = ('pedra', 'papel', 'tesoura')\n",
    "\n",
    "print(\"suas opções:\\n\\n[0] pedra\\n[1] papel\\n[2] tesoura\\n\")\n",
    "\n",
    "usuario=int(input(\" qual a sua jogada ? \"))\n",
    "\n",
    "print(\"*\"*29)\n",
    "print(f\" o computador escolheu {itens[maquina]}\\n o jogador escolheu {itens[usuario]}\")\n",
    "print(\"*\"*26)\n",
    "print()\n",
    "\n",
    "# me baseio pela jogada da máquina e crio os possiveis cenários para a jogada do usuário\n",
    "if maquina == 0:\n",
    "    \n",
    "    if usuario == 0:\n",
    "        print(\"Empate\")\n",
    "        \n",
    "    elif usuario == 1:\n",
    "        print(\"ganhou\") \n",
    "        \n",
    "    else:\n",
    "        print(\"perdeu\")\n",
    "\n",
    "elif maquina == 1: # papel\n",
    "    \n",
    "    if usuario == 0:\n",
    "        print(\"perdeu\")\n",
    "        \n",
    "    elif usuario == 1:\n",
    "        print(\"Empate\")  \n",
    "        \n",
    "    else:\n",
    "        print(\"ganhou\")\n",
    "        \n",
    "\n",
    "else: # tesoura\n",
    "    \n",
    "    if usuario == 0:\n",
    "        print(\"ganhou\")\n",
    "    \n",
    "    elif usuario == 1:\n",
    "        print(\"perdeu\")\n",
    "    \n",
    "    else:\n",
    "        print(\"Empate\")"
   ]
  }
 ],
 "metadata": {
  "kernelspec": {
   "display_name": "Python 3 (ipykernel)",
   "language": "python",
   "name": "python3"
  },
  "language_info": {
   "codemirror_mode": {
    "name": "ipython",
    "version": 3
   },
   "file_extension": ".py",
   "mimetype": "text/x-python",
   "name": "python",
   "nbconvert_exporter": "python",
   "pygments_lexer": "ipython3",
   "version": "3.9.7"
  }
 },
 "nbformat": 4,
 "nbformat_minor": 5
}
