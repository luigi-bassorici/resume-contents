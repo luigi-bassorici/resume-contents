{
 "cells": [
  {
   "cell_type": "markdown",
   "id": "a0e2b5c7",
   "metadata": {},
   "source": [
    "receber dois números e dizer qual é o maior e qual é o menor"
   ]
  },
  {
   "cell_type": "code",
   "execution_count": 2,
   "id": "7417a000",
   "metadata": {},
   "outputs": [
    {
     "name": "stdout",
     "output_type": "stream",
     "text": [
      "Enter of the first number: 154\n",
      "Enter of the second number: 154\n",
      "\n",
      "both are the same\n"
     ]
    }
   ],
   "source": [
    "num1 = int(input(\"Enter of the first number: \" ))\n",
    "num2 = int(input(\"Enter of the second number: \" ))\n",
    "\n",
    "if num1 > num2 :\n",
    "    print(f\"\\n{num1} it's the largest number and {num2} it's the smaller number\")\n",
    "\n",
    "elif num1 < num2:\n",
    "    print(f\"\\n{num2} it's the largest number and {num1} it's the smaller number\")\n",
    "\n",
    "else:\n",
    "    print(\"\\nboth are the same\")"
   ]
  }
 ],
 "metadata": {
  "kernelspec": {
   "display_name": "Python 3 (ipykernel)",
   "language": "python",
   "name": "python3"
  },
  "language_info": {
   "codemirror_mode": {
    "name": "ipython",
    "version": 3
   },
   "file_extension": ".py",
   "mimetype": "text/x-python",
   "name": "python",
   "nbconvert_exporter": "python",
   "pygments_lexer": "ipython3",
   "version": "3.9.7"
  }
 },
 "nbformat": 4,
 "nbformat_minor": 5
}
