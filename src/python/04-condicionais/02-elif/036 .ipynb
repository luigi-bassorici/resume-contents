{
 "cells": [
  {
   "cell_type": "markdown",
   "id": "1bc4c016",
   "metadata": {},
   "source": [
    "36 se o a parcela atingir 30% ou menos do salário da pessoa realizar o empréstimo"
   ]
  },
  {
   "cell_type": "code",
   "execution_count": null,
   "id": "02eb0bd7",
   "metadata": {},
   "outputs": [],
   "source": [
    "custo_da_casa = float(input(\" what is the value of the house? \" ))\n",
    "salário = float(input(\"what is the value of the your salary monthly? \" ))\n",
    "anos = int(input(\"how many years do you want to pay? \" ))\n",
    "\n",
    "parcela = custo_da_casa / anos / 12\n",
    "\n",
    "if parcela < salário * 0.3:\n",
    "    print(\"loan denied\")\n",
    "else:\n",
    "    print(\"loan accepted\")"
   ]
  }
 ],
 "metadata": {
  "kernelspec": {
   "display_name": "Python 3 (ipykernel)",
   "language": "python",
   "name": "python3"
  },
  "language_info": {
   "codemirror_mode": {
    "name": "ipython",
    "version": 3
   },
   "file_extension": ".py",
   "mimetype": "text/x-python",
   "name": "python",
   "nbconvert_exporter": "python",
   "pygments_lexer": "ipython3",
   "version": "3.9.7"
  }
 },
 "nbformat": 4,
 "nbformat_minor": 5
}
