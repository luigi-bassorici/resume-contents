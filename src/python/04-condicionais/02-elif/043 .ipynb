{
 "cells": [
  {
   "cell_type": "markdown",
   "id": "b0b78385",
   "metadata": {},
   "source": [
    "receber o peso e altura e classificar o imc"
   ]
  },
  {
   "cell_type": "code",
   "execution_count": 4,
   "id": "465f5710",
   "metadata": {},
   "outputs": [
    {
     "name": "stdout",
     "output_type": "stream",
     "text": [
      "digite o seu peso (90): 120\n",
      "digite sua altura(1.78): 1.75\n",
      "obeso\n",
      "39.183673469387756\n"
     ]
    }
   ],
   "source": [
    "peso = float(input(\"digite o seu peso (90): \" ))\n",
    "altura = float(input(\"digite sua altura(1.78): \" ))\n",
    "\n",
    "imc = peso/altura**2\n",
    "\n",
    "\n",
    "if imc<18.5:\n",
    "    print(\"abaixo do peso\")\n",
    "elif imc <=25:\n",
    "    print(\"peso ideal \")\n",
    "elif imc<=30:\n",
    "    print(\"acima do peso\")\n",
    "elif imc<=40:\n",
    "    print(\"obeso\")\n",
    "else:\n",
    "    print(\"obeso mórbido\")\n",
    "\n",
    "print(imc)"
   ]
  }
 ],
 "metadata": {
  "kernelspec": {
   "display_name": "Python 3 (ipykernel)",
   "language": "python",
   "name": "python3"
  },
  "language_info": {
   "codemirror_mode": {
    "name": "ipython",
    "version": 3
   },
   "file_extension": ".py",
   "mimetype": "text/x-python",
   "name": "python",
   "nbconvert_exporter": "python",
   "pygments_lexer": "ipython3",
   "version": "3.9.7"
  }
 },
 "nbformat": 4,
 "nbformat_minor": 5
}
