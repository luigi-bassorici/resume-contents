{
 "cells": [
  {
   "cell_type": "markdown",
   "id": "479042c8",
   "metadata": {},
   "source": [
    "Criar um programa que pense em um numero aleatório e o usuario tente adivinhar qual é o número"
   ]
  },
  {
   "cell_type": "code",
   "execution_count": 3,
   "id": "3bf6b1a1",
   "metadata": {},
   "outputs": [
    {
     "name": "stdout",
     "output_type": "stream",
     "text": [
      "vou pensar em um número entre 1 e 5, tenta adivinhar:2\n",
      "\n",
      "Vc ganhou! 2 realmente era o número em que eu estava pensando. \n"
     ]
    }
   ],
   "source": [
    "from random import *\n",
    "\n",
    "computer=randint(1,5)\n",
    "\n",
    "player = int(input(\"vou pensar em um número entre 1 e 5, tenta adivinhar:\"))\n",
    "\n",
    "if computer == player:\n",
    "  print(f\"\\nVc ganhou! {computer} realmente era o número em que eu estava pensando. \")\n",
    "\n",
    "else:\n",
    "  print(f\"\\nVc perdeu! o número que eu pensei foi {computer}. \")"
   ]
  }
 ],
 "metadata": {
  "kernelspec": {
   "display_name": "Python 3 (ipykernel)",
   "language": "python",
   "name": "python3"
  },
  "language_info": {
   "codemirror_mode": {
    "name": "ipython",
    "version": 3
   },
   "file_extension": ".py",
   "mimetype": "text/x-python",
   "name": "python",
   "nbconvert_exporter": "python",
   "pygments_lexer": "ipython3",
   "version": "3.9.7"
  }
 },
 "nbformat": 4,
 "nbformat_minor": 5
}
