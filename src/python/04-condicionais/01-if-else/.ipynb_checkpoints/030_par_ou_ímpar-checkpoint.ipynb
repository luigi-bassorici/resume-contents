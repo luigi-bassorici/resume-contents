{
 "cells": [
  {
   "cell_type": "markdown",
   "id": "c154fe80",
   "metadata": {},
   "source": [
    "dizer se o número inputado é par ou ímpar"
   ]
  },
  {
   "cell_type": "code",
   "execution_count": 2,
   "id": "4ea0f5ef",
   "metadata": {},
   "outputs": [
    {
     "name": "stdout",
     "output_type": "stream",
     "text": [
      "digite um número e eu digo se é par ou impar: 15486445\n",
      "esse número é ímpar\n"
     ]
    }
   ],
   "source": [
    "n=int(input(\"digite um número e eu digo se é par ou impar: \"))\n",
    "\n",
    "if n %2==1:\n",
    "  print('esse número é ímpar')\n",
    "\n",
    "else:\n",
    "  print('esse número é par')"
   ]
  }
 ],
 "metadata": {
  "kernelspec": {
   "display_name": "Python 3 (ipykernel)",
   "language": "python",
   "name": "python3"
  },
  "language_info": {
   "codemirror_mode": {
    "name": "ipython",
    "version": 3
   },
   "file_extension": ".py",
   "mimetype": "text/x-python",
   "name": "python",
   "nbconvert_exporter": "python",
   "pygments_lexer": "ipython3",
   "version": "3.9.7"
  }
 },
 "nbformat": 4,
 "nbformat_minor": 5
}
