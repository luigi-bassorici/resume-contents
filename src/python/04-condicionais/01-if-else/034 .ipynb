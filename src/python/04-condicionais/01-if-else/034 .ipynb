{
 "cells": [
  {
   "cell_type": "markdown",
   "id": "7aacb139",
   "metadata": {},
   "source": [
    "aumento de salário de acordo com o salário atual +10% ou +15%"
   ]
  },
  {
   "cell_type": "code",
   "execution_count": 5,
   "id": "43514c31",
   "metadata": {},
   "outputs": [
    {
     "name": "stdout",
     "output_type": "stream",
     "text": [
      "digite seu salário para saber o aumento: 1555\n",
      "\n",
      "vc receberá $233.25 a mais\n",
      "\n",
      "seu novo salário é $1788.25\n"
     ]
    }
   ],
   "source": [
    "salário = int(input(\"digite seu salário para saber o aumento: \"))\n",
    "\n",
    "aumento1 = salário * 0.1\n",
    "aumento2 = salário * 0.15\n",
    "\n",
    "if salário > 1250:\n",
    "  print(f\"\\nvc receberá ${aumento2:.2f} a mais\\n\\nseu novo salário é ${salário+aumento2:.2f}\")\n",
    "else:\n",
    "  print(f\"\\nvc receberá ${aumento1:.2f} a mais\\n\\nseu novo salário é ${salário+aumento1:.2f}\")"
   ]
  }
 ],
 "metadata": {
  "kernelspec": {
   "display_name": "Python 3 (ipykernel)",
   "language": "python",
   "name": "python3"
  },
  "language_info": {
   "codemirror_mode": {
    "name": "ipython",
    "version": 3
   },
   "file_extension": ".py",
   "mimetype": "text/x-python",
   "name": "python",
   "nbconvert_exporter": "python",
   "pygments_lexer": "ipython3",
   "version": "3.9.7"
  }
 },
 "nbformat": 4,
 "nbformat_minor": 5
}
