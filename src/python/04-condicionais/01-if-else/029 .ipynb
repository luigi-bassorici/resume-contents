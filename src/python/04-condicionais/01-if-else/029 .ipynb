{
 "cells": [
  {
   "cell_type": "markdown",
   "id": "e5b4561c",
   "metadata": {},
   "source": [
    "Crie um programa que multe uma pessoa que está acima da velocidade permitida (7 R$ por km acima de 80)"
   ]
  },
  {
   "cell_type": "code",
   "execution_count": 1,
   "id": "0ef9096e",
   "metadata": {},
   "outputs": [
    {
     "name": "stdout",
     "output_type": "stream",
     "text": [
      "sensor: 120\n",
      "limite excedido em 40km/h, multa de R$280.00\n"
     ]
    }
   ],
   "source": [
    "limite = 80\n",
    "sensor = float(input(\"sensor: \"))\n",
    "\n",
    "if sensor <= limite:\n",
    "  print(\"dentro da lei\")\n",
    "else:\n",
    "  print(f\"limite excedido em {sensor-limite:.0f}km/h, multa de R${(sensor-limite)*7:.2f}\")"
   ]
  }
 ],
 "metadata": {
  "kernelspec": {
   "display_name": "Python 3 (ipykernel)",
   "language": "python",
   "name": "python3"
  },
  "language_info": {
   "codemirror_mode": {
    "name": "ipython",
    "version": 3
   },
   "file_extension": ".py",
   "mimetype": "text/x-python",
   "name": "python",
   "nbconvert_exporter": "python",
   "pygments_lexer": "ipython3",
   "version": "3.9.7"
  }
 },
 "nbformat": 4,
 "nbformat_minor": 5
}
