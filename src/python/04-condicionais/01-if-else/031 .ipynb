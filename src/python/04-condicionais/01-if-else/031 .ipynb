{
 "cells": [
  {
   "cell_type": "markdown",
   "id": "0e55ced7",
   "metadata": {},
   "source": [
    "criar um progrma que diga o preço da viagem de acordo com a distancia e as tarifas da compania"
   ]
  },
  {
   "cell_type": "code",
   "execution_count": 2,
   "id": "b825a710",
   "metadata": {},
   "outputs": [
    {
     "name": "stdout",
     "output_type": "stream",
     "text": [
      "Digite a quilometragem da viagem: 15\n",
      "\n",
      "A sua passagem vai custar R$7.50\n"
     ]
    }
   ],
   "source": [
    "km = int(input(\"Digite a quilometragem da viagem: \"))\n",
    "\n",
    "tarifa_longas = 0.45\n",
    "tarifa_curtas = 0.5\n",
    "\n",
    "if km <= 200:\n",
    "  print(f\"\\nA sua passagem vai custar R${km*tarifa_curtas:.2f}\")\n",
    "else:\n",
    "  print(f\"\\nA sua passagem vai custar R${km*tarifa_longas:.2f}\")"
   ]
  }
 ],
 "metadata": {
  "kernelspec": {
   "display_name": "Python 3 (ipykernel)",
   "language": "python",
   "name": "python3"
  },
  "language_info": {
   "codemirror_mode": {
    "name": "ipython",
    "version": 3
   },
   "file_extension": ".py",
   "mimetype": "text/x-python",
   "name": "python",
   "nbconvert_exporter": "python",
   "pygments_lexer": "ipython3",
   "version": "3.9.7"
  }
 },
 "nbformat": 4,
 "nbformat_minor": 5
}
