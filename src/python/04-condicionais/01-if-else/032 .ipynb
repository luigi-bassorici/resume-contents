{
 "cells": [
  {
   "cell_type": "markdown",
   "id": "097b745f",
   "metadata": {},
   "source": [
    "criar um prog. que diga se o ano inputado é bissexto ou não"
   ]
  },
  {
   "cell_type": "code",
   "execution_count": 3,
   "id": "32495015",
   "metadata": {},
   "outputs": [
    {
     "name": "stdout",
     "output_type": "stream",
     "text": [
      "\n",
      "digite o ano: 1548\n",
      "\n",
      "O ano 1548 é bissexto\n"
     ]
    }
   ],
   "source": [
    "a = int(input(\"\\ndigite o ano: \" ))\n",
    "\n",
    "if a % 4 == 0 and a % 100 != 0 or a % 400 == 0:\n",
    "  print(f\"\\nO ano {a} é bissexto\")\n",
    "else:\n",
    "  print(f\"\\nO ano {a} não é bissexto\")"
   ]
  }
 ],
 "metadata": {
  "kernelspec": {
   "display_name": "Python 3.10.4 64-bit",
   "language": "python",
   "name": "python3"
  },
  "language_info": {
   "codemirror_mode": {
    "name": "ipython",
    "version": 3
   },
   "file_extension": ".py",
   "mimetype": "text/x-python",
   "name": "python",
   "nbconvert_exporter": "python",
   "pygments_lexer": "ipython3",
   "version": "3.10.4"
  },
  "vscode": {
   "interpreter": {
    "hash": "916dbcbb3f70747c44a77c7bcd40155683ae19c65e1c03b4aa3499c5328201f1"
   }
  }
 },
 "nbformat": 4,
 "nbformat_minor": 5
}
