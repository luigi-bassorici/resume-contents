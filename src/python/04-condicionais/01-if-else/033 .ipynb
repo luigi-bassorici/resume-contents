{
 "cells": [
  {
   "cell_type": "markdown",
   "id": "7acc4088",
   "metadata": {},
   "source": [
    "criar um prog. que receba 3 números e os compare dizendo o maior dos 3 e o menor dos 3"
   ]
  },
  {
   "cell_type": "code",
   "execution_count": 15,
   "id": "00d42594",
   "metadata": {},
   "outputs": [
    {
     "name": "stdout",
     "output_type": "stream",
     "text": [
      "enter the first number: 154\n",
      "enter the second number: 154\n",
      "enter the third number: 154\n",
      "\n",
      "154 número é o maior\n",
      "\n",
      "154 número é o maior\n",
      "\n",
      "154 número é o maior\n",
      "\n",
      "154 número é o menor\n",
      "\n",
      "154 número é o menor\n",
      "\n",
      "154 número é o menor\n",
      "os 3 números são iguais\n"
     ]
    }
   ],
   "source": [
    "n1 = int(input(\"enter the first number: \"))\n",
    "n2 = int(input(\"enter the second number: \"))\n",
    "n3 =i nt(input(\"enter the third number: \"))\n",
    "\n",
    "# maiores\n",
    "if n1 > n2 and n1 > n3:\n",
    "    print(f\"\\n{n1} número é o maior\")\n",
    "\n",
    "if n2 > n1 and n2 > n3:\n",
    "    print(f\"\\n{n2} número é o maior\")\n",
    "    \n",
    "if n3 > n1 and n3 > n2:\n",
    "    print(f\"\\n{n3} número é o maior\")\n",
    "\n",
    "# menores\n",
    "if n1 < n2 and n1 < n3:\n",
    "    print(f\"\\n{n1} número é o menor\")\n",
    "\n",
    "if n2 < n1 and n2 < n3:\n",
    "    print(f\"\\n{n2} número é o menor\")\n",
    "    \n",
    "if n3 < n1 and n3 < n2:\n",
    "    print(f\"\\n{n3} número é o menor\")\n",
    "    \n",
    "# iguais\n",
    "if n1 == n2 and n2 == n3:\n",
    "    print(\"os 3 números são iguais\")"
   ]
  }
 ],
 "metadata": {
  "kernelspec": {
   "display_name": "Python 3.10.4 64-bit",
   "language": "python",
   "name": "python3"
  },
  "language_info": {
   "codemirror_mode": {
    "name": "ipython",
    "version": 3
   },
   "file_extension": ".py",
   "mimetype": "text/x-python",
   "name": "python",
   "nbconvert_exporter": "python",
   "pygments_lexer": "ipython3",
   "version": "3.10.4"
  },
  "vscode": {
   "interpreter": {
    "hash": "916dbcbb3f70747c44a77c7bcd40155683ae19c65e1c03b4aa3499c5328201f1"
   }
  }
 },
 "nbformat": 4,
 "nbformat_minor": 5
}
