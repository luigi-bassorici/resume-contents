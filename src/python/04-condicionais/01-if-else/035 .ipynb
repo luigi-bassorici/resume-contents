{
 "cells": [
  {
   "cell_type": "raw",
   "id": "76e59c0e",
   "metadata": {},
   "source": [
    "verificar se os valores inputados formam um triangulo"
   ]
  },
  {
   "cell_type": "code",
   "execution_count": null,
   "id": "2d16fc23",
   "metadata": {},
   "outputs": [
    {
     "name": "stdout",
     "output_type": "stream",
     "text": [
      "Enter three values to see if it forms a triangle\n",
      "enter the value of the first side: 15\n"
     ]
    }
   ],
   "source": [
    "print(\"Enter three values to see if it forms a triangle\")\n",
    "\n",
    "s1 = float(input(\"enter the value of the first side: \" ))\n",
    "s2 = float(input(\"enter the value of the second side \" ))\n",
    "s3 = float(input(\"enter the value of the third side \" ))\n",
    "\n",
    "if s1 < s2 + s3 and s2 < s3 + s1 and s3 < s2 + s1:\n",
    "  print(\"these values form a triangle\")\n",
    "else:\n",
    "  print(\"these values do not form a triangle\")"
   ]
  }
 ],
 "metadata": {
  "kernelspec": {
   "display_name": "Python 3 (ipykernel)",
   "language": "python",
   "name": "python3"
  },
  "language_info": {
   "codemirror_mode": {
    "name": "ipython",
    "version": 3
   },
   "file_extension": ".py",
   "mimetype": "text/x-python",
   "name": "python",
   "nbconvert_exporter": "python",
   "pygments_lexer": "ipython3",
   "version": "3.9.7"
  }
 },
 "nbformat": 4,
 "nbformat_minor": 5
}
