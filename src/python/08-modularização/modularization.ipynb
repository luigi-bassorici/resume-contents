{
 "cells": [
  {
   "cell_type": "markdown",
   "id": "7bdf87b5",
   "metadata": {},
   "source": [
    "# modularização"
   ]
  },
  {
   "cell_type": "markdown",
   "id": "6fe72ada",
   "metadata": {},
   "source": [
    "imagine > todos os comandos de um programa complexo estando juntos em um mesmo arquivo .py\n",
    "\n",
    "seria um arquivo enorme e uma bagunça, a modularização significa repartir os diferentes comandos em um sistemade organização de pastas, como funciona em um smartphone por exemplo.\n",
    "\n",
    "a modularização é boa para:\n",
    "\n",
    "- dividir os blocos de comandos que tratam de areas especificas do programa geral\n",
    "\n",
    "- melhorar a compreensão do códio, logo o ajuda no CRM\n",
    "\n",
    "- torna mais fácil a busca por um problema \n",
    "\n",
    "- torna a manutenção mais acessivel\n",
    "\n",
    "- serve para abstração durante a análise de dados"
   ]
  },
  {
   "cell_type": "markdown",
   "id": "560602f5",
   "metadata": {},
   "source": [
    "#####  aqui é que as funções desenvolvidas por mim (além de outros frameworks) sejam quardadas dentro do meu projeto, separadas por pastas , e que exista uma pasta apenas com arquivos que tenham apenas def's"
   ]
  },
  {
   "cell_type": "markdown",
   "id": "61d49d77",
   "metadata": {},
   "source": [
    "# módulos"
   ]
  },
  {
   "cell_type": "markdown",
   "id": "3b31e9bb",
   "metadata": {},
   "source": [
    "são arquivos .py com várias funções\n",
    "\n",
    "essas funções podem ser usadas fora destes arquivos"
   ]
  },
  {
   "cell_type": "markdown",
   "id": "7d92a4e6",
   "metadata": {},
   "source": [
    "#### como importar funções orgânicas \n",
    "\n",
    "para usar uma função é preciso chamar o módulo no qual ela consta, a sintaxe é a seguinte:"
   ]
  },
  {
   "cell_type": "code",
   "execution_count": 10,
   "id": "336c6cb6",
   "metadata": {},
   "outputs": [
    {
     "ename": "ModuleNotFoundError",
     "evalue": "No module named 'nome_do_módulo'",
     "output_type": "error",
     "traceback": [
      "\u001b[1;31m---------------------------------------------------------------------------\u001b[0m",
      "\u001b[1;31mModuleNotFoundError\u001b[0m                       Traceback (most recent call last)",
      "\u001b[1;32m~\\AppData\\Local\\Temp/ipykernel_5848/3005674316.py\u001b[0m in \u001b[0;36m<module>\u001b[1;34m\u001b[0m\n\u001b[1;32m----> 1\u001b[1;33m \u001b[1;32mimport\u001b[0m \u001b[0mnome_do_módulo\u001b[0m\u001b[1;33m\u001b[0m\u001b[1;33m\u001b[0m\u001b[0m\n\u001b[0m",
      "\u001b[1;31mModuleNotFoundError\u001b[0m: No module named 'nome_do_módulo'"
     ]
    }
   ],
   "source": [
    "import nome_do_módulo "
   ]
  },
  {
   "cell_type": "markdown",
   "id": "f2bb7b54",
   "metadata": {},
   "source": [
    "o módulo precisa estar na mesma pasta do arquivo que o chama , precisam ser arquivos vizinhos\n",
    "\n",
    "caso contrário é preciso explicar o local ao importar, a sintaxe é a seguinte:"
   ]
  },
  {
   "cell_type": "code",
   "execution_count": null,
   "id": "f8dbcd83",
   "metadata": {},
   "outputs": [],
   "source": [
    "from pasta import nome_do_módulo"
   ]
  },
  {
   "cell_type": "markdown",
   "id": "cdbd6b85",
   "metadata": {},
   "source": [
    "caso o módulo ainda sim esteja dentro de uma pasta que está dentro de outra pasta ... \n",
    "\n",
    "é preciso trilhar todo o caminho para chegar ao arquivo .py\n",
    "\n",
    "a sintaxe é simples"
   ]
  },
  {
   "cell_type": "code",
   "execution_count": null,
   "id": "b2600e5e",
   "metadata": {},
   "outputs": [],
   "source": [
    "from pasta1.pasta2.pasta3.pasta4... import nome_do_módulo"
   ]
  },
  {
   "cell_type": "markdown",
   "id": "d8e58d65",
   "metadata": {},
   "source": [
    "# como usar a função"
   ]
  },
  {
   "cell_type": "markdown",
   "id": "bbc13959",
   "metadata": {},
   "source": [
    "é obrigatório o avisar o nome do modulo antes do nome da função\n",
    "\n",
    "pois podem haver funções iguais de bibliotecaas diferentes"
   ]
  },
  {
   "cell_type": "code",
   "execution_count": null,
   "id": "6693ba3e",
   "metadata": {},
   "outputs": [],
   "source": [
    "x = modulo.função('luigi')\n",
    "\n",
    "# é indicado que se use AS-pelido"
   ]
  },
  {
   "cell_type": "markdown",
   "id": "8717b0f1",
   "metadata": {},
   "source": [
    "# pacotes"
   ]
  },
  {
   "cell_type": "markdown",
   "id": "3cf4fae3",
   "metadata": {},
   "source": [
    "pacotes in python, são as bibliotecas que são nada mais que as já mensionadas pastas, porém contendo apenas arquivos.py com def's ou seja:\n",
    "\n",
    "pacotes são pastas cheias de modulos\n"
   ]
  }
 ],
 "metadata": {
  "kernelspec": {
   "display_name": "Python 3 (ipykernel)",
   "language": "python",
   "name": "python3"
  },
  "language_info": {
   "codemirror_mode": {
    "name": "ipython",
    "version": 3
   },
   "file_extension": ".py",
   "mimetype": "text/x-python",
   "name": "python",
   "nbconvert_exporter": "python",
   "pygments_lexer": "ipython3",
   "version": "3.9.12"
  },
  "toc": {
   "base_numbering": 1,
   "nav_menu": {},
   "number_sections": true,
   "sideBar": true,
   "skip_h1_title": false,
   "title_cell": "Table of Contents",
   "title_sidebar": "Contents",
   "toc_cell": false,
   "toc_position": {},
   "toc_section_display": true,
   "toc_window_display": false
  },
  "varInspector": {
   "cols": {
    "lenName": 16,
    "lenType": 16,
    "lenVar": 40
   },
   "kernels_config": {
    "python": {
     "delete_cmd_postfix": "",
     "delete_cmd_prefix": "del ",
     "library": "var_list.py",
     "varRefreshCmd": "print(var_dic_list())"
    },
    "r": {
     "delete_cmd_postfix": ") ",
     "delete_cmd_prefix": "rm(",
     "library": "var_list.r",
     "varRefreshCmd": "cat(var_dic_list()) "
    }
   },
   "types_to_exclude": [
    "module",
    "function",
    "builtin_function_or_method",
    "instance",
    "_Feature"
   ],
   "window_display": false
  }
 },
 "nbformat": 4,
 "nbformat_minor": 5
}
