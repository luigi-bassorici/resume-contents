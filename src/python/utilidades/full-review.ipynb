{
 "cells": [
  {
   "cell_type": "code",
   "execution_count": null,
   "metadata": {
    "id": "r3MwhQXP3LRX"
   },
   "outputs": [],
   "source": [
    "input()\n"
   ]
  },
  {
   "cell_type": "markdown",
   "metadata": {
    "id": "kzO_zcT4om8L"
   },
   "source": [
    "#Revisão - variáveis á conversão de variáveis\n",
    "\n"
   ]
  },
  {
   "cell_type": "code",
   "execution_count": null,
   "metadata": {
    "colab": {
     "base_uri": "https://localhost:8080/"
    },
    "executionInfo": {
     "elapsed": 241,
     "status": "ok",
     "timestamp": 1648155326172,
     "user": {
      "displayName": "Luigi Bassorici",
      "photoUrl": "https://lh3.googleusercontent.com/a-/AOh14Giz1BUegY9jt1dK5WY32WVMcM4qIwK55ItRHkGx2A=s64",
      "userId": "10592039840440989447"
     },
     "user_tz": 180
    },
    "id": "bYJoQx0goLgq",
    "outputId": "560032f8-7c12-4283-fc40-47ad0c3dd333"
   },
   "outputs": [
    {
     "name": "stdout",
     "output_type": "stream",
     "text": [
      "1305\n"
     ]
    }
   ],
   "source": [
    "# variáveis \n",
    "# variavel é um comando que serve para atribur uma informação a um dado e armazenar esse dado(informação) na memória recente do computador assim eu posso apelidar uma informação ou dar valores para um dado\n",
    "nome = \"roberto\" #quando eu quiser que o cumputador entenda \"roberto\" eu digo \"nome\"       # precisa estar em aspas \"\"\n",
    "idade = 25\n",
    "\n",
    "# tipos de variáveis\n",
    "\n",
    "# numéricas \n",
    "int   # numeros inteiros , sem .\n",
    "x1 = 12\n",
    "float # numeros decimais .\n",
    "x2 = 12.75 # não se usa vírgula, sim o ponto \n",
    "\n",
    "# strings (frases nomes letras, caracteres que não possuem valor absoluto apenas são uma referência)\n",
    "str\n",
    "x3 = \"marcos\"\n",
    "x4 = \"digite o número de sua conta sem o dígito: \"\n",
    "x5 = \"2550\"\n",
    "\n",
    "# booleanas (verdadeiro ou falso)\n",
    "bool\n",
    "x6 = False\n",
    "x7 = True    # sempre com letra maiúscula\n",
    "\n",
    "# função type ()\n",
    "\n",
    "#a função serve para estancar a codagem e descobrir se uma variável é bool, int, float, ou str \n",
    "type(x5) # só funciona se essa for a ultima linha do código, e o computador só executa a ultima função type escrita\n",
    "\n",
    "# conversão de variáveis\n",
    "# a conversão de variáveis pode ser muito útil, já que ela pode alternar a forma como o computador lê uma variável (mudando a própria variável para sempre)\n",
    "x5 = int(x5) # ele está atribuindo um novo valor a \"x5\" e a operação apos = diz que esse novo valor é o antigo, porém agora nesse novo formato int\n",
    "\n",
    "print(x5-1245) # x5 era uma str e agora será tratado como número\n"
   ]
  },
  {
   "cell_type": "markdown",
   "metadata": {
    "id": "q5Zah6lU-zOt"
   },
   "source": [
    "#Revisão - função print á importar bibliotecas e módulos"
   ]
  },
  {
   "cell_type": "code",
   "execution_count": null,
   "metadata": {
    "colab": {
     "base_uri": "https://localhost:8080/"
    },
    "executionInfo": {
     "elapsed": 6248,
     "status": "ok",
     "timestamp": 1648164506165,
     "user": {
      "displayName": "Luigi Bassorici",
      "photoUrl": "https://lh3.googleusercontent.com/a-/AOh14Giz1BUegY9jt1dK5WY32WVMcM4qIwK55ItRHkGx2A=s64",
      "userId": "10592039840440989447"
     },
     "user_tz": 180
    },
    "id": "C1LuX15o-xtq",
    "outputId": "c9c040cb-b3be-4bc0-8b7f-a42af21dc582"
   },
   "outputs": [
    {
     "name": "stdout",
     "output_type": "stream",
     "text": [
      "frase descartável\n",
      "Luigi\n",
      "frase descartável\n",
      "quem digitou iso foi o  Luigi\n",
      "a renda do luigi é de:  4300\n",
      "Luigi tem 18 anos de idade e recebe R$3450 de salário e R$850 de renda passiva\n",
      "Luigi tem 18 anos e recebe um slário de R$3450\n",
      "digite uma informação e ela será dada á x =51257\n",
      "51257\n",
      " digite um número: 1542\n",
      "-1.0\n",
      "-1.0\n"
     ]
    }
   ],
   "source": [
    "# função print\n",
    "# a função print serve para exibir algo na tela, seja uma variável preexistente ou uma que esteja sendo criada jundo ao comando print\n",
    "print(\"frase descartável\") # não está guardando essa str como uma variável\n",
    "# existem várias formas de usar a função print\n",
    "idade=18\n",
    "nome=\"Luigi\"\n",
    "salário=3450\n",
    "renda_passiva=850\n",
    "\n",
    "print(nome)\n",
    "print(\"frase descartável\")\n",
    "print(\"quem digitou iso foi o \",nome) # posso misturar uma frase discartável com uma variável nessa lógica\n",
    "print(\"a renda do luigi é de: \",salário+renda_passiva) # posso realizar uma operação com asminhas variáveis, assim o computador exibirá apenas o resultado disso\n",
    "\n",
    "# método .format \n",
    "# com format eu posso colocar variáveis dentro da miinha str discartável\n",
    "\n",
    "print(f\"{nome} tem {idade} anos de idade e recebe R${salário} de salário e R${renda_passiva} de renda passiva\")   # forma reduzida\n",
    "print(\"{} tem {} anos e recebe um slário de R${}\".format(nome,idade,salário))      # forma original\n",
    "\n",
    "# função input\n",
    "# a função input é como um print, porem ela recolhe alguma informação e a armazena em uma variavel \n",
    "# a lógica é essa:   variavel recebe (print input( informação\n",
    "x=input(\"digite uma informação e ela será dada á x =\")\n",
    "print(x)\n",
    "# o retorno de uma informação vem sempre em str porque o print é feito ao usuario em str, portanto quando eu quiser converter a variável antes dela chegar eu indexo  comando de conversão de variável dentro do input usando essa lógica:\n",
    "\n",
    "\n",
    "v=float(input(\" digite um número: \")) # agora o numero que viria como palavra vai ser transformado em float (pode ser manipulavel com operações )\n",
    "\n",
    "# Importar bibliotecas\n",
    "# bibliotecas são conjuntos de funções que eu não existem nativamente no python\n",
    "# por exemplo, se eu precisar de alguma forma do numero pi , não é viável eu tentar descrever ele em uma variavel, portanto é mais prático que eu importe uma biblioteca ou apenas essa função de alguma biblioteca\n",
    "# como importar\n",
    "import math\n",
    "x = math.pi\n",
    "print (math.cos(x))\n",
    "# reduzir o nome da biblioteca \n",
    "import math as mt\n",
    "x= mt.pi\n",
    "print(mt.cos(x)) # assim eu só preciso digitar o \"apelido\"\n",
    "\n",
    "# tem também como eu puxar apnas a função que eu preciso de uma biblioteca ou até um mais de uma porém apenas aquelas em específico\n",
    "\n",
    "from math import pi,cos # traduzindo: importe pi e cos de math\n",
    "# assim eu posso usar apenas essas duas funções"
   ]
  },
  {
   "cell_type": "markdown",
   "metadata": {
    "id": "12Fp7rF65Rvd"
   },
   "source": [
    "#Condicional if - else"
   ]
  },
  {
   "cell_type": "code",
   "execution_count": null,
   "metadata": {
    "id": "n2JYJwGh5ReG"
   },
   "outputs": [],
   "source": [
    "# resumo if \n",
    "#significa \"se\"\n",
    "if condição_do_if:\n",
    "    # bloco de comandos só é executado se a condicional for verdadeira\n",
    "    comando_1 # a identação (tab) serve para separar a linha do if da linhado bloco de comandos , subordinando os comandos a condição\n",
    "    comando_2\n",
    "    ...\n",
    "    comando_m       # último comando do bloco\n",
    "\n",
    "comando_após_if # essa linha será executada sempre já que não está identada\n"
   ]
  },
  {
   "cell_type": "code",
   "execution_count": 2,
   "metadata": {
    "colab": {
     "base_uri": "https://localhost:8080/"
    },
    "executionInfo": {
     "elapsed": 3413,
     "status": "ok",
     "timestamp": 1648494897923,
     "user": {
      "displayName": "Luigi",
      "userId": "10592039840440989447"
     },
     "user_tz": 180
    },
    "id": "NsU-Kj1R8ZLD",
    "outputId": "79cba6ac-3476-404d-e7af-fb75df6c2039"
   },
   "outputs": [
    {
     "name": "stdout",
     "output_type": "stream",
     "text": [
      "digite um número de 0 á 10 : 14\n",
      "esse número é maior que 10, porfavor digite outro\n"
     ]
    }
   ],
   "source": [
    "# apenas if \n",
    "\n",
    "If=\"se sim\"\n",
    "# Exemplo da condicional if :\n",
    "x1=float(input('digite um número de 0 á 10 : '))\n",
    "\n",
    "if x1>10: # a condicional é a frase\n",
    "  # sendo verdade ele lê o bloco de comandos a baixo\n",
    "  print(\"esse número é maior que 10, porfavor digite outro! \")\n",
    "  print()\n",
    "  print('outro comando qualquer')\n",
    "print('comando sem identação') # esse comando será executado independente da condicional ser uma verdade ou não"
   ]
  },
  {
   "cell_type": "code",
   "execution_count": 4,
   "metadata": {
    "colab": {
     "base_uri": "https://localhost:8080/"
    },
    "executionInfo": {
     "elapsed": 2126,
     "status": "ok",
     "timestamp": 1648495414032,
     "user": {
      "displayName": "Luigi",
      "userId": "10592039840440989447"
     },
     "user_tz": 180
    },
    "id": "hQf7Zvsb9IGX",
    "outputId": "cb280af1-198a-443d-ad98-f50a89b74e2d"
   },
   "outputs": [
    {
     "name": "stdout",
     "output_type": "stream",
     "text": [
      "digite sua idade: 17\n",
      "você é menor de idade \n"
     ]
    }
   ],
   "source": [
    "# resumo if - else\n",
    "\n",
    "# else significa senão (se sim, se não)\n",
    "x2=float(input('digite sua idade: '))\n",
    "\n",
    "if x2 >= 18: \n",
    "  # se for verdade ele entra aqui\n",
    "  print('você é maior de idade ')\n",
    "else:\n",
    "  # se não for verdade ele entra aqui\n",
    "  print('você é menor de idade ')"
   ]
  },
  {
   "cell_type": "code",
   "execution_count": 6,
   "metadata": {
    "colab": {
     "base_uri": "https://localhost:8080/"
    },
    "executionInfo": {
     "elapsed": 5887,
     "status": "ok",
     "timestamp": 1648497206612,
     "user": {
      "displayName": "Luigi",
      "userId": "10592039840440989447"
     },
     "user_tz": 180
    },
    "id": "O6T-0kiYAlHo",
    "outputId": "9fca47d2-a2f8-4172-d90b-995158297c16"
   },
   "outputs": [
    {
     "name": "stdout",
     "output_type": "stream",
     "text": [
      "digite a sua nota: 7.2\n",
      "aprovado\n"
     ]
    }
   ],
   "source": [
    "#  condicional if - elif\n",
    "\n",
    "# sequencia de if - else 's \n",
    "\n",
    "# exemplo : eu preciso identificar 3 classificações da nota de um estudante \n",
    "# se tirar menos de 4 está reprovado direto \n",
    "# se tirar menos de 7 esta de recuperação direto\n",
    "# se tirar 7 ou mais está aprovado\n",
    "x=float(input('digite a sua nota: '))\n",
    "\n",
    "if x<4:\n",
    "  print(\"reprovado direto\") \n",
    "elif x<7:\n",
    "  print(\"recuperação\")\n",
    "else:\n",
    "  print(\"aprovado\")\n",
    "# reta e limite de velocidade\n",
    "# se eu colocasse apenas if - else, o programa iria entrar no bloco da primeira e da segunda condicional caso a primeira fosse verdade (3), ou seja ele diria reprovado direto e recuperação  \n"
   ]
  },
  {
   "cell_type": "markdown",
   "metadata": {
    "id": "H30YOpaHP28I"
   },
   "source": [
    "#Operações matemáticas básicas"
   ]
  },
  {
   "cell_type": "code",
   "execution_count": null,
   "metadata": {
    "id": "JCkr2y3eP3Ij"
   },
   "outputs": [],
   "source": [
    "# soma e subtração\n",
    "+\n",
    "-\n",
    "# multiplicação e potenciação \n",
    "a*b\n",
    "a**3> expoente\n",
    "# divisões \n",
    "/   # divisão comum\n",
    "\n",
    "//  # apenas a parte inteira\n",
    "\n",
    "%   # apenas a parte quebrada\n"
   ]
  }
 ],
 "metadata": {
  "colab": {
   "authorship_tag": "ABX9TyPo1sm6tlDUWDE7rliKWagr",
   "name": "Reviews.ipynb",
   "provenance": []
  },
  "kernelspec": {
   "display_name": "Python 3 (ipykernel)",
   "language": "python",
   "name": "python3"
  },
  "language_info": {
   "codemirror_mode": {
    "name": "ipython",
    "version": 3
   },
   "file_extension": ".py",
   "mimetype": "text/x-python",
   "name": "python",
   "nbconvert_exporter": "python",
   "pygments_lexer": "ipython3",
   "version": "3.9.7"
  }
 },
 "nbformat": 4,
 "nbformat_minor": 1
}
