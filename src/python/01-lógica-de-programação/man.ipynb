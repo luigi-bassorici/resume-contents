{
 "cells": [
  {
   "cell_type": "markdown",
   "metadata": {
    "id": "OSgtLRPjUr-9"
   },
   "source": [
    "# Tipos de variáveis"
   ]
  },
  {
   "cell_type": "markdown",
   "metadata": {},
   "source": [
    "# int - float"
   ]
  },
  {
   "cell_type": "markdown",
   "metadata": {},
   "source": [
    "são tipos de números\n",
    "variáveis desses tipos podem ser manipuladas matemáticamente\n",
    "\n",
    "var = 2 (posso multiplicar isso por 2 e terei 4 normalmente)"
   ]
  },
  {
   "cell_type": "code",
   "execution_count": 2,
   "metadata": {
    "id": "3BXSpt_xlgiu"
   },
   "outputs": [],
   "source": [
    "# int é um numero inteiro sem casas decimais\n",
    "ex = 46\n",
    "\n",
    "# float -> flutuante, representa números com ponto flutuante\n",
    "ex = 1045.85"
   ]
  },
  {
   "cell_type": "markdown",
   "metadata": {},
   "source": [
    "# str -> strings"
   ]
  },
  {
   "cell_type": "markdown",
   "metadata": {},
   "source": [
    "- são cadeias de caracteres\n",
    "- podem ser palavras, mas não apenas isso...\n",
    "- uma string sempre precisa estar em parenteses\n",
    "\n",
    "ex = \"jdifx--c6 3kjfh f77`^\" \n",
    "\n",
    "posso representar um número através de uma str, porém ele não será manipulável"
   ]
  },
  {
   "cell_type": "code",
   "execution_count": 3,
   "metadata": {
    "colab": {
     "base_uri": "https://localhost:8080/"
    },
    "executionInfo": {
     "elapsed": 5408,
     "status": "ok",
     "timestamp": 1648236687850,
     "user": {
      "displayName": "Luigi Bassorici",
      "photoUrl": "https://lh3.googleusercontent.com/a-/AOh14Giz1BUegY9jt1dK5WY32WVMcM4qIwK55ItRHkGx2A=s64",
      "userId": "10592039840440989447"
     },
     "user_tz": 180
    },
    "id": "tor8wScgUx7V",
    "outputId": "e80f03c2-56f3-44b6-b66b-abab7d47e158"
   },
   "outputs": [],
   "source": [
    "# servem para nomear, pode ser com qualquer simbolo, número ou letra\n",
    "nome = \"Luigi Bassorici\" # sempre em aspas\n",
    "idade = '17' #(isso não é manipulável matemáticamente, é apenas texto)\n",
    "código = 's12ad378-k5 5687-0' # pode ser qualquer caractere"
   ]
  },
  {
   "cell_type": "markdown",
   "metadata": {},
   "source": [
    "# bool -> booleana"
   ]
  },
  {
   "cell_type": "markdown",
   "metadata": {},
   "source": [
    "armazena uma informação binária,\n",
    "é 0 ou 1\n",
    "nesse caso ou é True ou False (verdadeiro e false respectivamente)\n",
    "\n",
    "- a sintaxe deve ser feita com a primeira letra maiúscula"
   ]
  },
  {
   "cell_type": "code",
   "execution_count": 4,
   "metadata": {
    "id": "MX8Li9xtlWDI"
   },
   "outputs": [
    {
     "name": "stdout",
     "output_type": "stream",
     "text": [
      "o interruptor está aceso\n"
     ]
    }
   ],
   "source": [
    "ex = False\n",
    "ex = True\n",
    "\n",
    "if ex == False:\n",
    "  print('o interruptor está apagado')\n",
    "if ex == True:\n",
    "  print('o interruptor está aceso')"
   ]
  },
  {
   "cell_type": "markdown",
   "metadata": {
    "id": "TE_oLxPSU2jC"
   },
   "source": [
    "# Função type ( )"
   ]
  },
  {
   "cell_type": "markdown",
   "metadata": {},
   "source": [
    "- a função type recebe o nome de uma variável como entrada e devolve  qual o tipo da variavel\n",
    "- eu posso usar esse retorno como um elemento dentro da minha lógica \n",
    "- a função type não printa por sí própria, ela apenas retorna a resposta\n",
    "- a função me retorna essa informação no formato <class 'type'> que por enquanto não sei oq significa\n",
    "\n",
    "\n",
    "a sintaxe é simples:"
   ]
  },
  {
   "cell_type": "code",
   "execution_count": 5,
   "metadata": {},
   "outputs": [
    {
     "name": "stdout",
     "output_type": "stream",
     "text": [
      "<class 'bool'>\n"
     ]
    },
    {
     "data": {
      "text/plain": [
       "type"
      ]
     },
     "execution_count": 5,
     "metadata": {},
     "output_type": "execute_result"
    }
   ],
   "source": [
    "ex = type(ex)\n",
    "print(ex)\n",
    "type(ex)"
   ]
  },
  {
   "cell_type": "code",
   "execution_count": 6,
   "metadata": {
    "colab": {
     "base_uri": "https://localhost:8080/"
    },
    "executionInfo": {
     "elapsed": 4,
     "status": "ok",
     "timestamp": 1647394519774,
     "user": {
      "displayName": "Luigi Bassorici",
      "photoUrl": "https://lh3.googleusercontent.com/a-/AOh14GjP3BVQ4to8UkZweC-QIUMppYmZrXA8Xyzk_25gZA=s64",
      "userId": "10592039840440989447"
     },
     "user_tz": 180
    },
    "id": "Qnx1kR02VPI1",
    "outputId": "2b2ed56f-d6f7-4b4a-8960-0546efd4759f"
   },
   "outputs": [
    {
     "name": "stdout",
     "output_type": "stream",
     "text": [
      "4\n"
     ]
    }
   ],
   "source": [
    "# a função type() serve para descrever qual é o tipo da variael\n",
    "\n",
    "x=4\n",
    "y=\"luigi\"\n",
    "z=123.45\n",
    "\n",
    "if type(x) is int:\n",
    "    print(x)"
   ]
  },
  {
   "cell_type": "markdown",
   "metadata": {
    "id": "4492-43kXZKM"
   },
   "source": [
    "# Conversão de variáveis"
   ]
  },
  {
   "cell_type": "markdown",
   "metadata": {},
   "source": [
    "posso mudar o tipo de uma variável, desde que ela se encaixe nas condições para se tornar daquele tipo, ex.:\n",
    "\n",
    "posso passar a str '123' para int, já que ela só possui caracteres numéricos, se fosse 'luigi' não faria sentido."
   ]
  },
  {
   "cell_type": "code",
   "execution_count": 16,
   "metadata": {
    "colab": {
     "base_uri": "https://localhost:8080/"
    },
    "executionInfo": {
     "elapsed": 339,
     "status": "ok",
     "timestamp": 1647394965724,
     "user": {
      "displayName": "Luigi Bassorici",
      "photoUrl": "https://lh3.googleusercontent.com/a-/AOh14GjP3BVQ4to8UkZweC-QIUMppYmZrXA8Xyzk_25gZA=s64",
      "userId": "10592039840440989447"
     },
     "user_tz": 180
    },
    "id": "k0Up8eArXYZ6",
    "outputId": "1947e32a-7cf8-458b-ae2e-64e8405092b7",
    "scrolled": true
   },
   "outputs": [
    {
     "data": {
      "text/plain": [
       "6"
      ]
     },
     "execution_count": 16,
     "metadata": {},
     "output_type": "execute_result"
    }
   ],
   "source": [
    "x1 = 5\n",
    "x2 = 7.5\n",
    "x3 = \"8.0\"\n",
    "\n",
    "x3 = floatt(x3)\n",
    "\n",
    "type(x2)\n",
    "x2"
   ]
  },
  {
   "cell_type": "markdown",
   "metadata": {
    "id": "n7geGsJvZOy9"
   },
   "source": [
    "# Função Print"
   ]
  },
  {
   "cell_type": "markdown",
   "metadata": {
    "id": "DvT5sJcnZa8Q"
   },
   "source": [
    "a função print 'imprime' no console (tela)"
   ]
  },
  {
   "cell_type": "code",
   "execution_count": 8,
   "metadata": {
    "colab": {
     "base_uri": "https://localhost:8080/"
    },
    "executionInfo": {
     "elapsed": 330,
     "status": "ok",
     "timestamp": 1647397160714,
     "user": {
      "displayName": "Luigi Bassorici",
      "photoUrl": "https://lh3.googleusercontent.com/a-/AOh14GjP3BVQ4to8UkZweC-QIUMppYmZrXA8Xyzk_25gZA=s64",
      "userId": "10592039840440989447"
     },
     "user_tz": 180
    },
    "id": "2Gu-JDjYZZ6k",
    "outputId": "302ef5e9-602c-4211-c1da-9ff2611be58e"
   },
   "outputs": [
    {
     "name": "stdout",
     "output_type": "stream",
     "text": [
      "3070.59\n",
      "\n",
      "aqui eu crio uma str\n",
      "\n",
      "idade de luigi daqui a 5 anos = 22\n"
     ]
    }
   ],
   "source": [
    "# diferentes formas de apresentar as coisas na tela\n",
    "x=4\n",
    "y=18\n",
    "salário=3070.59\n",
    "nome=\"Luigi\"\n",
    "\n",
    "# atenção ao uso de aspas \"\"\n",
    "print(salário) # uma variavel\n",
    "print()\n",
    "print(\"aqui eu crio uma str\") # str descartável\n",
    "print()\n",
    "print(\"idade de luigi daqui a 5 anos =\",x+y) # mais de uma variavel\n",
    "\n",
    "\n",
    "# %s str\n",
    "# %d int\n",
    "# %f float\n",
    "# %.2f serve para arredondar calculos, sendo \"2\" a quantidade de casas após a virgula (pra não ficar 1,66666667)"
   ]
  },
  {
   "cell_type": "markdown",
   "metadata": {
    "id": "oKeBwPfBTj26"
   },
   "source": [
    "# Metodo format > print\n",
    "\n",
    "a função format substitui os %d %s %f . {}\n",
    "\n",
    ".format serve para criar mascaras dentro de uma string em print, substituise a variável por \"{}\""
   ]
  },
  {
   "cell_type": "code",
   "execution_count": 9,
   "metadata": {
    "colab": {
     "base_uri": "https://localhost:8080/"
    },
    "executionInfo": {
     "elapsed": 267,
     "status": "ok",
     "timestamp": 1647894067124,
     "user": {
      "displayName": "Luigi Bassorici",
      "photoUrl": "https://lh3.googleusercontent.com/a-/AOh14Giz1BUegY9jt1dK5WY32WVMcM4qIwK55ItRHkGx2A=s64",
      "userId": "10592039840440989447"
     },
     "user_tz": 180
    },
    "id": "4Gk0IiWECkOz",
    "outputId": "49fdf5e7-0c1a-4756-fc0a-7a5ec276e0b1"
   },
   "outputs": [
    {
     "name": "stdout",
     "output_type": "stream",
     "text": [
      "Luigi tem 18 anos e recebe um salário de R$3070.55\n",
      "Luigi tem 18 anos e recebe um salário de R$3070.548\n",
      "Luigi tem 18 e recebe R$3070.55\n"
     ]
    }
   ],
   "source": [
    "# a vantagem do .format é que não precisa se ater a qual é a classificação da variável\n",
    "idade=18\n",
    "salário=3070.548\n",
    "nome=\"Luigi\" \n",
    "\n",
    "# com placeholders\n",
    "print(\"%s tem %d anos e recebe um salário de R$%.2f\" % (nome,idade,salário))\n",
    "\n",
    "# com .format\n",
    "print(\"{} tem {} anos e recebe um salário de R${}\".format(nome,idade,salário)) #os argumentos devem ser postos em ordem\n",
    "\n",
    "# atalho de .format\n",
    "print(f\"{nome} tem {idade} e recebe R${salário:.2f}\")\n",
    "\n",
    "# arredondamento do .format > {:.2f} (sendo nesse caso 2 o número de casasa serem exibidas)"
   ]
  },
  {
   "cell_type": "markdown",
   "metadata": {
    "id": "J5gcmm-rnGky"
   },
   "source": [
    "# Função input\n",
    "essa função cria uma caixa para entrada de dados"
   ]
  },
  {
   "cell_type": "code",
   "execution_count": 10,
   "metadata": {
    "colab": {
     "base_uri": "https://localhost:8080/"
    },
    "executionInfo": {
     "elapsed": 2981,
     "status": "ok",
     "timestamp": 1647534019440,
     "user": {
      "displayName": "Luigi Bassorici",
      "photoUrl": "https://lh3.googleusercontent.com/a-/AOh14GjP3BVQ4to8UkZweC-QIUMppYmZrXA8Xyzk_25gZA=s64",
      "userId": "10592039840440989447"
     },
     "user_tz": 180
    },
    "id": "-Aoc88-6mKlK",
    "outputId": "a72d9850-5f49-43d7-e2c8-3db7f443d9a2"
   },
   "outputs": [
    {
     "name": "stdout",
     "output_type": "stream",
     "text": [
      "\n"
     ]
    }
   ],
   "source": [
    "x=input(\"digite um número:\") #essa str será mostrada ao usuário com um epaço para que ele responda\n",
    "\n",
    "print(x)"
   ]
  },
  {
   "cell_type": "code",
   "execution_count": 11,
   "metadata": {
    "colab": {
     "base_uri": "https://localhost:8080/"
    },
    "executionInfo": {
     "elapsed": 7076,
     "status": "ok",
     "timestamp": 1647533264788,
     "user": {
      "displayName": "Luigi Bassorici",
      "photoUrl": "https://lh3.googleusercontent.com/a-/AOh14GjP3BVQ4to8UkZweC-QIUMppYmZrXA8Xyzk_25gZA=s64",
      "userId": "10592039840440989447"
     },
     "user_tz": 180
    },
    "id": "Uya-UDHln3_j",
    "outputId": "d09410a1-104a-4079-a4df-6ada7fdcf85d"
   },
   "outputs": [
    {
     "name": "stdout",
     "output_type": "stream",
     "text": [
      "olá luigi\n"
     ]
    }
   ],
   "source": [
    "nome=input(\"digite seu nome: \")\n",
    "\n",
    "print(\"olá\",nome) # uso assim para adicionar uma str principal"
   ]
  },
  {
   "cell_type": "code",
   "execution_count": 12,
   "metadata": {
    "id": "X6TFT6OtoyVy"
   },
   "outputs": [
    {
     "name": "stdout",
     "output_type": "stream",
     "text": [
      "23412341234\n",
      "123413579\n"
     ]
    }
   ],
   "source": [
    "# atenção\n",
    "x=input(\"digite um número: \") #str\n",
    "y=input(\"digite outro número: \") #str\n",
    "\n",
    "print(x+y)\n",
    "\n",
    "#input leva uma str, portanto os dados retornam em str, logo é necessário fazer uma conversão de variavél prévia\n",
    "\n",
    "z=3 #int\n",
    "z=float(z) #float , agora é 3.0\n",
    "\n",
    "x=float(input(\"digite um número: \")) #str > float\n",
    "y=float(input(\"digite outro número: \")) #str > float\n",
    "\n",
    "print(int(x+y)) #float > int"
   ]
  },
  {
   "cell_type": "markdown",
   "metadata": {
    "id": "D1FwgbL65SV6"
   },
   "source": [
    "# Importar bibliotecas ou de módulos\n",
    "bibliotecas são conjuntos de módulos, módulos são arquivos do python com instruções."
   ]
  },
  {
   "cell_type": "code",
   "execution_count": 13,
   "metadata": {
    "colab": {
     "base_uri": "https://localhost:8080/"
    },
    "executionInfo": {
     "elapsed": 242,
     "status": "ok",
     "timestamp": 1647657964417,
     "user": {
      "displayName": "Luigi Bassorici",
      "photoUrl": "https://lh3.googleusercontent.com/a-/AOh14GjP3BVQ4to8UkZweC-QIUMppYmZrXA8Xyzk_25gZA=s64",
      "userId": "10592039840440989447"
     },
     "user_tz": 180
    },
    "id": "D1duOaFA5RQy",
    "outputId": "6dc45d82-9e1f-4e22-b62b-b8d7b989b98d"
   },
   "outputs": [
    {
     "name": "stdout",
     "output_type": "stream",
     "text": [
      "-1.0\n",
      "-1.0\n",
      "-1.0\n"
     ]
    }
   ],
   "source": [
    "# o python realiza op. matemáticas básicas nativamente, porém para executar operações de calculadoras cientificas é nescessário importar uma biblioteca que traga com sigo instruções de conmo executar cada operação\n",
    "\n",
    "import math # como importar a biblioteca\n",
    "x= math.pi\n",
    "y=math.cos(x) # como usar: biblioteca.função(argumento) >> import lampions, lampions.print(x) \n",
    "\n",
    "print(y)\n",
    "\n",
    "\n",
    "import math as mt # dessa forma ao importar uma biblioteca eu já estou a abreviando , assim eu só uso mt dps\n",
    "x=mt.pi\n",
    "y=mt.cos(x)\n",
    "\n",
    "print(y)\n",
    "\n",
    "from math import cos,pi\n",
    "\n",
    "x=math.pi\n",
    "y=math.cos(x)\n",
    "print(y)\n",
    "\n",
    "# trad.: importe \"cos\" de \"math\"\n",
    "# serve para retirar apenas uma função de dentro da biblioteca ao invés de trazer toda a biblioteca\n",
    "# usar apenas em momentos especificamente curtos\n",
    "\n"
   ]
  },
  {
   "cell_type": "markdown",
   "metadata": {
    "id": "xiCmUNXu9rIT"
   },
   "source": [
    "# Arredondamento sem .format\n",
    "\n",
    "round"
   ]
  },
  {
   "cell_type": "code",
   "execution_count": 14,
   "metadata": {
    "colab": {
     "base_uri": "https://localhost:8080/"
    },
    "executionInfo": {
     "elapsed": 3,
     "status": "ok",
     "timestamp": 1647658061287,
     "user": {
      "displayName": "Luigi Bassorici",
      "photoUrl": "https://lh3.googleusercontent.com/a-/AOh14GjP3BVQ4to8UkZweC-QIUMppYmZrXA8Xyzk_25gZA=s64",
      "userId": "10592039840440989447"
     },
     "user_tz": 180
    },
    "id": "C0zEznx89yE6",
    "outputId": "9c3e86bd-8992-4b43-cfbb-8ee628c3a99c"
   },
   "outputs": [
    {
     "name": "stdout",
     "output_type": "stream",
     "text": [
      "3.47\n",
      "3.468\n"
     ]
    }
   ],
   "source": [
    "# dessa forma o arredondador realmente faz o >5<\n",
    "x=3.468457447869\n",
    "\n",
    "print(round(x,2))\n",
    "\n",
    "print(round(x,3))\n",
    "# sendo o número seguido de x é o que irá determinar até que casa decimal conciderar "
   ]
  }
 ],
 "metadata": {
  "colab": {
   "authorship_tag": "ABX9TyMSlkCwLiAIckpJ3o+jYfhw",
   "name": "programming_logic.ipynb",
   "provenance": []
  },
  "kernelspec": {
   "display_name": "Python 3.9.12 ('base')",
   "language": "python",
   "name": "python3"
  },
  "language_info": {
   "codemirror_mode": {
    "name": "ipython",
    "version": 3
   },
   "file_extension": ".py",
   "mimetype": "text/x-python",
   "name": "python",
   "nbconvert_exporter": "python",
   "pygments_lexer": "ipython3",
   "version": "3.9.12"
  },
  "vscode": {
   "interpreter": {
    "hash": "33b810481f1c9ddcdf4350e7b3277bcfdd865aba083de11948a72f0c94bfb615"
   }
  }
 },
 "nbformat": 4,
 "nbformat_minor": 1
}
