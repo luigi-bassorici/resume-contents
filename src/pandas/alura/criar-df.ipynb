{
 "cells": [],
 "metadata": {
  "kernelspec": {
   "display_name": "Python 3.10.4 ('venv': venv)",
   "language": "python",
   "name": "python3"
  },
  "language_info": {
   "codemirror_mode": {
    "name": "ipython",
    "version": 3
   },
   "file_extension": ".py",
   "mimetype": "text/x-python",
   "name": "python",
   "nbconvert_exporter": "python",
   "pygments_lexer": "ipython3",
   "version": "3.10.4"
  },
  "orig_nbformat": 4,
  "vscode": {
   "interpreter": {
    "hash": "94d098d1ff3700422bfbc5f0ac644824c38817c1a7468c8671264635dd686f01"
   }
  }
 },
 "nbformat": 4,
 "nbformat_minor": 2
}
